{
 "cells": [
  {
   "cell_type": "code",
   "execution_count": 273,
   "metadata": {},
   "outputs": [],
   "source": [
    "import numpy as np\n",
    "import heartpy as hp\n",
    "import sensormotion as sm\n",
    "import pandas as pd\n",
    "\n",
    "from scipy.signal import butter,filtfilt,find_peaks\n",
    "from scipy import stats\n",
    "from itertools import product\n",
    "import glob\n",
    "\n",
    "import matplotlib.pyplot as plt\n",
    "import plotly_express as px"
   ]
  },
  {
   "cell_type": "markdown",
   "metadata": {},
   "source": [
    "## Read files / Adjust Timestamps"
   ]
  },
  {
   "cell_type": "code",
   "execution_count": 241,
   "metadata": {},
   "outputs": [],
   "source": [
    "bvp_file_list = glob.glob(\"Performance3/*_bvp.csv\")\n",
    "eda_file_list = glob.glob(\"Performance3/*_eda.csv\")\n",
    "acc_file_list = glob.glob(\"Performance3/*_acc.csv\")"
   ]
  },
  {
   "cell_type": "code",
   "execution_count": 242,
   "metadata": {},
   "outputs": [],
   "source": [
    "df_bvp = dict()\n",
    "for file in bvp_file_list:\n",
    "    df_bvp[file[13:16]] = pd.read_csv(file).query('signalOK == 1')\n",
    "    \n",
    "df_eda =dict()\n",
    "for file in eda_file_list:\n",
    "    df_eda[file[13:16]] = pd.read_csv(file)\n",
    "    \n",
    "df_acc =dict()\n",
    "for file in acc_file_list:\n",
    "    df_acc[file[13:16]] = pd.read_csv(file)"
   ]
  },
  {
   "cell_type": "code",
   "execution_count": 243,
   "metadata": {},
   "outputs": [],
   "source": [
    "sublist = ['301','302','303', '304','305','306', '309', '312','313', '314', '317','319', '321', '322', '325', '326','327','328','329','330',\n",
    " '331', '334','335','340','341','342']"
   ]
  },
  {
   "cell_type": "code",
   "execution_count": 244,
   "metadata": {},
   "outputs": [],
   "source": [
    "def set_timepass(data, start):\n",
    "    data['timepass'] = data['localTime'] - start\n",
    "    data['timepassSec'] = round(data['timepass']/1000, ndigits= 0)\n",
    "    data['timepassMin'] = round(data['timepassSec']/60, ndigits= 0)\n",
    "    data = data.query('20< timepassMin< 95').reset_index()    # performance time duration \n",
    "    return data"
   ]
  },
  {
   "cell_type": "code",
   "execution_count": 245,
   "metadata": {},
   "outputs": [],
   "source": [
    "concated_list = []\n",
    "for key in df_bvp.keys():\n",
    "    concated_list.append(df_bvp[key])\n",
    "df_all = pd.concat(concated_list,axis=0)    \n",
    "earliestTime = df_all['localTime'].min()\n",
    "\n",
    "for key in sublist:\n",
    "    df_bvp[key] = set_timepass(df_bvp[key], earliestTime)\n",
    "    df_eda[key] = set_timepass(df_eda[key], earliestTime)\n",
    "    df_acc[key] = set_timepass(df_acc[key],earliestTime)\n",
    "    "
   ]
  },
  {
   "cell_type": "markdown",
   "metadata": {},
   "source": [
    "## Clean/Filter"
   ]
  },
  {
   "cell_type": "code",
   "execution_count": 246,
   "metadata": {},
   "outputs": [],
   "source": [
    "# calculate the root sum of squared three dimensional acc values\n",
    "rss_std = dict()\n",
    "\n",
    "for key in sublist:\n",
    "    b, a = sm.signal.build_filter(frequency=2, sample_rate=50, filter_type='low', filter_order=4)\n",
    "\n",
    "    df_acc[key]['accX_filtered'] = sm.signal.filter_signal(b, a, signal=df_acc[key]['accX'])\n",
    "    df_acc[key]['accY_filtered'] = sm.signal.filter_signal(b, a, signal=df_acc[key]['accY'])\n",
    "    df_acc[key]['accZ_filtered'] = sm.signal.filter_signal(b, a, signal=df_acc[key]['accZ'])\n",
    "    \n",
    "    df_acc[key]['rss'] = np.sqrt(df_acc[key]['accX_filtered']**2+df_acc[key]['accY_filtered']**2+df_acc[key]['accZ_filtered']**2)\n",
    "    rss_std[key] = df_acc[key]['rss'].std()\n",
    "    \n",
    "    df_acc[key]['rss_peaks_max'] = df_acc[key].iloc[ find_peaks(df_acc[key]['rss'], distance =25 ,prominence=rss_std[key]*1.5)[0]]['rss']\n",
    "    df_acc[key]['rss_peaks_min'] = df_acc[key].iloc[ find_peaks(df_acc[key]['rss']*-1, distance =25 ,prominence=rss_std[key]*1.5)[0]]['rss']"
   ]
  },
  {
   "cell_type": "code",
   "execution_count": 247,
   "metadata": {},
   "outputs": [],
   "source": [
    "#bvp low pass filter\n",
    "freq = 50\n",
    "fc = 3.5 # Cut-off frequency of the filter\n",
    "w = fc / (freq / 2) # Normalize the frequency\n",
    "b, a = butter(2, w, 'low')\n",
    "\n",
    "for key in sublist:\n",
    "\n",
    "    df_bvp[key] = pd.merge(df_bvp[key],df_acc[key],on=['remoteTime','timepass','timepassSec','timepassMin'],how = 'inner')\n",
    "    df_bvp[key]['peaks_combined'] = df_bvp[key]['rss_peaks_max'].astype(str) + df_bvp[key]['rss_peaks_min'].astype(str)\n",
    "    droplist = df_bvp[key][df_bvp[key]['peaks_combined'] !='nannan']['timepassSec'].unique().tolist()\n",
    "    df_bvp[key].drop(df_bvp[key][df_bvp[key]['timepassSec'].isin(droplist)].index,inplace = True)\n",
    "    \n",
    "    df_bvp[key]['bvp_filtered'] = filtfilt(b, a, df_bvp[key]['bvp'])\n",
    "    df_bvp[key] = df_bvp[key].loc[:,['remoteTime','timepass','timepassSec','timepassMin','bvp','bvp_filtered']]  \n"
   ]
  },
  {
   "cell_type": "markdown",
   "metadata": {},
   "source": [
    "## Explore/Plot"
   ]
  },
  {
   "cell_type": "code",
   "execution_count": 248,
   "metadata": {},
   "outputs": [],
   "source": [
    "def plot_peak_signal( start, end, data, time, signal1, signal2,marker1):\n",
    "    \n",
    "    plt.figure(figsize=(20,5))\n",
    "    plt.scatter(data[start:end][time], data[start:end][signal2], c='orange', s =10)\n",
    "    plt.scatter(data[start:end][time], data[start:end][signal1], c='blue', s =10)\n",
    "    plt.plot(data[start:end][time], data[start:end][signal2], c='grey')\n",
    "\n",
    "    plt.plot(data[start:end][time], data[start:end][marker1], 'o', c='green')\n",
    "\n",
    "    plt.show()"
   ]
  },
  {
   "cell_type": "markdown",
   "metadata": {},
   "source": [
    "### Detect RR-intervals"
   ]
  },
  {
   "cell_type": "code",
   "execution_count": 249,
   "metadata": {
    "collapsed": true
   },
   "outputs": [
    {
     "name": "stderr",
     "output_type": "stream",
     "text": [
      "/Users/hanjiawen/anaconda3/lib/python3.7/site-packages/scipy/interpolate/fitpack2.py:253: UserWarning:\n",
      "\n",
      "\n",
      "The maximal number of iterations maxit (set to 20 by the program)\n",
      "allowed for finding a smoothing spline with fp=s has been reached: s\n",
      "too small.\n",
      "There is an approximation returned but the corresponding weighted sum\n",
      "of squared residuals does not satisfy the condition abs(fp-s)/s < tol.\n",
      "\n"
     ]
    }
   ],
   "source": [
    "peaks = dict()  # bvp peaks\n",
    "rr = dict()  # inter-beat-interval (RR interval)\n",
    "bpm = dict() # beats per minute \n",
    "\n",
    "\n",
    "for key in sublist:\n",
    "\n",
    "    w,m = hp.process(df_bvp[key]['bvp_filtered'].to_numpy(),50, clean_rr=True)  \n",
    "    peaks[key] = w['peaklist']\n",
    "    \n",
    "    rr[key] = w['RR_list']\n",
    "    \n",
    "    bpm[key] = m['bpm']\n",
    "    \n",
    "    p = np.array(peaks[key])\n",
    "    df_bvp[key]['peaks'] = df_bvp[key].iloc[p]['bvp_filtered']"
   ]
  },
  {
   "cell_type": "code",
   "execution_count": 250,
   "metadata": {},
   "outputs": [
    {
     "data": {
      "image/png": "[encoded data removed]",
      "text/plain": [
       "<Figure size 1440x360 with 1 Axes>"
      ]
     },
     "metadata": {},
     "output_type": "display_data"
    }
   ],
   "source": [
    "plot_peak_signal(20000,25000, df_bvp['328'],'remoteTime', 'bvp','bvp_filtered','peaks' )"
   ]
  },
  {
   "cell_type": "markdown",
   "metadata": {},
   "source": [
    "### Sliding Window"
   ]
  },
  {
   "cell_type": "code",
   "execution_count": 251,
   "metadata": {
    "scrolled": false
   },
   "outputs": [],
   "source": [
    "WINDOW = 240  \n",
    "INTERVAL = 240 * 0.5\n",
    "\n",
    "df_sliced = dict()\n",
    "for key in sublist:\n",
    "    i = 1440\n",
    "    df_sliced[key] = []\n",
    "    while True:\n",
    "        mask = (df_bvp[key]['timepassSec']>= i )& (df_bvp[key]['timepassSec'] < i + WINDOW)\n",
    "        df_sliced[key].append(df_bvp[key][['remoteTime','timepass','timepassSec','timepassMin', 'bvp','bvp_filtered']][mask])\n",
    "        i = i + INTERVAL\n",
    "        if i >5600:\n",
    "            break"
   ]
  },
  {
   "cell_type": "code",
   "execution_count": 252,
   "metadata": {
    "collapsed": true
   },
   "outputs": [
    {
     "name": "stderr",
     "output_type": "stream",
     "text": [
      "/Users/hanjiawen/anaconda3/lib/python3.7/site-packages/scipy/interpolate/fitpack2.py:253: UserWarning:\n",
      "\n",
      "\n",
      "The maximal number of iterations maxit (set to 20 by the program)\n",
      "allowed for finding a smoothing spline with fp=s has been reached: s\n",
      "too small.\n",
      "There is an approximation returned but the corresponding weighted sum\n",
      "of squared residuals does not satisfy the condition abs(fp-s)/s < tol.\n",
      "\n",
      "/Users/hanjiawen/anaconda3/lib/python3.7/site-packages/numpy/ma/core.py:5244: RuntimeWarning:\n",
      "\n",
      "Mean of empty slice.\n",
      "\n",
      "/Users/hanjiawen/anaconda3/lib/python3.7/site-packages/numpy/core/fromnumeric.py:3622: RuntimeWarning:\n",
      "\n",
      "Degrees of freedom <= 0 for slice\n",
      "\n"
     ]
    }
   ],
   "source": [
    "rr_intervals_window = dict()\n",
    "for key in sublist:\n",
    "    value = df_sliced[key]\n",
    "    rr_intervals_window[key] =[]\n",
    "    for i in range (len(value)):\n",
    "        w,m = hp.process(value[i]['bvp_filtered'].to_numpy(), 50, clean_rr= True)\n",
    "        rr_intervals_window[key].append(w['RR_list'])\n",
    "        "
   ]
  },
  {
   "cell_type": "markdown",
   "metadata": {},
   "source": [
    "### Generate RR list"
   ]
  },
  {
   "cell_type": "code",
   "execution_count": 253,
   "metadata": {},
   "outputs": [],
   "source": [
    "from hrvanalysis import remove_outliers, remove_ectopic_beats,  interpolate_nan_values\n",
    "from boltons.iterutils import remap"
   ]
  },
  {
   "cell_type": "code",
   "execution_count": 254,
   "metadata": {
    "collapsed": true
   },
   "outputs": [
    {
     "name": "stdout",
     "output_type": "stream",
     "text": [
      "0 outlier(s) have been deleted.\n",
      "0 outlier(s) have been deleted.\n",
      "0 outlier(s) have been deleted.\n",
      "0 outlier(s) have been deleted.\n",
      "0 outlier(s) have been deleted.\n",
      "0 outlier(s) have been deleted.\n",
      "0 outlier(s) have been deleted.\n",
      "0 outlier(s) have been deleted.\n",
      "0 outlier(s) have been deleted.\n",
      "0 outlier(s) have been deleted.\n",
      "0 outlier(s) have been deleted.\n",
      "0 outlier(s) have been deleted.\n",
      "1 outlier(s) have been deleted.\n",
      "The outlier(s) value(s) are : [1640.0]\n",
      "1 outlier(s) have been deleted.\n",
      "The outlier(s) value(s) are : [1640.0]\n",
      "2 outlier(s) have been deleted.\n",
      "The outlier(s) value(s) are : [100.0, 1680.0]\n",
      "2 outlier(s) have been deleted.\n",
      "The outlier(s) value(s) are : [100.0, 1680.0]\n",
      "0 outlier(s) have been deleted.\n",
      "2 outlier(s) have been deleted.\n",
      "The outlier(s) value(s) are : [1620.0, 100.0]\n",
      "4 outlier(s) have been deleted.\n",
      "The outlier(s) value(s) are : [1620.0, 120.0, 100.0, 1580.0]\n",
      "3 outlier(s) have been deleted.\n",
      "The outlier(s) value(s) are : [1580.0, 1700.0, 1580.0]\n",
      "4 outlier(s) have been deleted.\n",
      "The outlier(s) value(s) are : [1580.0, 100.0, 120.0, 120.0]\n",
      "2 outlier(s) have been deleted.\n",
      "The outlier(s) value(s) are : [80.0, 1620.0]\n",
      "8 outlier(s) have been deleted.\n",
      "The outlier(s) value(s) are : [140.0, 140.0, 100.0, 1520.0, 100.0, 100.0, 120.0, 120.0]\n",
      "6 outlier(s) have been deleted.\n",
      "The outlier(s) value(s) are : [100.0, 100.0, 120.0, 120.0, 100.0, 100.0]\n",
      "1 outlier(s) have been deleted.\n",
      "The outlier(s) value(s) are : [100.0]\n",
      "0 outlier(s) have been deleted.\n",
      "4 outlier(s) have been deleted.\n",
      "The outlier(s) value(s) are : [1680.0, 80.0, 100.0, 1600.0]\n",
      "13 outlier(s) have been deleted.\n",
      "The outlier(s) value(s) are : [120.0, 120.0, 120.0, 120.0, 120.0, 100.0, 80.0, 120.0, 100.0, 120.0, 120.0, 120.0, 120.0]\n",
      "9 outlier(s) have been deleted.\n",
      "The outlier(s) value(s) are : [80.0, 120.0, 100.0, 120.0, 120.0, 120.0, 120.0, 100.0, 120.0]\n",
      "4 outlier(s) have been deleted.\n",
      "The outlier(s) value(s) are : [100.0, 120.0, 120.0, 80.0]\n",
      "8 outlier(s) have been deleted.\n",
      "The outlier(s) value(s) are : [80.0, 120.0, 140.0, 140.0, 120.0, 140.0, 120.0, 60.0]\n",
      "13 outlier(s) have been deleted.\n",
      "The outlier(s) value(s) are : [120.0, 140.0, 120.0, 120.0, 140.0, 120.0, 60.0, 120.0, 120.0, 120.0, 120.0, 120.0, 140.0]\n",
      "3 outlier(s) have been deleted.\n",
      "The outlier(s) value(s) are : [120.0, 1560.0, 100.0]\n",
      "4 outlier(s) have been deleted.\n",
      "The outlier(s) value(s) are : [140.0, 120.0, 120.0, 120.0]\n",
      "3 outlier(s) have been deleted.\n",
      "The outlier(s) value(s) are : [120.0, 120.0, 160.0]\n",
      "0 outlier(s) have been deleted.\n",
      "1 outlier(s) have been deleted.\n",
      "The outlier(s) value(s) are : [120.0]\n",
      "3 outlier(s) have been deleted.\n",
      "The outlier(s) value(s) are : [120.0, 120.0, 60.0]\n",
      "5 outlier(s) have been deleted.\n",
      "The outlier(s) value(s) are : [120.0, 60.0, 120.0, 120.0, 100.0]\n",
      "3 outlier(s) have been deleted.\n",
      "The outlier(s) value(s) are : [120.0, 120.0, 100.0]\n",
      "1 outlier(s) have been deleted.\n",
      "The outlier(s) value(s) are : [1540.0]\n",
      "2 outlier(s) have been deleted.\n",
      "The outlier(s) value(s) are : [1540.0, 80.0]\n",
      "1 outlier(s) have been deleted.\n",
      "The outlier(s) value(s) are : [100.0]\n",
      "0 outlier(s) have been deleted.\n",
      "0 outlier(s) have been deleted.\n",
      "0 outlier(s) have been deleted.\n",
      "0 outlier(s) have been deleted.\n",
      "1 outlier(s) have been deleted.\n",
      "The outlier(s) value(s) are : [120.0]\n",
      "1 outlier(s) have been deleted.\n",
      "The outlier(s) value(s) are : [100.0]\n",
      "4 outlier(s) have been deleted.\n",
      "The outlier(s) value(s) are : [100.0, 120.0, 100.0, 100.0]\n",
      "6 outlier(s) have been deleted.\n",
      "The outlier(s) value(s) are : [120.0, 100.0, 100.0, 1780.0, 120.0, 100.0]\n",
      "3 outlier(s) have been deleted.\n",
      "The outlier(s) value(s) are : [1780.0, 120.0, 100.0]\n",
      "2 outlier(s) have been deleted.\n",
      "The outlier(s) value(s) are : [100.0, 80.0]\n",
      "8 outlier(s) have been deleted.\n",
      "The outlier(s) value(s) are : [100.0, 80.0, 120.0, 60.0, 80.0, 120.0, 120.0, 1560.0]\n",
      "8 outlier(s) have been deleted.\n",
      "The outlier(s) value(s) are : [120.0, 60.0, 80.0, 120.0, 120.0, 100.0, 100.0, 140.0]\n",
      "8 outlier(s) have been deleted.\n",
      "The outlier(s) value(s) are : [120.0, 140.0, 120.0, 60.0, 140.0, 120.0, 100.0, 120.0]\n",
      "4 outlier(s) have been deleted.\n",
      "The outlier(s) value(s) are : [1540.0, 120.0, 100.0, 100.0]\n",
      "1 outlier(s) have been deleted.\n",
      "The outlier(s) value(s) are : [100.0]\n",
      "4 outlier(s) have been deleted.\n",
      "The outlier(s) value(s) are : [100.0, 100.0, 180.0, 160.0]\n",
      "5 outlier(s) have been deleted.\n",
      "The outlier(s) value(s) are : [180.0, 160.0, 100.0, 160.0, 140.0]\n",
      "4 outlier(s) have been deleted.\n",
      "The outlier(s) value(s) are : [100.0, 160.0, 140.0, 120.0]\n",
      "3 outlier(s) have been deleted.\n",
      "The outlier(s) value(s) are : [120.0, 100.0, 100.0]\n",
      "2 outlier(s) have been deleted.\n",
      "The outlier(s) value(s) are : [100.0, 100.0]\n",
      "0 outlier(s) have been deleted.\n",
      "2 outlier(s) have been deleted.\n",
      "The outlier(s) value(s) are : [100.0, 100.0]\n",
      "6 outlier(s) have been deleted.\n",
      "The outlier(s) value(s) are : [100.0, 100.0, 100.0, 80.0, 120.0, 120.0]\n",
      "9 outlier(s) have been deleted.\n",
      "The outlier(s) value(s) are : [100.0, 100.0, 80.0, 120.0, 120.0, 100.0, 120.0, 100.0, 120.0]\n",
      "8 outlier(s) have been deleted.\n",
      "The outlier(s) value(s) are : [100.0, 120.0, 100.0, 120.0, 80.0, 100.0, 100.0, 100.0]\n",
      "8 outlier(s) have been deleted.\n",
      "The outlier(s) value(s) are : [80.0, 100.0, 100.0, 100.0, 100.0, 120.0, 1760.0, 100.0]\n",
      "5 outlier(s) have been deleted.\n",
      "The outlier(s) value(s) are : [100.0, 120.0, 1760.0, 100.0, 100.0]\n",
      "3 outlier(s) have been deleted.\n",
      "The outlier(s) value(s) are : [140.0, 1760.0, 80.0]\n",
      "0 outlier(s) have been deleted.\n",
      "0 outlier(s) have been deleted.\n",
      "1 outlier(s) have been deleted.\n",
      "The outlier(s) value(s) are : [140.0]\n",
      "1 outlier(s) have been deleted.\n",
      "The outlier(s) value(s) are : [140.0]\n",
      "3 outlier(s) have been deleted.\n",
      "The outlier(s) value(s) are : [120.0, 140.0, 9020.0]\n",
      "3 outlier(s) have been deleted.\n",
      "The outlier(s) value(s) are : [120.0, 140.0, 8560.0]\n",
      "0 outlier(s) have been deleted.\n",
      "2 outlier(s) have been deleted.\n",
      "The outlier(s) value(s) are : [140.0, 140.0]\n",
      "2 outlier(s) have been deleted.\n",
      "The outlier(s) value(s) are : [140.0, 140.0]\n",
      "2 outlier(s) have been deleted.\n",
      "The outlier(s) value(s) are : [20.0, 40.0]\n",
      "33 outlier(s) have been deleted.\n",
      "The outlier(s) value(s) are : [80.0, 80.0, 60.0, 20.0, 2100.0, 40.0, 40.0, 2020.0, 20.0, 1980.0, 40.0, 1980.0, 60.0, 7760.0, 20.0, 3500.0, 20.0, 3480.0, 20.0, 1980.0, 20.0, 5320.0, 3540.0, 20.0, 2460.0, 1520.0, 40.0, 3220.0, 40.0, 1540.0, 40.0, 2320.0, 1640.0]\n",
      "33 outlier(s) have been deleted.\n",
      "The outlier(s) value(s) are : [40.0, 1980.0, 60.0, 7760.0, 20.0, 3500.0, 20.0, 3480.0, 20.0, 1980.0, 20.0, 5320.0, 3540.0, 20.0, 2460.0, 1520.0, 40.0, 3220.0, 40.0, 1540.0, 40.0, 2320.0, 40.0, 2260.0, 40.0, 1560.0, 120.0, 120.0, 120.0, 100.0, 2020.0, 40.0, 2020.0]\n",
      "19 outlier(s) have been deleted.\n",
      "The outlier(s) value(s) are : [40.0, 1560.0, 120.0, 120.0, 120.0, 100.0, 2020.0, 40.0, 2020.0, 60.0, 40.0, 1740.0, 1560.0, 80.0, 160.0, 160.0, 140.0, 140.0, 140.0]\n",
      "7 outlier(s) have been deleted.\n",
      "The outlier(s) value(s) are : [140.0, 120.0, 120.0, 120.0, 120.0, 100.0, 120.0]\n",
      "6 outlier(s) have been deleted.\n",
      "The outlier(s) value(s) are : [160.0, 120.0, 160.0, 120.0, 120.0, 160.0]\n",
      "4 outlier(s) have been deleted.\n",
      "The outlier(s) value(s) are : [160.0, 120.0, 120.0, 160.0]\n",
      "0 outlier(s) have been deleted.\n",
      "11 outlier(s) have been deleted.\n",
      "The outlier(s) value(s) are : [1820.0, 2020.0, 60.0, 120.0, 60.0, 100.0, 100.0, 100.0, 120.0, 120.0, 120.0]\n",
      "11 outlier(s) have been deleted.\n",
      "The outlier(s) value(s) are : [100.0, 100.0, 120.0, 120.0, 120.0, 120.0, 140.0, 140.0, 80.0, 140.0, 140.0]\n",
      "7 outlier(s) have been deleted.\n",
      "The outlier(s) value(s) are : [120.0, 140.0, 140.0, 80.0, 140.0, 140.0, 160.0]\n",
      "9 outlier(s) have been deleted.\n",
      "The outlier(s) value(s) are : [160.0, 160.0, 140.0, 140.0, 140.0, 140.0, 160.0, 140.0, 140.0]\n",
      "14 outlier(s) have been deleted.\n",
      "The outlier(s) value(s) are : [160.0, 140.0, 140.0, 140.0, 140.0, 160.0, 140.0, 140.0, 140.0, 120.0, 160.0, 140.0, 160.0, 160.0]\n",
      "11 outlier(s) have been deleted.\n",
      "The outlier(s) value(s) are : [140.0, 120.0, 160.0, 140.0, 160.0, 160.0, 160.0, 160.0, 160.0, 160.0, 120.0]\n",
      "6 outlier(s) have been deleted.\n",
      "The outlier(s) value(s) are : [160.0, 140.0, 160.0, 160.0, 140.0, 140.0]\n",
      "6 outlier(s) have been deleted.\n",
      "The outlier(s) value(s) are : [140.0, 160.0, 140.0, 100.0, 140.0, 140.0]\n",
      "10 outlier(s) have been deleted.\n",
      "The outlier(s) value(s) are : [140.0, 100.0, 140.0, 140.0, 120.0, 140.0, 140.0, 140.0, 120.0, 140.0]\n",
      "0 outlier(s) have been deleted.\n",
      "0 outlier(s) have been deleted.\n",
      "0 outlier(s) have been deleted.\n",
      "0 outlier(s) have been deleted.\n",
      "2 outlier(s) have been deleted.\n",
      "The outlier(s) value(s) are : [120.0, 1520.0]\n",
      "4 outlier(s) have been deleted.\n",
      "The outlier(s) value(s) are : [180.0, 140.0, 140.0, 140.0]\n",
      "3 outlier(s) have been deleted.\n",
      "The outlier(s) value(s) are : [140.0, 120.0, 120.0]\n",
      "0 outlier(s) have been deleted.\n",
      "2 outlier(s) have been deleted.\n",
      "The outlier(s) value(s) are : [120.0, 140.0]\n",
      "0 outlier(s) have been deleted.\n",
      "0 outlier(s) have been deleted.\n",
      "0 outlier(s) have been deleted.\n",
      "0 outlier(s) have been deleted.\n",
      "1 outlier(s) have been deleted.\n",
      "The outlier(s) value(s) are : [120.0]\n",
      "1 outlier(s) have been deleted.\n",
      "The outlier(s) value(s) are : [1600.0]\n",
      "5 outlier(s) have been deleted.\n",
      "The outlier(s) value(s) are : [140.0, 120.0, 1540.0, 120.0, 140.0]\n",
      "7 outlier(s) have been deleted.\n",
      "The outlier(s) value(s) are : [120.0, 1540.0, 120.0, 140.0, 100.0, 120.0, 80.0]\n",
      "3 outlier(s) have been deleted.\n",
      "The outlier(s) value(s) are : [100.0, 120.0, 80.0]\n",
      "0 outlier(s) have been deleted.\n",
      "4 outlier(s) have been deleted.\n",
      "The outlier(s) value(s) are : [60.0, 180.0, 120.0, 1580.0]\n",
      "5 outlier(s) have been deleted.\n",
      "The outlier(s) value(s) are : [60.0, 180.0, 120.0, 1580.0, 120.0]\n",
      "1 outlier(s) have been deleted.\n",
      "The outlier(s) value(s) are : [120.0]\n",
      "3 outlier(s) have been deleted.\n",
      "The outlier(s) value(s) are : [140.0, 120.0, 80.0]\n",
      "9 outlier(s) have been deleted.\n",
      "The outlier(s) value(s) are : [140.0, 120.0, 80.0, 140.0, 120.0, 120.0, 140.0, 120.0, 120.0]\n",
      "10 outlier(s) have been deleted.\n",
      "The outlier(s) value(s) are : [140.0, 120.0, 120.0, 140.0, 120.0, 120.0, 140.0, 140.0, 140.0, 140.0]\n",
      "13 outlier(s) have been deleted.\n",
      "The outlier(s) value(s) are : [140.0, 140.0, 140.0, 140.0, 120.0, 1780.0, 160.0, 140.0, 1520.0, 160.0, 120.0, 1760.0, 80.0]\n",
      "17 outlier(s) have been deleted.\n",
      "The outlier(s) value(s) are : [120.0, 1780.0, 160.0, 140.0, 1520.0, 140.0, 120.0, 1760.0, 80.0, 1620.0, 160.0, 120.0, 60.0, 1560.0, 60.0, 1780.0, 100.0]\n",
      "13 outlier(s) have been deleted.\n",
      "The outlier(s) value(s) are : [160.0, 120.0, 60.0, 1560.0, 60.0, 1780.0, 100.0, 100.0, 1760.0, 80.0, 120.0, 120.0, 1700.0]\n",
      "13 outlier(s) have been deleted.\n",
      "The outlier(s) value(s) are : [100.0, 1760.0, 80.0, 120.0, 120.0, 1700.0, 120.0, 100.0, 100.0, 140.0, 120.0, 60.0, 120.0]\n",
      "13 outlier(s) have been deleted.\n",
      "The outlier(s) value(s) are : [40.0, 100.0, 100.0, 140.0, 120.0, 60.0, 120.0, 100.0, 80.0, 100.0, 80.0, 120.0, 120.0]\n",
      "15 outlier(s) have been deleted.\n",
      "The outlier(s) value(s) are : [100.0, 80.0, 100.0, 80.0, 120.0, 120.0, 60.0, 1980.0, 80.0, 1860.0, 60.0, 60.0, 1560.0, 60.0, 100.0]\n",
      "22 outlier(s) have been deleted.\n",
      "The outlier(s) value(s) are : [60.0, 1980.0, 80.0, 1860.0, 60.0, 60.0, 1560.0, 60.0, 100.0, 80.0, 1640.0, 60.0, 1540.0, 120.0, 1520.0, 40.0, 120.0, 5580.0, 120.0, 2400.0, 80.0, 100.0]\n",
      "22 outlier(s) have been deleted.\n",
      "The outlier(s) value(s) are : [80.0, 1640.0, 60.0, 1540.0, 120.0, 1520.0, 40.0, 120.0, 5580.0, 120.0, 2400.0, 80.0, 100.0, 2000.0, 60.0, 1680.0, 1700.0, 100.0, 1900.0, 40.0, 1640.0, 140.0]\n",
      "19 outlier(s) have been deleted.\n",
      "The outlier(s) value(s) are : [60.0, 1680.0, 1700.0, 100.0, 1900.0, 40.0, 1640.0, 140.0, 80.0, 1700.0, 80.0, 1580.0, 100.0, 1580.0, 1780.0, 120.0, 60.0, 3140.0, 80.0]\n",
      "25 outlier(s) have been deleted.\n",
      "The outlier(s) value(s) are : [80.0, 1700.0, 80.0, 1580.0, 100.0, 1580.0, 1780.0, 120.0, 60.0, 3140.0, 80.0, 1600.0, 100.0, 1980.0, 80.0, 1520.0, 80.0, 100.0, 60.0, 1520.0, 60.0, 1800.0, 100.0, 120.0, 80.0]\n",
      "29 outlier(s) have been deleted.\n",
      "The outlier(s) value(s) are : [1600.0, 100.0, 1980.0, 80.0, 1520.0, 80.0, 100.0, 60.0, 1520.0, 60.0, 1800.0, 100.0, 120.0, 80.0, 100.0, 1520.0, 100.0, 80.0, 1520.0, 120.0, 60.0, 60.0, 100.0, 1620.0, 100.0, 40.0, 1520.0, 100.0, 1540.0]\n",
      "17 outlier(s) have been deleted.\n",
      "The outlier(s) value(s) are : [100.0, 80.0, 1520.0, 120.0, 60.0, 60.0, 100.0, 1620.0, 100.0, 40.0, 1520.0, 100.0, 1540.0, 100.0, 140.0, 4780.0, 120.0]\n",
      "12 outlier(s) have been deleted.\n",
      "The outlier(s) value(s) are : [100.0, 140.0, 4780.0, 120.0, 120.0, 140.0, 140.0, 120.0, 120.0, 120.0, 2200.0, 60.0]\n",
      "21 outlier(s) have been deleted.\n",
      "The outlier(s) value(s) are : [120.0, 140.0, 140.0, 120.0, 120.0, 120.0, 2200.0, 60.0, 40.0, 100.0, 140.0, 80.0, 1600.0, 80.0, 60.0, 2420.0, 1560.0, 80.0, 1700.0, 60.0, 1700.0]\n",
      "27 outlier(s) have been deleted.\n",
      "The outlier(s) value(s) are : [40.0, 100.0, 140.0, 80.0, 1600.0, 80.0, 60.0, 2420.0, 1560.0, 80.0, 1700.0, 60.0, 1700.0, 40.0, 100.0, 60.0, 1620.0, 60.0, 1960.0, 60.0, 1940.0, 40.0, 60.0, 3580.0, 60.0, 120.0, 100.0]\n",
      "30 outlier(s) have been deleted.\n",
      "The outlier(s) value(s) are : [40.0, 100.0, 60.0, 1620.0, 60.0, 1960.0, 60.0, 1940.0, 40.0, 60.0, 3580.0, 60.0, 120.0, 100.0, 80.0, 1580.0, 80.0, 3640.0, 2500.0, 120.0, 80.0, 80.0, 140.0, 80.0, 2100.0, 40.0, 2440.0, 1560.0, 80.0, 60.0]\n",
      "33 outlier(s) have been deleted.\n",
      "The outlier(s) value(s) are : [80.0, 1580.0, 80.0, 3640.0, 2500.0, 120.0, 80.0, 80.0, 140.0, 80.0, 2100.0, 40.0, 2440.0, 1560.0, 80.0, 60.0, 60.0, 1740.0, 60.0, 1540.0, 80.0, 1700.0, 80.0, 1560.0, 1520.0, 60.0, 1820.0, 40.0, 1800.0, 1600.0, 80.0, 100.0, 80.0]\n",
      "21 outlier(s) have been deleted.\n",
      "The outlier(s) value(s) are : [60.0, 1540.0, 80.0, 1700.0, 80.0, 1560.0, 1520.0, 60.0, 1820.0, 40.0, 1800.0, 1600.0, 80.0, 100.0, 80.0, 160.0, 80.0, 1800.0, 20.0, 100.0, 140.0]\n",
      "5 outlier(s) have been deleted.\n",
      "The outlier(s) value(s) are : [120.0, 1720.0, 120.0, 120.0, 1720.0]\n",
      "3 outlier(s) have been deleted.\n",
      "The outlier(s) value(s) are : [120.0, 120.0, 1720.0]\n",
      "0 outlier(s) have been deleted.\n",
      "0 outlier(s) have been deleted.\n",
      "1 outlier(s) have been deleted.\n",
      "The outlier(s) value(s) are : [120.0]\n",
      "1 outlier(s) have been deleted.\n",
      "The outlier(s) value(s) are : [120.0]\n",
      "2 outlier(s) have been deleted.\n",
      "The outlier(s) value(s) are : [120.0, 1520.0]\n",
      "3 outlier(s) have been deleted.\n",
      "The outlier(s) value(s) are : [120.0, 1520.0, 120.0]\n",
      "5 outlier(s) have been deleted.\n",
      "The outlier(s) value(s) are : [120.0, 120.0, 1640.0, 160.0, 2040.0]\n",
      "6 outlier(s) have been deleted.\n",
      "The outlier(s) value(s) are : [120.0, 1640.0, 160.0, 2040.0, 120.0, 1800.0]\n",
      "2 outlier(s) have been deleted.\n",
      "The outlier(s) value(s) are : [120.0, 1800.0]\n",
      "0 outlier(s) have been deleted.\n",
      "2 outlier(s) have been deleted.\n",
      "The outlier(s) value(s) are : [100.0, 120.0]\n",
      "1 outlier(s) have been deleted.\n",
      "The outlier(s) value(s) are : [120.0]\n",
      "2 outlier(s) have been deleted.\n",
      "The outlier(s) value(s) are : [100.0, 1720.0]\n",
      "2 outlier(s) have been deleted.\n",
      "The outlier(s) value(s) are : [100.0, 1720.0]\n",
      "0 outlier(s) have been deleted.\n",
      "0 outlier(s) have been deleted.\n",
      "7 outlier(s) have been deleted.\n",
      "The outlier(s) value(s) are : [120.0, 1920.0, 100.0, 160.0, 1600.0, 140.0, 1600.0]\n",
      "9 outlier(s) have been deleted.\n",
      "The outlier(s) value(s) are : [100.0, 160.0, 1600.0, 140.0, 1600.0, 160.0, 1600.0, 2040.0, 100.0]\n",
      "6 outlier(s) have been deleted.\n",
      "The outlier(s) value(s) are : [160.0, 1600.0, 2040.0, 100.0, 2740.0, 100.0]\n",
      "5 outlier(s) have been deleted.\n",
      "The outlier(s) value(s) are : [100.0, 100.0, 120.0, 120.0, 140.0]\n",
      "3 outlier(s) have been deleted.\n",
      "The outlier(s) value(s) are : [100.0, 120.0, 120.0]\n",
      "1 outlier(s) have been deleted.\n",
      "The outlier(s) value(s) are : [100.0]\n",
      "8 outlier(s) have been deleted.\n",
      "The outlier(s) value(s) are : [100.0, 80.0, 100.0, 1900.0, 120.0, 1580.0, 120.0, 100.0]\n",
      "12 outlier(s) have been deleted.\n",
      "The outlier(s) value(s) are : [100.0, 1900.0, 120.0, 1580.0, 120.0, 100.0, 140.0, 120.0, 120.0, 1740.0, 120.0, 1660.0]\n",
      "12 outlier(s) have been deleted.\n",
      "The outlier(s) value(s) are : [120.0, 120.0, 1740.0, 120.0, 1660.0, 120.0, 100.0, 1580.0, 140.0, 140.0, 1740.0, 120.0]\n",
      "8 outlier(s) have been deleted.\n",
      "The outlier(s) value(s) are : [120.0, 100.0, 1580.0, 140.0, 140.0, 1740.0, 120.0, 100.0]\n",
      "3 outlier(s) have been deleted.\n",
      "The outlier(s) value(s) are : [100.0, 160.0, 120.0]\n",
      "7 outlier(s) have been deleted.\n",
      "The outlier(s) value(s) are : [120.0, 80.0, 140.0, 1680.0, 120.0, 100.0, 140.0]\n",
      "11 outlier(s) have been deleted.\n",
      "The outlier(s) value(s) are : [80.0, 140.0, 1680.0, 120.0, 100.0, 140.0, 120.0, 1740.0, 120.0, 120.0, 1720.0]\n",
      "12 outlier(s) have been deleted.\n",
      "The outlier(s) value(s) are : [100.0, 1720.0, 100.0, 1760.0, 80.0, 1660.0, 80.0, 1760.0, 2640.0, 1740.0, 80.0, 2140.0]\n"
     ]
    },
    {
     "name": "stdout",
     "output_type": "stream",
     "text": [
      "12 outlier(s) have been deleted.\n",
      "The outlier(s) value(s) are : [120.0, 1620.0, 80.0, 140.0, 3320.0, 120.0, 1600.0, 80.0, 1620.0, 100.0, 160.0, 140.0]\n",
      "12 outlier(s) have been deleted.\n",
      "The outlier(s) value(s) are : [120.0, 1600.0, 80.0, 1620.0, 100.0, 160.0, 120.0, 100.0, 120.0, 100.0, 3360.0, 140.0]\n",
      "8 outlier(s) have been deleted.\n",
      "The outlier(s) value(s) are : [120.0, 100.0, 120.0, 100.0, 3360.0, 140.0, 120.0, 80.0]\n",
      "6 outlier(s) have been deleted.\n",
      "The outlier(s) value(s) are : [100.0, 140.0, 100.0, 100.0, 80.0, 100.0]\n",
      "2 outlier(s) have been deleted.\n",
      "The outlier(s) value(s) are : [100.0, 100.0]\n",
      "4 outlier(s) have been deleted.\n",
      "The outlier(s) value(s) are : [100.0, 80.0, 100.0, 100.0]\n",
      "5 outlier(s) have been deleted.\n",
      "The outlier(s) value(s) are : [100.0, 100.0, 100.0, 120.0, 40.0]\n",
      "11 outlier(s) have been deleted.\n",
      "The outlier(s) value(s) are : [20.0, 120.0, 40.0, 80.0, 100.0, 80.0, 100.0, 100.0, 80.0, 80.0, 100.0]\n",
      "11 outlier(s) have been deleted.\n",
      "The outlier(s) value(s) are : [80.0, 100.0, 80.0, 100.0, 100.0, 80.0, 80.0, 100.0, 120.0, 60.0, 100.0]\n",
      "11 outlier(s) have been deleted.\n",
      "The outlier(s) value(s) are : [120.0, 60.0, 100.0, 100.0, 1960.0, 120.0, 100.0, 40.0, 120.0, 1740.0, 80.0]\n",
      "10 outlier(s) have been deleted.\n",
      "The outlier(s) value(s) are : [100.0, 1960.0, 120.0, 100.0, 40.0, 120.0, 1740.0, 80.0, 100.0, 100.0]\n",
      "9 outlier(s) have been deleted.\n",
      "The outlier(s) value(s) are : [100.0, 100.0, 60.0, 100.0, 100.0, 80.0, 1780.0, 100.0, 2000.0]\n",
      "14 outlier(s) have been deleted.\n",
      "The outlier(s) value(s) are : [60.0, 100.0, 100.0, 80.0, 1780.0, 100.0, 40.0, 2000.0, 100.0, 100.0, 120.0, 100.0, 80.0, 80.0]\n",
      "12 outlier(s) have been deleted.\n",
      "The outlier(s) value(s) are : [100.0, 100.0, 120.0, 100.0, 80.0, 80.0, 120.0, 100.0, 80.0, 80.0, 80.0, 100.0]\n",
      "16 outlier(s) have been deleted.\n",
      "The outlier(s) value(s) are : [120.0, 100.0, 80.0, 80.0, 80.0, 100.0, 100.0, 1560.0, 120.0, 100.0, 100.0, 120.0, 100.0, 40.0, 1700.0, 100.0]\n",
      "21 outlier(s) have been deleted.\n",
      "The outlier(s) value(s) are : [100.0, 1560.0, 120.0, 100.0, 100.0, 120.0, 100.0, 40.0, 1700.0, 100.0, 100.0, 120.0, 60.0, 100.0, 20.0, 100.0, 60.0, 140.0, 120.0, 80.0, 140.0]\n",
      "19 outlier(s) have been deleted.\n",
      "The outlier(s) value(s) are : [100.0, 120.0, 60.0, 100.0, 100.0, 60.0, 140.0, 120.0, 80.0, 140.0, 80.0, 60.0, 60.0, 140.0, 120.0, 1820.0, 120.0, 1520.0, 100.0]\n",
      "22 outlier(s) have been deleted.\n",
      "The outlier(s) value(s) are : [80.0, 60.0, 60.0, 140.0, 120.0, 1820.0, 120.0, 1520.0, 100.0, 1700.0, 120.0, 100.0, 1780.0, 120.0, 80.0, 120.0, 120.0, 80.0, 100.0, 20.0, 40.0, 1900.0]\n",
      "24 outlier(s) have been deleted.\n",
      "The outlier(s) value(s) are : [1700.0, 120.0, 100.0, 1780.0, 120.0, 80.0, 120.0, 120.0, 80.0, 100.0, 40.0, 20.0, 40.0, 1900.0, 100.0, 100.0, 60.0, 20.0, 40.0, 120.0, 80.0, 80.0, 2020.0, 100.0]\n",
      "22 outlier(s) have been deleted.\n",
      "The outlier(s) value(s) are : [100.0, 60.0, 20.0, 40.0, 120.0, 80.0, 60.0, 2020.0, 100.0, 20.0, 120.0, 80.0, 3000.0, 100.0, 80.0, 2160.0, 100.0, 60.0, 2400.0, 40.0, 1560.0, 100.0]\n",
      "20 outlier(s) have been deleted.\n",
      "The outlier(s) value(s) are : [60.0, 120.0, 80.0, 3000.0, 100.0, 80.0, 2160.0, 100.0, 60.0, 2400.0, 40.0, 1560.0, 100.0, 80.0, 2740.0, 80.0, 1540.0, 100.0, 100.0, 1680.0]\n",
      "20 outlier(s) have been deleted.\n",
      "The outlier(s) value(s) are : [80.0, 2740.0, 80.0, 1540.0, 100.0, 100.0, 1680.0, 80.0, 1720.0, 80.0, 2160.0, 100.0, 100.0, 1760.0, 100.0, 100.0, 100.0, 2660.0, 60.0, 80.0]\n",
      "19 outlier(s) have been deleted.\n",
      "The outlier(s) value(s) are : [80.0, 1720.0, 80.0, 2160.0, 100.0, 100.0, 1760.0, 100.0, 100.0, 100.0, 2660.0, 60.0, 80.0, 60.0, 60.0, 2400.0, 100.0, 40.0, 100.0]\n",
      "12 outlier(s) have been deleted.\n",
      "The outlier(s) value(s) are : [60.0, 2400.0, 100.0, 40.0, 100.0, 1740.0, 2260.0, 1920.0, 120.0, 100.0, 4040.0, 80.0]\n",
      "13 outlier(s) have been deleted.\n",
      "The outlier(s) value(s) are : [2260.0, 1920.0, 120.0, 100.0, 4040.0, 80.0, 1680.0, 80.0, 2600.0, 1580.0, 60.0, 1720.0, 80.0]\n",
      "21 outlier(s) have been deleted.\n",
      "The outlier(s) value(s) are : [1680.0, 80.0, 2600.0, 1580.0, 60.0, 1720.0, 80.0, 120.0, 160.0, 2620.0, 100.0, 80.0, 1640.0, 160.0, 80.0, 2680.0, 60.0, 100.0, 100.0, 2060.0, 80.0]\n",
      "25 outlier(s) have been deleted.\n",
      "The outlier(s) value(s) are : [160.0, 2620.0, 100.0, 80.0, 1640.0, 160.0, 80.0, 2680.0, 60.0, 100.0, 100.0, 2060.0, 80.0, 40.0, 40.0, 120.0, 40.0, 80.0, 1660.0, 2600.0, 60.0, 1580.0, 1760.0, 60.0, 2500.0]\n",
      "20 outlier(s) have been deleted.\n",
      "The outlier(s) value(s) are : [40.0, 40.0, 120.0, 40.0, 80.0, 1660.0, 2600.0, 60.0, 1580.0, 1760.0, 60.0, 3200.0, 40.0, 60.0, 60.0, 40.0, 100.0, 1860.0, 60.0, 1580.0]\n",
      "15 outlier(s) have been deleted.\n",
      "The outlier(s) value(s) are : [40.0, 60.0, 60.0, 40.0, 100.0, 1860.0, 60.0, 1580.0, 1780.0, 2620.0, 40.0, 3920.0, 60.0, 2280.0, 60.0]\n",
      "18 outlier(s) have been deleted.\n",
      "The outlier(s) value(s) are : [2620.0, 40.0, 3920.0, 60.0, 2280.0, 60.0, 2340.0, 100.0, 1800.0, 40.0, 100.0, 1840.0, 60.0, 80.0, 80.0, 2680.0, 40.0, 3600.0]\n",
      "13 outlier(s) have been deleted.\n",
      "The outlier(s) value(s) are : [100.0, 1800.0, 40.0, 100.0, 1840.0, 60.0, 80.0, 80.0, 2680.0, 40.0, 3600.0, 2200.0, 100.0]\n",
      "10 outlier(s) have been deleted.\n",
      "The outlier(s) value(s) are : [2200.0, 100.0, 40.0, 2840.0, 80.0, 60.0, 2600.0, 100.0, 1660.0, 80.0]\n",
      "17 outlier(s) have been deleted.\n",
      "The outlier(s) value(s) are : [40.0, 2840.0, 80.0, 60.0, 2600.0, 100.0, 1660.0, 80.0, 120.0, 60.0, 100.0, 60.0, 80.0, 100.0, 60.0, 100.0, 100.0]\n",
      "19 outlier(s) have been deleted.\n",
      "The outlier(s) value(s) are : [120.0, 60.0, 100.0, 60.0, 80.0, 100.0, 60.0, 100.0, 100.0, 2420.0, 100.0, 2120.0, 100.0, 2000.0, 2660.0, 80.0, 60.0, 2100.0, 1720.0]\n",
      "22 outlier(s) have been deleted.\n",
      "The outlier(s) value(s) are : [100.0, 2120.0, 100.0, 2000.0, 2660.0, 80.0, 60.0, 2100.0, 1720.0, 80.0, 80.0, 1740.0, 80.0, 40.0, 1700.0, 80.0, 1520.0, 40.0, 1620.0, 120.0, 1720.0, 100.0]\n",
      "28 outlier(s) have been deleted.\n",
      "The outlier(s) value(s) are : [80.0, 80.0, 1740.0, 80.0, 40.0, 1700.0, 80.0, 1520.0, 60.0, 1620.0, 120.0, 1720.0, 100.0, 100.0, 80.0, 1560.0, 40.0, 60.0, 2840.0, 100.0, 80.0, 60.0, 1900.0, 100.0, 1780.0, 80.0, 60.0, 100.0]\n",
      "27 outlier(s) have been deleted.\n",
      "The outlier(s) value(s) are : [80.0, 1560.0, 40.0, 60.0, 2840.0, 100.0, 80.0, 60.0, 1900.0, 100.0, 1780.0, 80.0, 60.0, 100.0, 1640.0, 1880.0, 120.0, 80.0, 1520.0, 60.0, 1520.0, 100.0, 2520.0, 80.0, 160.0, 3460.0, 140.0]\n",
      "16 outlier(s) have been deleted.\n",
      "The outlier(s) value(s) are : [1880.0, 120.0, 80.0, 80.0, 60.0, 1520.0, 100.0, 2520.0, 80.0, 160.0, 3460.0, 140.0, 2180.0, 60.0, 120.0, 100.0]\n",
      "14 outlier(s) have been deleted.\n",
      "The outlier(s) value(s) are : [20.0, 140.0, 80.0, 100.0, 100.0, 80.0, 80.0, 80.0, 80.0, 100.0, 100.0, 80.0, 100.0, 80.0]\n",
      "14 outlier(s) have been deleted.\n",
      "The outlier(s) value(s) are : [80.0, 100.0, 100.0, 80.0, 100.0, 80.0, 80.0, 100.0, 100.0, 120.0, 100.0, 80.0, 100.0, 100.0]\n",
      "19 outlier(s) have been deleted.\n",
      "The outlier(s) value(s) are : [80.0, 100.0, 100.0, 120.0, 100.0, 80.0, 100.0, 100.0, 100.0, 120.0, 100.0, 80.0, 100.0, 100.0, 100.0, 100.0, 100.0, 40.0, 80.0]\n",
      "21 outlier(s) have been deleted.\n",
      "The outlier(s) value(s) are : [100.0, 120.0, 100.0, 80.0, 100.0, 100.0, 100.0, 100.0, 100.0, 40.0, 80.0, 80.0, 100.0, 80.0, 100.0, 1580.0, 60.0, 100.0, 80.0, 100.0, 1560.0]\n",
      "22 outlier(s) have been deleted.\n",
      "The outlier(s) value(s) are : [80.0, 100.0, 80.0, 100.0, 1580.0, 60.0, 100.0, 80.0, 100.0, 1560.0, 80.0, 100.0, 80.0, 80.0, 100.0, 1600.0, 100.0, 80.0, 100.0, 60.0, 100.0, 100.0]\n",
      "22 outlier(s) have been deleted.\n",
      "The outlier(s) value(s) are : [80.0, 100.0, 80.0, 80.0, 100.0, 1600.0, 100.0, 80.0, 100.0, 60.0, 100.0, 100.0, 80.0, 60.0, 100.0, 180.0, 60.0, 80.0, 100.0, 40.0, 120.0, 140.0]\n",
      "17 outlier(s) have been deleted.\n",
      "The outlier(s) value(s) are : [80.0, 60.0, 100.0, 180.0, 60.0, 80.0, 100.0, 40.0, 120.0, 60.0, 60.0, 80.0, 80.0, 80.0, 100.0, 100.0, 80.0]\n",
      "18 outlier(s) have been deleted.\n",
      "The outlier(s) value(s) are : [60.0, 60.0, 80.0, 80.0, 80.0, 100.0, 100.0, 80.0, 60.0, 60.0, 80.0, 100.0, 100.0, 1900.0, 120.0, 100.0, 60.0, 80.0]\n",
      "20 outlier(s) have been deleted.\n",
      "The outlier(s) value(s) are : [60.0, 60.0, 80.0, 100.0, 100.0, 1900.0, 120.0, 100.0, 60.0, 80.0, 80.0, 2100.0, 80.0, 100.0, 1520.0, 80.0, 100.0, 80.0, 80.0, 100.0]\n",
      "19 outlier(s) have been deleted.\n",
      "The outlier(s) value(s) are : [100.0, 2080.0, 80.0, 100.0, 1520.0, 80.0, 100.0, 80.0, 80.0, 100.0, 80.0, 100.0, 100.0, 100.0, 100.0, 1720.0, 100.0, 40.0, 100.0]\n",
      "18 outlier(s) have been deleted.\n",
      "The outlier(s) value(s) are : [100.0, 100.0, 100.0, 100.0, 1720.0, 100.0, 40.0, 100.0, 60.0, 40.0, 60.0, 80.0, 1580.0, 80.0, 60.0, 100.0, 140.0, 100.0]\n",
      "14 outlier(s) have been deleted.\n",
      "The outlier(s) value(s) are : [60.0, 40.0, 60.0, 80.0, 1580.0, 80.0, 60.0, 100.0, 140.0, 100.0, 100.0, 80.0, 80.0, 80.0]\n",
      "9 outlier(s) have been deleted.\n",
      "The outlier(s) value(s) are : [100.0, 100.0, 80.0, 80.0, 80.0, 120.0, 100.0, 120.0, 100.0]\n",
      "15 outlier(s) have been deleted.\n",
      "The outlier(s) value(s) are : [100.0, 120.0, 120.0, 80.0, 100.0, 100.0, 40.0, 100.0, 80.0, 80.0, 60.0, 80.0, 80.0, 80.0, 80.0]\n",
      "21 outlier(s) have been deleted.\n",
      "The outlier(s) value(s) are : [80.0, 100.0, 100.0, 40.0, 100.0, 80.0, 80.0, 60.0, 80.0, 80.0, 80.0, 80.0, 180.0, 100.0, 100.0, 120.0, 80.0, 80.0, 100.0, 120.0, 100.0]\n",
      "19 outlier(s) have been deleted.\n",
      "The outlier(s) value(s) are : [180.0, 100.0, 100.0, 120.0, 80.0, 80.0, 100.0, 120.0, 100.0, 100.0, 80.0, 80.0, 100.0, 100.0, 100.0, 100.0, 100.0, 80.0, 100.0]\n",
      "14 outlier(s) have been deleted.\n",
      "The outlier(s) value(s) are : [100.0, 80.0, 80.0, 100.0, 100.0, 100.0, 100.0, 100.0, 80.0, 100.0, 120.0, 100.0, 100.0, 100.0]\n",
      "9 outlier(s) have been deleted.\n",
      "The outlier(s) value(s) are : [120.0, 100.0, 100.0, 100.0, 120.0, 120.0, 100.0, 120.0, 100.0]\n",
      "11 outlier(s) have been deleted.\n",
      "The outlier(s) value(s) are : [120.0, 120.0, 100.0, 120.0, 100.0, 180.0, 120.0, 80.0, 100.0, 60.0, 120.0]\n",
      "13 outlier(s) have been deleted.\n",
      "The outlier(s) value(s) are : [180.0, 120.0, 80.0, 100.0, 60.0, 120.0, 120.0, 120.0, 100.0, 1720.0, 120.0, 120.0, 1820.0]\n",
      "19 outlier(s) have been deleted.\n",
      "The outlier(s) value(s) are : [120.0, 120.0, 100.0, 1720.0, 120.0, 120.0, 1820.0, 100.0, 1660.0, 100.0, 120.0, 100.0, 120.0, 120.0, 100.0, 1680.0, 100.0, 1820.0, 100.0]\n",
      "21 outlier(s) have been deleted.\n",
      "The outlier(s) value(s) are : [100.0, 1660.0, 100.0, 120.0, 100.0, 120.0, 120.0, 100.0, 1680.0, 100.0, 1820.0, 100.0, 80.0, 60.0, 1520.0, 20.0, 100.0, 120.0, 140.0, 120.0, 120.0]\n",
      "25 outlier(s) have been deleted.\n",
      "The outlier(s) value(s) are : [80.0, 60.0, 1520.0, 20.0, 100.0, 120.0, 140.0, 120.0, 120.0, 120.0, 1720.0, 160.0, 120.0, 1660.0, 100.0, 1640.0, 140.0, 1960.0, 120.0, 1600.0, 100.0, 1700.0, 180.0, 80.0, 1720.0]\n",
      "18 outlier(s) have been deleted.\n",
      "The outlier(s) value(s) are : [120.0, 1720.0, 160.0, 120.0, 1660.0, 100.0, 1640.0, 140.0, 1960.0, 120.0, 1600.0, 100.0, 1700.0, 180.0, 80.0, 1720.0, 140.0, 1520.0]\n",
      "8 outlier(s) have been deleted.\n",
      "The outlier(s) value(s) are : [140.0, 1520.0, 80.0, 120.0, 1640.0, 120.0, 80.0, 140.0]\n",
      "15 outlier(s) have been deleted.\n",
      "The outlier(s) value(s) are : [40.0, 120.0, 1640.0, 120.0, 80.0, 140.0, 120.0, 120.0, 120.0, 120.0, 1720.0, 100.0, 120.0, 120.0, 100.0]\n",
      "18 outlier(s) have been deleted.\n",
      "The outlier(s) value(s) are : [120.0, 120.0, 120.0, 1720.0, 100.0, 120.0, 120.0, 100.0, 100.0, 60.0, 100.0, 1840.0, 100.0, 120.0, 100.0, 100.0, 60.0, 100.0]\n",
      "15 outlier(s) have been deleted.\n",
      "The outlier(s) value(s) are : [100.0, 60.0, 100.0, 1840.0, 100.0, 120.0, 100.0, 100.0, 60.0, 100.0, 120.0, 120.0, 100.0, 120.0, 80.0]\n",
      "5 outlier(s) have been deleted.\n",
      "The outlier(s) value(s) are : [120.0, 120.0, 100.0, 120.0, 80.0]\n",
      "1 outlier(s) have been deleted.\n",
      "The outlier(s) value(s) are : [100.0]\n",
      "6 outlier(s) have been deleted.\n",
      "The outlier(s) value(s) are : [120.0, 100.0, 100.0, 80.0, 60.0, 100.0]\n",
      "14 outlier(s) have been deleted.\n",
      "The outlier(s) value(s) are : [100.0, 100.0, 80.0, 60.0, 100.0, 100.0, 80.0, 60.0, 120.0, 80.0, 80.0, 100.0, 100.0, 80.0]\n",
      "14 outlier(s) have been deleted.\n",
      "The outlier(s) value(s) are : [100.0, 80.0, 60.0, 120.0, 80.0, 80.0, 100.0, 100.0, 80.0, 100.0, 80.0, 80.0, 80.0, 1600.0]\n",
      "15 outlier(s) have been deleted.\n",
      "The outlier(s) value(s) are : [100.0, 80.0, 80.0, 80.0, 1600.0, 100.0, 80.0, 80.0, 100.0, 80.0, 100.0, 120.0, 100.0, 120.0, 100.0]\n",
      "10 outlier(s) have been deleted.\n",
      "The outlier(s) value(s) are : [100.0, 80.0, 80.0, 100.0, 80.0, 100.0, 120.0, 100.0, 120.0, 100.0]\n",
      "3 outlier(s) have been deleted.\n",
      "The outlier(s) value(s) are : [80.0, 100.0, 120.0]\n",
      "0 outlier(s) have been deleted.\n",
      "1 outlier(s) have been deleted.\n",
      "The outlier(s) value(s) are : [1520.0]\n",
      "1 outlier(s) have been deleted.\n",
      "The outlier(s) value(s) are : [1520.0]\n",
      "0 outlier(s) have been deleted.\n",
      "0 outlier(s) have been deleted.\n",
      "0 outlier(s) have been deleted.\n",
      "0 outlier(s) have been deleted.\n",
      "0 outlier(s) have been deleted.\n",
      "1 outlier(s) have been deleted.\n",
      "The outlier(s) value(s) are : [120.0]\n",
      "0 outlier(s) have been deleted.\n",
      "1 outlier(s) have been deleted.\n",
      "The outlier(s) value(s) are : [120.0]\n",
      "0 outlier(s) have been deleted.\n",
      "1 outlier(s) have been deleted.\n",
      "The outlier(s) value(s) are : [140.0]\n",
      "3 outlier(s) have been deleted.\n",
      "The outlier(s) value(s) are : [140.0, 100.0, 100.0]\n",
      "1 outlier(s) have been deleted.\n",
      "The outlier(s) value(s) are : [100.0]\n",
      "0 outlier(s) have been deleted.\n",
      "4 outlier(s) have been deleted.\n",
      "The outlier(s) value(s) are : [100.0, 100.0, 1840.0, 120.0]\n",
      "5 outlier(s) have been deleted.\n",
      "The outlier(s) value(s) are : [100.0, 120.0, 100.0, 80.0, 1740.0]\n",
      "8 outlier(s) have been deleted.\n",
      "The outlier(s) value(s) are : [120.0, 140.0, 100.0, 120.0, 140.0, 120.0, 120.0, 120.0]\n",
      "7 outlier(s) have been deleted.\n",
      "The outlier(s) value(s) are : [100.0, 140.0, 100.0, 80.0, 100.0, 100.0, 120.0]\n",
      "9 outlier(s) have been deleted.\n",
      "The outlier(s) value(s) are : [140.0, 120.0, 100.0, 120.0, 160.0, 120.0, 120.0, 140.0, 120.0]\n",
      "15 outlier(s) have been deleted.\n",
      "The outlier(s) value(s) are : [160.0, 120.0, 120.0, 160.0, 120.0, 120.0, 140.0, 140.0, 160.0, 160.0, 120.0, 140.0, 160.0, 140.0, 160.0]\n",
      "9 outlier(s) have been deleted.\n",
      "The outlier(s) value(s) are : [140.0, 120.0, 120.0, 120.0, 140.0, 120.0, 140.0, 120.0, 120.0]\n",
      "6 outlier(s) have been deleted.\n",
      "The outlier(s) value(s) are : [120.0, 120.0, 100.0, 140.0, 120.0, 1980.0]\n",
      "4 outlier(s) have been deleted.\n",
      "The outlier(s) value(s) are : [100.0, 140.0, 120.0, 1980.0]\n",
      "1 outlier(s) have been deleted.\n",
      "The outlier(s) value(s) are : [120.0]\n",
      "1 outlier(s) have been deleted.\n",
      "The outlier(s) value(s) are : [120.0]\n",
      "1 outlier(s) have been deleted.\n",
      "The outlier(s) value(s) are : [120.0]\n",
      "4 outlier(s) have been deleted.\n",
      "The outlier(s) value(s) are : [120.0, 120.0, 100.0, 100.0]\n",
      "3 outlier(s) have been deleted.\n",
      "The outlier(s) value(s) are : [120.0, 100.0, 100.0]\n",
      "1 outlier(s) have been deleted.\n",
      "The outlier(s) value(s) are : [80.0]\n",
      "2 outlier(s) have been deleted.\n",
      "The outlier(s) value(s) are : [80.0, 60.0]\n",
      "2 outlier(s) have been deleted.\n",
      "The outlier(s) value(s) are : [100.0, 100.0]\n",
      "3 outlier(s) have been deleted.\n",
      "The outlier(s) value(s) are : [100.0, 100.0, 120.0]\n",
      "0 outlier(s) have been deleted.\n",
      "0 outlier(s) have been deleted.\n",
      "0 outlier(s) have been deleted.\n",
      "0 outlier(s) have been deleted.\n",
      "0 outlier(s) have been deleted.\n",
      "0 outlier(s) have been deleted.\n",
      "0 outlier(s) have been deleted.\n",
      "0 outlier(s) have been deleted.\n",
      "0 outlier(s) have been deleted.\n",
      "0 outlier(s) have been deleted.\n",
      "1 outlier(s) have been deleted.\n",
      "The outlier(s) value(s) are : [140.0]\n",
      "0 outlier(s) have been deleted.\n",
      "2 outlier(s) have been deleted.\n",
      "The outlier(s) value(s) are : [120.0, 120.0]\n",
      "2 outlier(s) have been deleted.\n",
      "The outlier(s) value(s) are : [120.0, 120.0]\n",
      "1 outlier(s) have been deleted.\n",
      "The outlier(s) value(s) are : [140.0]\n",
      "4 outlier(s) have been deleted.\n",
      "The outlier(s) value(s) are : [140.0, 120.0, 160.0, 160.0]\n",
      "6 outlier(s) have been deleted.\n",
      "The outlier(s) value(s) are : [120.0, 160.0, 160.0, 160.0, 160.0, 140.0]\n",
      "10 outlier(s) have been deleted.\n",
      "The outlier(s) value(s) are : [160.0, 160.0, 140.0, 180.0, 160.0, 160.0, 140.0, 140.0, 140.0, 160.0]\n",
      "7 outlier(s) have been deleted.\n",
      "The outlier(s) value(s) are : [140.0, 140.0, 140.0, 140.0, 120.0, 140.0, 140.0]\n",
      "4 outlier(s) have been deleted.\n",
      "The outlier(s) value(s) are : [140.0, 120.0, 100.0, 100.0]\n",
      "6 outlier(s) have been deleted.\n",
      "The outlier(s) value(s) are : [120.0, 120.0, 120.0, 140.0, 1600.0, 140.0]\n",
      "3 outlier(s) have been deleted.\n",
      "The outlier(s) value(s) are : [140.0, 1600.0, 140.0]\n",
      "1 outlier(s) have been deleted.\n",
      "The outlier(s) value(s) are : [140.0]\n",
      "6 outlier(s) have been deleted.\n",
      "The outlier(s) value(s) are : [140.0, 80.0, 1560.0, 80.0, 120.0, 160.0]\n",
      "8 outlier(s) have been deleted.\n",
      "The outlier(s) value(s) are : [100.0, 1540.0, 140.0, 120.0, 160.0, 100.0, 140.0, 140.0]\n",
      "5 outlier(s) have been deleted.\n",
      "The outlier(s) value(s) are : [120.0, 140.0, 100.0, 100.0, 1540.0]\n",
      "7 outlier(s) have been deleted.\n",
      "The outlier(s) value(s) are : [100.0, 120.0, 120.0, 100.0, 120.0, 120.0, 160.0]\n",
      "3 outlier(s) have been deleted.\n",
      "The outlier(s) value(s) are : [120.0, 140.0, 140.0]\n",
      "4 outlier(s) have been deleted.\n",
      "The outlier(s) value(s) are : [140.0, 140.0, 1720.0, 120.0]\n",
      "5 outlier(s) have been deleted.\n",
      "The outlier(s) value(s) are : [160.0, 1560.0, 180.0, 140.0, 180.0]\n",
      "2 outlier(s) have been deleted.\n",
      "The outlier(s) value(s) are : [140.0, 180.0]\n",
      "0 outlier(s) have been deleted.\n",
      "1 outlier(s) have been deleted.\n",
      "The outlier(s) value(s) are : [80.0]\n",
      "1 outlier(s) have been deleted.\n",
      "The outlier(s) value(s) are : [80.0]\n",
      "1 outlier(s) have been deleted.\n",
      "The outlier(s) value(s) are : [120.0]\n",
      "2 outlier(s) have been deleted.\n",
      "The outlier(s) value(s) are : [140.0, 120.0]\n",
      "0 outlier(s) have been deleted.\n",
      "0 outlier(s) have been deleted.\n",
      "2 outlier(s) have been deleted.\n",
      "The outlier(s) value(s) are : [120.0, 120.0]\n",
      "6 outlier(s) have been deleted.\n",
      "The outlier(s) value(s) are : [140.0, 120.0, 100.0, 120.0, 120.0, 140.0]\n",
      "8 outlier(s) have been deleted.\n",
      "The outlier(s) value(s) are : [120.0, 120.0, 140.0, 140.0, 140.0, 140.0, 160.0, 80.0]\n",
      "1 outlier(s) have been deleted.\n",
      "The outlier(s) value(s) are : [80.0]\n",
      "0 outlier(s) have been deleted.\n",
      "0 outlier(s) have been deleted.\n",
      "0 outlier(s) have been deleted.\n",
      "0 outlier(s) have been deleted.\n",
      "0 outlier(s) have been deleted.\n",
      "0 outlier(s) have been deleted.\n",
      "0 outlier(s) have been deleted.\n",
      "0 outlier(s) have been deleted.\n",
      "2 outlier(s) have been deleted.\n",
      "The outlier(s) value(s) are : [140.0, 120.0]\n",
      "2 outlier(s) have been deleted.\n",
      "The outlier(s) value(s) are : [120.0, 160.0]\n",
      "1 outlier(s) have been deleted.\n",
      "The outlier(s) value(s) are : [160.0]\n",
      "0 outlier(s) have been deleted.\n",
      "2 outlier(s) have been deleted.\n",
      "The outlier(s) value(s) are : [180.0, 160.0]\n",
      "2 outlier(s) have been deleted.\n",
      "The outlier(s) value(s) are : [180.0, 160.0]\n",
      "6 outlier(s) have been deleted.\n",
      "The outlier(s) value(s) are : [120.0, 140.0, 140.0, 120.0, 140.0, 100.0]\n",
      "10 outlier(s) have been deleted.\n",
      "The outlier(s) value(s) are : [120.0, 140.0, 140.0, 120.0, 140.0, 100.0, 120.0, 160.0, 160.0, 180.0]\n",
      "9 outlier(s) have been deleted.\n",
      "The outlier(s) value(s) are : [160.0, 160.0, 180.0, 140.0, 180.0, 160.0, 160.0, 180.0, 160.0]\n",
      "9 outlier(s) have been deleted.\n",
      "The outlier(s) value(s) are : [140.0, 180.0, 160.0, 160.0, 160.0, 180.0, 80.0, 40.0, 140.0]\n",
      "8 outlier(s) have been deleted.\n",
      "The outlier(s) value(s) are : [180.0, 80.0, 1700.0, 1660.0, 120.0, 140.0, 160.0, 140.0]\n",
      "9 outlier(s) have been deleted.\n",
      "The outlier(s) value(s) are : [120.0, 140.0, 160.0, 140.0, 1560.0, 120.0, 140.0, 140.0, 160.0]\n",
      "6 outlier(s) have been deleted.\n",
      "The outlier(s) value(s) are : [140.0, 140.0, 80.0, 140.0, 140.0, 140.0]\n",
      "4 outlier(s) have been deleted.\n",
      "The outlier(s) value(s) are : [140.0, 140.0, 140.0, 160.0]\n",
      "4 outlier(s) have been deleted.\n",
      "The outlier(s) value(s) are : [160.0, 160.0, 100.0, 180.0]\n",
      "8 outlier(s) have been deleted.\n",
      "The outlier(s) value(s) are : [100.0, 160.0, 100.0, 100.0, 160.0, 160.0, 120.0, 120.0]\n",
      "11 outlier(s) have been deleted.\n",
      "The outlier(s) value(s) are : [140.0, 100.0, 80.0, 1620.0, 160.0, 100.0, 120.0, 100.0, 140.0, 180.0, 140.0]\n"
     ]
    },
    {
     "name": "stdout",
     "output_type": "stream",
     "text": [
      "4 outlier(s) have been deleted.\n",
      "The outlier(s) value(s) are : [100.0, 140.0, 180.0, 140.0]\n",
      "4 outlier(s) have been deleted.\n",
      "The outlier(s) value(s) are : [140.0, 180.0, 140.0, 120.0]\n",
      "4 outlier(s) have been deleted.\n",
      "The outlier(s) value(s) are : [140.0, 120.0, 140.0, 140.0]\n",
      "22 outlier(s) have been deleted.\n",
      "The outlier(s) value(s) are : [120.0, 1800.0, 120.0, 120.0, 1700.0, 120.0, 120.0, 120.0, 120.0, 120.0, 2040.0, 100.0, 120.0, 1660.0, 120.0, 100.0, 1820.0, 120.0, 100.0, 120.0, 120.0, 120.0]\n",
      "25 outlier(s) have been deleted.\n",
      "The outlier(s) value(s) are : [120.0, 120.0, 120.0, 2040.0, 100.0, 120.0, 1660.0, 120.0, 100.0, 1820.0, 120.0, 100.0, 120.0, 120.0, 120.0, 100.0, 100.0, 100.0, 2000.0, 1800.0, 120.0, 140.0, 120.0, 3020.0, 120.0]\n",
      "12 outlier(s) have been deleted.\n",
      "The outlier(s) value(s) are : [100.0, 100.0, 100.0, 2000.0, 1800.0, 120.0, 140.0, 120.0, 3020.0, 120.0, 120.0, 120.0]\n",
      "19 outlier(s) have been deleted.\n",
      "The outlier(s) value(s) are : [120.0, 120.0, 100.0, 1720.0, 120.0, 120.0, 120.0, 120.0, 120.0, 1840.0, 1760.0, 120.0, 100.0, 120.0, 120.0, 20.0, 40.0, 120.0, 2040.0]\n",
      "24 outlier(s) have been deleted.\n",
      "The outlier(s) value(s) are : [120.0, 100.0, 1720.0, 120.0, 120.0, 120.0, 120.0, 120.0, 1840.0, 1760.0, 120.0, 100.0, 120.0, 120.0, 20.0, 40.0, 120.0, 2040.0, 120.0, 2040.0, 120.0, 120.0, 1640.0, 120.0]\n",
      "16 outlier(s) have been deleted.\n",
      "The outlier(s) value(s) are : [120.0, 2040.0, 120.0, 120.0, 1640.0, 120.0, 120.0, 60.0, 160.0, 120.0, 120.0, 120.0, 120.0, 120.0, 1700.0, 120.0]\n",
      "17 outlier(s) have been deleted.\n",
      "The outlier(s) value(s) are : [60.0, 160.0, 120.0, 120.0, 120.0, 120.0, 120.0, 1700.0, 120.0, 100.0, 100.0, 80.0, 120.0, 120.0, 120.0, 100.0, 2020.0]\n",
      "18 outlier(s) have been deleted.\n",
      "The outlier(s) value(s) are : [100.0, 100.0, 80.0, 120.0, 120.0, 120.0, 100.0, 2020.0, 1880.0, 120.0, 1720.0, 120.0, 120.0, 120.0, 2000.0, 120.0, 120.0, 1780.0]\n",
      "23 outlier(s) have been deleted.\n",
      "The outlier(s) value(s) are : [1880.0, 120.0, 1720.0, 120.0, 120.0, 120.0, 2000.0, 120.0, 120.0, 1780.0, 140.0, 120.0, 120.0, 120.0, 120.0, 120.0, 120.0, 140.0, 120.0, 1920.0, 120.0, 100.0, 120.0]\n",
      "23 outlier(s) have been deleted.\n",
      "The outlier(s) value(s) are : [140.0, 120.0, 120.0, 120.0, 120.0, 120.0, 120.0, 140.0, 120.0, 1920.0, 120.0, 100.0, 120.0, 120.0, 80.0, 120.0, 120.0, 120.0, 120.0, 120.0, 120.0, 120.0, 120.0]\n",
      "29 outlier(s) have been deleted.\n",
      "The outlier(s) value(s) are : [120.0, 80.0, 120.0, 120.0, 120.0, 120.0, 120.0, 120.0, 120.0, 120.0, 60.0, 120.0, 120.0, 120.0, 100.0, 100.0, 1780.0, 120.0, 100.0, 1860.0, 120.0, 100.0, 40.0, 120.0, 120.0, 120.0, 120.0, 1980.0, 100.0]\n",
      "31 outlier(s) have been deleted.\n",
      "The outlier(s) value(s) are : [120.0, 120.0, 120.0, 100.0, 100.0, 1780.0, 120.0, 100.0, 1860.0, 120.0, 100.0, 40.0, 120.0, 120.0, 120.0, 120.0, 1980.0, 100.0, 120.0, 120.0, 1860.0, 120.0, 100.0, 120.0, 1780.0, 120.0, 120.0, 120.0, 120.0, 100.0, 120.0]\n",
      "23 outlier(s) have been deleted.\n",
      "The outlier(s) value(s) are : [120.0, 120.0, 1860.0, 120.0, 100.0, 120.0, 1780.0, 120.0, 120.0, 120.0, 120.0, 100.0, 120.0, 1800.0, 100.0, 1800.0, 120.0, 1780.0, 120.0, 1560.0, 100.0, 120.0, 120.0]\n",
      "28 outlier(s) have been deleted.\n",
      "The outlier(s) value(s) are : [120.0, 1800.0, 100.0, 1800.0, 120.0, 1780.0, 120.0, 1560.0, 100.0, 120.0, 120.0, 100.0, 120.0, 120.0, 120.0, 2080.0, 140.0, 120.0, 1860.0, 120.0, 1700.0, 120.0, 120.0, 120.0, 120.0, 140.0, 120.0, 120.0]\n",
      "36 outlier(s) have been deleted.\n",
      "The outlier(s) value(s) are : [100.0, 120.0, 120.0, 120.0, 2080.0, 140.0, 120.0, 1860.0, 120.0, 1700.0, 120.0, 120.0, 120.0, 120.0, 140.0, 120.0, 120.0, 100.0, 120.0, 1880.0, 80.0, 1580.0, 120.0, 140.0, 140.0, 100.0, 60.0, 1540.0, 120.0, 1560.0, 120.0, 1640.0, 140.0, 2260.0, 100.0, 120.0]\n",
      "30 outlier(s) have been deleted.\n",
      "The outlier(s) value(s) are : [120.0, 1880.0, 80.0, 1580.0, 120.0, 140.0, 140.0, 100.0, 60.0, 1540.0, 120.0, 1560.0, 120.0, 1640.0, 140.0, 2260.0, 100.0, 120.0, 120.0, 120.0, 1520.0, 120.0, 1540.0, 120.0, 100.0, 120.0, 60.0, 120.0, 120.0, 100.0]\n",
      "25 outlier(s) have been deleted.\n",
      "The outlier(s) value(s) are : [120.0, 120.0, 1520.0, 120.0, 1540.0, 120.0, 100.0, 120.0, 60.0, 120.0, 120.0, 100.0, 120.0, 80.0, 1560.0, 120.0, 1780.0, 120.0, 120.0, 100.0, 120.0, 120.0, 1920.0, 100.0, 120.0]\n",
      "22 outlier(s) have been deleted.\n",
      "The outlier(s) value(s) are : [120.0, 80.0, 1560.0, 120.0, 1780.0, 120.0, 120.0, 100.0, 120.0, 120.0, 1920.0, 100.0, 120.0, 120.0, 120.0, 1580.0, 100.0, 140.0, 120.0, 140.0, 120.0, 120.0]\n",
      "17 outlier(s) have been deleted.\n",
      "The outlier(s) value(s) are : [120.0, 120.0, 1580.0, 100.0, 140.0, 120.0, 140.0, 120.0, 120.0, 120.0, 140.0, 120.0, 120.0, 1700.0, 120.0, 120.0, 80.0]\n",
      "16 outlier(s) have been deleted.\n",
      "The outlier(s) value(s) are : [120.0, 140.0, 120.0, 120.0, 1700.0, 120.0, 120.0, 80.0, 120.0, 120.0, 1840.0, 120.0, 120.0, 1600.0, 140.0, 120.0]\n",
      "19 outlier(s) have been deleted.\n",
      "The outlier(s) value(s) are : [120.0, 1840.0, 120.0, 120.0, 1600.0, 140.0, 120.0, 120.0, 140.0, 1560.0, 120.0, 120.0, 120.0, 120.0, 120.0, 120.0, 140.0, 120.0, 120.0]\n",
      "21 outlier(s) have been deleted.\n",
      "The outlier(s) value(s) are : [120.0, 140.0, 1560.0, 120.0, 120.0, 120.0, 120.0, 120.0, 120.0, 140.0, 120.0, 120.0, 120.0, 1700.0, 120.0, 120.0, 140.0, 140.0, 120.0, 120.0, 120.0]\n",
      "16 outlier(s) have been deleted.\n",
      "The outlier(s) value(s) are : [120.0, 1700.0, 120.0, 120.0, 140.0, 140.0, 120.0, 120.0, 120.0, 80.0, 120.0, 120.0, 1940.0, 120.0, 120.0, 120.0]\n",
      "15 outlier(s) have been deleted.\n",
      "The outlier(s) value(s) are : [120.0, 120.0, 1940.0, 120.0, 120.0, 120.0, 120.0, 120.0, 120.0, 120.0, 160.0, 4500.0, 160.0, 100.0, 120.0]\n",
      "26 outlier(s) have been deleted.\n",
      "The outlier(s) value(s) are : [120.0, 120.0, 120.0, 120.0, 160.0, 4500.0, 160.0, 100.0, 120.0, 60.0, 120.0, 2040.0, 120.0, 120.0, 100.0, 60.0, 120.0, 120.0, 120.0, 120.0, 1780.0, 120.0, 120.0, 120.0, 140.0, 100.0]\n",
      "29 outlier(s) have been deleted.\n",
      "The outlier(s) value(s) are : [60.0, 120.0, 2040.0, 120.0, 120.0, 100.0, 60.0, 120.0, 120.0, 120.0, 120.0, 1780.0, 120.0, 120.0, 120.0, 140.0, 100.0, 140.0, 120.0, 120.0, 140.0, 120.0, 120.0, 120.0, 120.0, 120.0, 120.0, 120.0, 120.0]\n",
      "23 outlier(s) have been deleted.\n",
      "The outlier(s) value(s) are : [140.0, 120.0, 120.0, 140.0, 120.0, 120.0, 120.0, 120.0, 120.0, 120.0, 120.0, 120.0, 120.0, 120.0, 120.0, 120.0, 120.0, 120.0, 120.0, 100.0, 60.0, 140.0, 140.0]\n",
      "22 outlier(s) have been deleted.\n",
      "The outlier(s) value(s) are : [120.0, 120.0, 120.0, 120.0, 120.0, 120.0, 120.0, 100.0, 60.0, 20.0, 140.0, 140.0, 100.0, 120.0, 140.0, 120.0, 120.0, 120.0, 1760.0, 140.0, 140.0, 1640.0]\n",
      "20 outlier(s) have been deleted.\n",
      "The outlier(s) value(s) are : [100.0, 120.0, 140.0, 120.0, 120.0, 120.0, 1760.0, 140.0, 140.0, 1640.0, 120.0, 120.0, 1900.0, 140.0, 100.0, 100.0, 1940.0, 80.0, 100.0, 60.0]\n",
      "19 outlier(s) have been deleted.\n",
      "The outlier(s) value(s) are : [120.0, 1900.0, 140.0, 100.0, 100.0, 1940.0, 80.0, 100.0, 60.0, 80.0, 100.0, 120.0, 80.0, 80.0, 120.0, 80.0, 120.0, 1520.0, 120.0]\n",
      "15 outlier(s) have been deleted.\n",
      "The outlier(s) value(s) are : [100.0, 120.0, 80.0, 80.0, 120.0, 80.0, 120.0, 1520.0, 120.0, 120.0, 1700.0, 100.0, 140.0, 120.0, 120.0]\n",
      "18 outlier(s) have been deleted.\n",
      "The outlier(s) value(s) are : [120.0, 1700.0, 100.0, 140.0, 120.0, 120.0, 120.0, 2080.0, 120.0, 1840.0, 100.0, 120.0, 1780.0, 120.0, 2140.0, 100.0, 120.0, 120.0]\n",
      "27 outlier(s) have been deleted.\n",
      "The outlier(s) value(s) are : [120.0, 2080.0, 120.0, 1840.0, 120.0, 1780.0, 120.0, 2140.0, 100.0, 120.0, 120.0, 2140.0, 120.0, 1800.0, 1520.0, 120.0, 140.0, 120.0, 1860.0, 120.0, 120.0, 100.0, 120.0, 100.0, 1580.0, 120.0, 120.0]\n",
      "21 outlier(s) have been deleted.\n",
      "The outlier(s) value(s) are : [120.0, 1800.0, 1520.0, 120.0, 140.0, 120.0, 1860.0, 120.0, 120.0, 100.0, 120.0, 100.0, 1580.0, 120.0, 120.0, 100.0, 120.0, 1880.0, 120.0, 120.0, 20.0]\n",
      "8 outlier(s) have been deleted.\n",
      "The outlier(s) value(s) are : [100.0, 120.0, 1880.0, 120.0, 120.0, 180.0, 120.0, 140.0]\n",
      "7 outlier(s) have been deleted.\n",
      "The outlier(s) value(s) are : [100.0, 100.0, 100.0, 100.0, 120.0, 120.0, 120.0]\n",
      "6 outlier(s) have been deleted.\n",
      "The outlier(s) value(s) are : [120.0, 100.0, 120.0, 120.0, 120.0, 120.0]\n",
      "3 outlier(s) have been deleted.\n",
      "The outlier(s) value(s) are : [80.0, 120.0, 100.0]\n",
      "0 outlier(s) have been deleted.\n",
      "6 outlier(s) have been deleted.\n",
      "The outlier(s) value(s) are : [120.0, 100.0, 120.0, 120.0, 120.0, 100.0]\n",
      "11 outlier(s) have been deleted.\n",
      "The outlier(s) value(s) are : [120.0, 100.0, 120.0, 120.0, 120.0, 100.0, 100.0, 80.0, 100.0, 1600.0, 140.0]\n",
      "8 outlier(s) have been deleted.\n",
      "The outlier(s) value(s) are : [100.0, 80.0, 100.0, 1600.0, 140.0, 120.0, 120.0, 120.0]\n",
      "2 outlier(s) have been deleted.\n",
      "The outlier(s) value(s) are : [120.0, 120.0]\n",
      "1 outlier(s) have been deleted.\n",
      "The outlier(s) value(s) are : [140.0]\n",
      "0 outlier(s) have been deleted.\n",
      "2 outlier(s) have been deleted.\n",
      "The outlier(s) value(s) are : [100.0, 120.0]\n",
      "2 outlier(s) have been deleted.\n",
      "The outlier(s) value(s) are : [100.0, 120.0]\n",
      "0 outlier(s) have been deleted.\n",
      "1 outlier(s) have been deleted.\n",
      "The outlier(s) value(s) are : [120.0]\n",
      "1 outlier(s) have been deleted.\n",
      "The outlier(s) value(s) are : [120.0]\n",
      "0 outlier(s) have been deleted.\n",
      "0 outlier(s) have been deleted.\n",
      "2 outlier(s) have been deleted.\n",
      "The outlier(s) value(s) are : [120.0, 100.0]\n",
      "5 outlier(s) have been deleted.\n",
      "The outlier(s) value(s) are : [80.0, 120.0, 100.0, 120.0, 120.0]\n",
      "14 outlier(s) have been deleted.\n",
      "The outlier(s) value(s) are : [120.0, 100.0, 120.0, 120.0, 120.0, 120.0, 140.0, 100.0, 140.0, 120.0, 140.0, 140.0, 140.0, 120.0]\n",
      "15 outlier(s) have been deleted.\n",
      "The outlier(s) value(s) are : [120.0, 140.0, 120.0, 100.0, 140.0, 120.0, 140.0, 140.0, 140.0, 120.0, 140.0, 120.0, 140.0, 140.0, 140.0]\n",
      "17 outlier(s) have been deleted.\n",
      "The outlier(s) value(s) are : [140.0, 120.0, 140.0, 140.0, 140.0, 120.0, 140.0, 140.0, 100.0, 140.0, 1680.0, 140.0, 100.0, 120.0, 140.0, 140.0, 60.0]\n",
      "19 outlier(s) have been deleted.\n",
      "The outlier(s) value(s) are : [120.0, 140.0, 140.0, 100.0, 140.0, 1680.0, 140.0, 100.0, 120.0, 140.0, 140.0, 60.0, 140.0, 140.0, 120.0, 60.0, 140.0, 120.0, 80.0]\n",
      "15 outlier(s) have been deleted.\n",
      "The outlier(s) value(s) are : [140.0, 140.0, 120.0, 60.0, 140.0, 120.0, 80.0, 100.0, 1620.0, 140.0, 120.0, 120.0, 1540.0, 140.0, 120.0]\n",
      "14 outlier(s) have been deleted.\n",
      "The outlier(s) value(s) are : [100.0, 1620.0, 120.0, 120.0, 120.0, 1540.0, 140.0, 120.0, 100.0, 100.0, 140.0, 140.0, 100.0, 120.0]\n",
      "11 outlier(s) have been deleted.\n",
      "The outlier(s) value(s) are : [100.0, 100.0, 100.0, 140.0, 140.0, 100.0, 140.0, 120.0, 120.0, 100.0, 140.0]\n",
      "7 outlier(s) have been deleted.\n",
      "The outlier(s) value(s) are : [120.0, 120.0, 100.0, 140.0, 120.0, 120.0, 120.0]\n",
      "6 outlier(s) have been deleted.\n",
      "The outlier(s) value(s) are : [120.0, 120.0, 120.0, 140.0, 100.0, 120.0]\n",
      "10 outlier(s) have been deleted.\n",
      "The outlier(s) value(s) are : [140.0, 100.0, 120.0, 120.0, 140.0, 120.0, 120.0, 80.0, 100.0, 120.0]\n",
      "11 outlier(s) have been deleted.\n",
      "The outlier(s) value(s) are : [140.0, 120.0, 120.0, 80.0, 100.0, 120.0, 120.0, 100.0, 120.0, 140.0, 120.0]\n",
      "17 outlier(s) have been deleted.\n",
      "The outlier(s) value(s) are : [120.0, 100.0, 120.0, 140.0, 120.0, 140.0, 1740.0, 80.0, 120.0, 120.0, 120.0, 140.0, 120.0, 1840.0, 140.0, 1540.0, 140.0]\n",
      "9 outlier(s) have been deleted.\n",
      "The outlier(s) value(s) are : [1880.0, 1960.0, 1660.0, 1960.0, 1680.0, 1620.0, 1640.0, 1740.0, 1680.0]\n",
      "9 outlier(s) have been deleted.\n",
      "The outlier(s) value(s) are : [100.0, 120.0, 1520.0, 140.0, 1540.0, 120.0, 120.0, 1580.0, 120.0]\n",
      "3 outlier(s) have been deleted.\n",
      "The outlier(s) value(s) are : [120.0, 1580.0, 120.0]\n",
      "1 outlier(s) have been deleted.\n",
      "The outlier(s) value(s) are : [1800.0]\n",
      "4 outlier(s) have been deleted.\n",
      "The outlier(s) value(s) are : [80.0, 100.0, 80.0, 100.0]\n",
      "3 outlier(s) have been deleted.\n",
      "The outlier(s) value(s) are : [100.0, 80.0, 100.0]\n",
      "0 outlier(s) have been deleted.\n",
      "0 outlier(s) have been deleted.\n",
      "7 outlier(s) have been deleted.\n",
      "The outlier(s) value(s) are : [100.0, 100.0, 120.0, 80.0, 80.0, 100.0, 100.0]\n",
      "7 outlier(s) have been deleted.\n",
      "The outlier(s) value(s) are : [120.0, 80.0, 80.0, 100.0, 100.0, 100.0, 100.0]\n",
      "3 outlier(s) have been deleted.\n",
      "The outlier(s) value(s) are : [100.0, 100.0, 80.0]\n",
      "0 outlier(s) have been deleted.\n",
      "1 outlier(s) have been deleted.\n",
      "The outlier(s) value(s) are : [100.0]\n",
      "1 outlier(s) have been deleted.\n",
      "The outlier(s) value(s) are : [100.0]\n",
      "0 outlier(s) have been deleted.\n",
      "1 outlier(s) have been deleted.\n",
      "The outlier(s) value(s) are : [60.0]\n",
      "0 outlier(s) have been deleted.\n",
      "1 outlier(s) have been deleted.\n",
      "The outlier(s) value(s) are : [100.0]\n",
      "1 outlier(s) have been deleted.\n",
      "The outlier(s) value(s) are : [100.0]\n",
      "0 outlier(s) have been deleted.\n",
      "2 outlier(s) have been deleted.\n",
      "The outlier(s) value(s) are : [100.0, 1660.0]\n",
      "4 outlier(s) have been deleted.\n",
      "The outlier(s) value(s) are : [100.0, 1660.0, 100.0, 100.0]\n",
      "0 outlier(s) have been deleted.\n",
      "3 outlier(s) have been deleted.\n",
      "The outlier(s) value(s) are : [40.0, 120.0, 100.0]\n",
      "2 outlier(s) have been deleted.\n",
      "The outlier(s) value(s) are : [120.0, 100.0]\n",
      "1 outlier(s) have been deleted.\n",
      "The outlier(s) value(s) are : [100.0]\n",
      "0 outlier(s) have been deleted.\n",
      "2 outlier(s) have been deleted.\n",
      "The outlier(s) value(s) are : [100.0, 100.0]\n",
      "3 outlier(s) have been deleted.\n",
      "The outlier(s) value(s) are : [100.0, 100.0, 120.0]\n",
      "3 outlier(s) have been deleted.\n",
      "The outlier(s) value(s) are : [120.0, 100.0, 100.0]\n",
      "1 outlier(s) have been deleted.\n",
      "The outlier(s) value(s) are : [80.0]\n",
      "0 outlier(s) have been deleted.\n",
      "2 outlier(s) have been deleted.\n",
      "The outlier(s) value(s) are : [100.0, 100.0]\n",
      "3 outlier(s) have been deleted.\n",
      "The outlier(s) value(s) are : [100.0, 80.0, 100.0]\n",
      "2 outlier(s) have been deleted.\n",
      "The outlier(s) value(s) are : [80.0, 120.0]\n",
      "2 outlier(s) have been deleted.\n",
      "The outlier(s) value(s) are : [160.0, 180.0]\n",
      "2 outlier(s) have been deleted.\n",
      "The outlier(s) value(s) are : [180.0, 100.0]\n",
      "1 outlier(s) have been deleted.\n",
      "The outlier(s) value(s) are : [80.0]\n",
      "1 outlier(s) have been deleted.\n",
      "The outlier(s) value(s) are : [100.0]\n",
      "2 outlier(s) have been deleted.\n",
      "The outlier(s) value(s) are : [140.0, 140.0]\n",
      "2 outlier(s) have been deleted.\n",
      "The outlier(s) value(s) are : [140.0, 160.0]\n",
      "1 outlier(s) have been deleted.\n",
      "The outlier(s) value(s) are : [160.0]\n",
      "3 outlier(s) have been deleted.\n",
      "The outlier(s) value(s) are : [160.0, 100.0, 100.0]\n",
      "5 outlier(s) have been deleted.\n",
      "The outlier(s) value(s) are : [160.0, 100.0, 100.0, 160.0, 140.0]\n",
      "1 outlier(s) have been deleted.\n",
      "The outlier(s) value(s) are : [140.0]\n",
      "1 outlier(s) have been deleted.\n",
      "The outlier(s) value(s) are : [120.0]\n",
      "2 outlier(s) have been deleted.\n",
      "The outlier(s) value(s) are : [120.0, 100.0]\n",
      "1 outlier(s) have been deleted.\n",
      "The outlier(s) value(s) are : [100.0]\n",
      "0 outlier(s) have been deleted.\n"
     ]
    },
    {
     "name": "stdout",
     "output_type": "stream",
     "text": [
      "2 outlier(s) have been deleted.\n",
      "The outlier(s) value(s) are : [120.0, 80.0]\n",
      "2 outlier(s) have been deleted.\n",
      "The outlier(s) value(s) are : [80.0, 100.0]\n",
      "2 outlier(s) have been deleted.\n",
      "The outlier(s) value(s) are : [100.0, 1580.0]\n",
      "1 outlier(s) have been deleted.\n",
      "The outlier(s) value(s) are : [1580.0]\n",
      "2 outlier(s) have been deleted.\n",
      "The outlier(s) value(s) are : [80.0, 1540.0]\n",
      "2 outlier(s) have been deleted.\n",
      "The outlier(s) value(s) are : [80.0, 1540.0]\n",
      "2 outlier(s) have been deleted.\n",
      "The outlier(s) value(s) are : [60.0, 1580.0]\n",
      "1 outlier(s) have been deleted.\n",
      "The outlier(s) value(s) are : [120.0]\n",
      "2 outlier(s) have been deleted.\n",
      "The outlier(s) value(s) are : [100.0, 1580.0]\n",
      "6 outlier(s) have been deleted.\n",
      "The outlier(s) value(s) are : [120.0, 140.0, 120.0, 140.0, 120.0, 140.0]\n",
      "6 outlier(s) have been deleted.\n",
      "The outlier(s) value(s) are : [140.0, 120.0, 140.0, 140.0, 140.0, 140.0]\n",
      "8 outlier(s) have been deleted.\n",
      "The outlier(s) value(s) are : [120.0, 140.0, 140.0, 120.0, 120.0, 140.0, 1780.0, 120.0]\n",
      "5 outlier(s) have been deleted.\n",
      "The outlier(s) value(s) are : [120.0, 120.0, 140.0, 1780.0, 120.0]\n",
      "0 outlier(s) have been deleted.\n",
      "1 outlier(s) have been deleted.\n",
      "The outlier(s) value(s) are : [120.0]\n",
      "1 outlier(s) have been deleted.\n",
      "The outlier(s) value(s) are : [120.0]\n",
      "1 outlier(s) have been deleted.\n",
      "The outlier(s) value(s) are : [100.0]\n",
      "4 outlier(s) have been deleted.\n",
      "The outlier(s) value(s) are : [120.0, 100.0, 1520.0, 100.0]\n",
      "15 outlier(s) have been deleted.\n",
      "The outlier(s) value(s) are : [120.0, 80.0, 160.0, 80.0, 140.0, 100.0, 120.0, 140.0, 140.0, 140.0, 140.0, 120.0, 100.0, 80.0, 140.0]\n",
      "13 outlier(s) have been deleted.\n",
      "The outlier(s) value(s) are : [140.0, 140.0, 140.0, 120.0, 100.0, 80.0, 140.0, 140.0, 100.0, 140.0, 120.0, 120.0, 140.0]\n",
      "10 outlier(s) have been deleted.\n",
      "The outlier(s) value(s) are : [140.0, 100.0, 140.0, 120.0, 120.0, 120.0, 140.0, 120.0, 100.0, 160.0]\n",
      "1 outlier(s) have been deleted.\n",
      "The outlier(s) value(s) are : [80.0]\n",
      "2 outlier(s) have been deleted.\n",
      "The outlier(s) value(s) are : [100.0, 1580.0]\n",
      "5 outlier(s) have been deleted.\n",
      "The outlier(s) value(s) are : [100.0, 1580.0, 120.0, 120.0, 120.0]\n",
      "6 outlier(s) have been deleted.\n",
      "The outlier(s) value(s) are : [140.0, 140.0, 120.0, 160.0, 160.0, 140.0]\n",
      "0 outlier(s) have been deleted.\n",
      "0 outlier(s) have been deleted.\n",
      "0 outlier(s) have been deleted.\n",
      "2 outlier(s) have been deleted.\n",
      "The outlier(s) value(s) are : [120.0, 120.0]\n",
      "4 outlier(s) have been deleted.\n",
      "The outlier(s) value(s) are : [120.0, 120.0, 120.0, 100.0]\n",
      "2 outlier(s) have been deleted.\n",
      "The outlier(s) value(s) are : [120.0, 100.0]\n",
      "1 outlier(s) have been deleted.\n",
      "The outlier(s) value(s) are : [80.0]\n",
      "2 outlier(s) have been deleted.\n",
      "The outlier(s) value(s) are : [120.0, 120.0]\n",
      "1 outlier(s) have been deleted.\n",
      "The outlier(s) value(s) are : [120.0]\n",
      "1 outlier(s) have been deleted.\n",
      "The outlier(s) value(s) are : [180.0]\n",
      "3 outlier(s) have been deleted.\n",
      "The outlier(s) value(s) are : [160.0, 1520.0, 120.0]\n",
      "3 outlier(s) have been deleted.\n",
      "The outlier(s) value(s) are : [1520.0, 120.0, 120.0]\n",
      "7 outlier(s) have been deleted.\n",
      "The outlier(s) value(s) are : [120.0, 120.0, 140.0, 120.0, 120.0, 120.0, 120.0]\n",
      "6 outlier(s) have been deleted.\n",
      "The outlier(s) value(s) are : [140.0, 120.0, 120.0, 120.0, 120.0, 120.0]\n",
      "2 outlier(s) have been deleted.\n",
      "The outlier(s) value(s) are : [100.0, 120.0]\n",
      "2 outlier(s) have been deleted.\n",
      "The outlier(s) value(s) are : [60.0, 80.0]\n",
      "3 outlier(s) have been deleted.\n",
      "The outlier(s) value(s) are : [160.0, 140.0, 120.0]\n",
      "3 outlier(s) have been deleted.\n",
      "The outlier(s) value(s) are : [140.0, 120.0, 120.0]\n",
      "3 outlier(s) have been deleted.\n",
      "The outlier(s) value(s) are : [120.0, 100.0, 120.0]\n",
      "3 outlier(s) have been deleted.\n",
      "The outlier(s) value(s) are : [100.0, 120.0, 100.0]\n",
      "1 outlier(s) have been deleted.\n",
      "The outlier(s) value(s) are : [100.0]\n",
      "0 outlier(s) have been deleted.\n",
      "3 outlier(s) have been deleted.\n",
      "The outlier(s) value(s) are : [100.0, 100.0, 1780.0]\n",
      "2 outlier(s) have been deleted.\n",
      "The outlier(s) value(s) are : [1780.0, 1620.0]\n",
      "10 outlier(s) have been deleted.\n",
      "The outlier(s) value(s) are : [140.0, 120.0, 120.0, 120.0, 100.0, 120.0, 100.0, 100.0, 120.0, 120.0]\n",
      "3 outlier(s) have been deleted.\n",
      "The outlier(s) value(s) are : [100.0, 1820.0, 100.0]\n",
      "14 outlier(s) have been deleted.\n",
      "The outlier(s) value(s) are : [120.0, 120.0, 120.0, 100.0, 100.0, 120.0, 120.0, 120.0, 120.0, 120.0, 100.0, 120.0, 100.0, 120.0]\n",
      "12 outlier(s) have been deleted.\n",
      "The outlier(s) value(s) are : [120.0, 120.0, 120.0, 120.0, 100.0, 120.0, 100.0, 120.0, 120.0, 1520.0, 140.0, 100.0]\n",
      "4 outlier(s) have been deleted.\n",
      "The outlier(s) value(s) are : [120.0, 1520.0, 140.0, 100.0]\n",
      "2 outlier(s) have been deleted.\n",
      "The outlier(s) value(s) are : [100.0, 120.0]\n",
      "2 outlier(s) have been deleted.\n",
      "The outlier(s) value(s) are : [120.0, 120.0]\n",
      "4 outlier(s) have been deleted.\n",
      "The outlier(s) value(s) are : [120.0, 100.0, 100.0, 100.0]\n",
      "0 outlier(s) have been deleted.\n",
      "4 outlier(s) have been deleted.\n",
      "The outlier(s) value(s) are : [120.0, 100.0, 80.0, 120.0]\n",
      "0 outlier(s) have been deleted.\n",
      "13 outlier(s) have been deleted.\n",
      "The outlier(s) value(s) are : [120.0, 120.0, 80.0, 120.0, 140.0, 1980.0, 140.0, 140.0, 120.0, 120.0, 120.0, 140.0, 120.0]\n",
      "2 outlier(s) have been deleted.\n",
      "The outlier(s) value(s) are : [120.0, 100.0]\n",
      "3 outlier(s) have been deleted.\n",
      "The outlier(s) value(s) are : [120.0, 120.0, 120.0]\n",
      "4 outlier(s) have been deleted.\n",
      "The outlier(s) value(s) are : [120.0, 120.0, 100.0, 100.0]\n",
      "2 outlier(s) have been deleted.\n",
      "The outlier(s) value(s) are : [80.0, 80.0]\n",
      "7 outlier(s) have been deleted.\n",
      "The outlier(s) value(s) are : [120.0, 80.0, 60.0, 1580.0, 60.0, 80.0, 80.0]\n",
      "19 outlier(s) have been deleted.\n",
      "The outlier(s) value(s) are : [140.0, 100.0, 80.0, 80.0, 80.0, 100.0, 100.0, 80.0, 100.0, 100.0, 80.0, 100.0, 100.0, 100.0, 80.0, 100.0, 140.0, 40.0, 100.0]\n",
      "21 outlier(s) have been deleted.\n",
      "The outlier(s) value(s) are : [100.0, 80.0, 100.0, 100.0, 100.0, 80.0, 100.0, 140.0, 40.0, 100.0, 60.0, 100.0, 80.0, 80.0, 60.0, 120.0, 20.0, 100.0, 80.0, 80.0, 100.0]\n",
      "17 outlier(s) have been deleted.\n",
      "The outlier(s) value(s) are : [60.0, 100.0, 80.0, 80.0, 60.0, 120.0, 20.0, 100.0, 80.0, 80.0, 100.0, 80.0, 120.0, 100.0, 60.0, 120.0, 120.0]\n",
      "13 outlier(s) have been deleted.\n",
      "The outlier(s) value(s) are : [80.0, 120.0, 100.0, 60.0, 120.0, 120.0, 100.0, 60.0, 100.0, 120.0, 120.0, 100.0, 120.0]\n",
      "9 outlier(s) have been deleted.\n",
      "The outlier(s) value(s) are : [100.0, 60.0, 100.0, 120.0, 120.0, 100.0, 120.0, 120.0, 100.0]\n",
      "3 outlier(s) have been deleted.\n",
      "The outlier(s) value(s) are : [120.0, 100.0, 100.0]\n",
      "5 outlier(s) have been deleted.\n",
      "The outlier(s) value(s) are : [100.0, 100.0, 100.0, 120.0, 100.0]\n",
      "1 outlier(s) have been deleted.\n",
      "The outlier(s) value(s) are : [1940.0]\n",
      "3 outlier(s) have been deleted.\n",
      "The outlier(s) value(s) are : [100.0, 100.0, 100.0]\n",
      "7 outlier(s) have been deleted.\n",
      "The outlier(s) value(s) are : [100.0, 80.0, 120.0, 100.0, 100.0, 100.0, 80.0]\n",
      "10 outlier(s) have been deleted.\n",
      "The outlier(s) value(s) are : [80.0, 120.0, 100.0, 100.0, 100.0, 80.0, 100.0, 80.0, 100.0, 120.0]\n",
      "5 outlier(s) have been deleted.\n",
      "The outlier(s) value(s) are : [80.0, 100.0, 100.0, 80.0, 100.0]\n",
      "1 outlier(s) have been deleted.\n",
      "The outlier(s) value(s) are : [120.0]\n",
      "1 outlier(s) have been deleted.\n",
      "The outlier(s) value(s) are : [120.0]\n",
      "5 outlier(s) have been deleted.\n",
      "The outlier(s) value(s) are : [120.0, 120.0, 120.0, 140.0, 140.0]\n",
      "5 outlier(s) have been deleted.\n",
      "The outlier(s) value(s) are : [100.0, 100.0, 100.0, 120.0, 100.0]\n",
      "7 outlier(s) have been deleted.\n",
      "The outlier(s) value(s) are : [120.0, 100.0, 120.0, 140.0, 80.0, 100.0, 20.0]\n",
      "13 outlier(s) have been deleted.\n",
      "The outlier(s) value(s) are : [120.0, 160.0, 120.0, 80.0, 100.0, 120.0, 100.0, 100.0, 160.0, 140.0, 40.0, 140.0, 180.0]\n",
      "13 outlier(s) have been deleted.\n",
      "The outlier(s) value(s) are : [120.0, 100.0, 100.0, 160.0, 140.0, 40.0, 140.0, 180.0, 100.0, 100.0, 100.0, 100.0, 80.0]\n",
      "8 outlier(s) have been deleted.\n",
      "The outlier(s) value(s) are : [100.0, 100.0, 100.0, 100.0, 80.0, 100.0, 120.0, 120.0]\n",
      "9 outlier(s) have been deleted.\n",
      "The outlier(s) value(s) are : [120.0, 120.0, 100.0, 100.0, 1560.0, 80.0, 1780.0, 80.0, 120.0]\n",
      "17 outlier(s) have been deleted.\n",
      "The outlier(s) value(s) are : [100.0, 100.0, 100.0, 1560.0, 80.0, 1780.0, 80.0, 120.0, 100.0, 160.0, 140.0, 1580.0, 140.0, 120.0, 140.0, 140.0, 100.0]\n",
      "18 outlier(s) have been deleted.\n",
      "The outlier(s) value(s) are : [100.0, 1580.0, 140.0, 120.0, 140.0, 140.0, 100.0, 140.0, 140.0, 120.0, 100.0, 100.0, 80.0, 100.0, 100.0, 100.0, 1560.0, 80.0]\n",
      "23 outlier(s) have been deleted.\n",
      "The outlier(s) value(s) are : [140.0, 140.0, 120.0, 100.0, 100.0, 80.0, 100.0, 100.0, 100.0, 1560.0, 80.0, 100.0, 100.0, 140.0, 100.0, 100.0, 100.0, 100.0, 100.0, 100.0, 60.0, 1620.0, 180.0]\n",
      "20 outlier(s) have been deleted.\n",
      "The outlier(s) value(s) are : [100.0, 100.0, 140.0, 100.0, 100.0, 100.0, 100.0, 100.0, 100.0, 60.0, 1620.0, 180.0, 100.0, 100.0, 100.0, 100.0, 100.0, 80.0, 120.0, 120.0]\n",
      "20 outlier(s) have been deleted.\n",
      "The outlier(s) value(s) are : [100.0, 100.0, 100.0, 100.0, 100.0, 80.0, 120.0, 120.0, 100.0, 100.0, 120.0, 80.0, 120.0, 120.0, 120.0, 100.0, 60.0, 100.0, 100.0, 140.0]\n",
      "17 outlier(s) have been deleted.\n",
      "The outlier(s) value(s) are : [100.0, 120.0, 80.0, 120.0, 120.0, 120.0, 100.0, 60.0, 100.0, 140.0, 120.0, 140.0, 120.0, 160.0, 160.0, 160.0, 160.0]\n",
      "15 outlier(s) have been deleted.\n",
      "The outlier(s) value(s) are : [120.0, 140.0, 120.0, 160.0, 100.0, 160.0, 160.0, 160.0, 140.0, 120.0, 100.0, 140.0, 80.0, 80.0, 80.0]\n",
      "11 outlier(s) have been deleted.\n",
      "The outlier(s) value(s) are : [160.0, 120.0, 120.0, 140.0, 80.0, 120.0, 80.0, 100.0, 100.0, 80.0, 100.0]\n",
      "4 outlier(s) have been deleted.\n",
      "The outlier(s) value(s) are : [100.0, 100.0, 100.0, 100.0]\n",
      "9 outlier(s) have been deleted.\n",
      "The outlier(s) value(s) are : [100.0, 100.0, 100.0, 100.0, 1860.0, 80.0, 100.0, 100.0, 120.0]\n",
      "7 outlier(s) have been deleted.\n",
      "The outlier(s) value(s) are : [100.0, 1860.0, 80.0, 100.0, 100.0, 120.0, 100.0]\n",
      "0 outlier(s) have been deleted.\n",
      "0 outlier(s) have been deleted.\n",
      "0 outlier(s) have been deleted.\n",
      "7 outlier(s) have been deleted.\n",
      "The outlier(s) value(s) are : [100.0, 100.0, 100.0, 1600.0, 100.0, 100.0, 100.0]\n",
      "10 outlier(s) have been deleted.\n",
      "The outlier(s) value(s) are : [100.0, 100.0, 100.0, 1600.0, 100.0, 100.0, 100.0, 120.0, 100.0, 100.0]\n",
      "2 outlier(s) have been deleted.\n",
      "The outlier(s) value(s) are : [80.0, 80.0]\n",
      "11 outlier(s) have been deleted.\n",
      "The outlier(s) value(s) are : [100.0, 100.0, 100.0, 100.0, 100.0, 1540.0, 100.0, 100.0, 100.0, 100.0, 1520.0]\n",
      "6 outlier(s) have been deleted.\n",
      "The outlier(s) value(s) are : [100.0, 100.0, 100.0, 100.0, 1520.0, 100.0]\n",
      "1 outlier(s) have been deleted.\n",
      "The outlier(s) value(s) are : [100.0]\n",
      "4 outlier(s) have been deleted.\n",
      "The outlier(s) value(s) are : [100.0, 100.0, 1660.0, 60.0]\n",
      "4 outlier(s) have been deleted.\n",
      "The outlier(s) value(s) are : [100.0, 100.0, 1660.0, 60.0]\n",
      "1 outlier(s) have been deleted.\n",
      "The outlier(s) value(s) are : [1700.0]\n",
      "3 outlier(s) have been deleted.\n",
      "The outlier(s) value(s) are : [1700.0, 1540.0, 1580.0]\n",
      "4 outlier(s) have been deleted.\n",
      "The outlier(s) value(s) are : [100.0, 100.0, 100.0, 80.0]\n",
      "3 outlier(s) have been deleted.\n",
      "The outlier(s) value(s) are : [1580.0, 100.0, 1860.0]\n",
      "1 outlier(s) have been deleted.\n",
      "The outlier(s) value(s) are : [1960.0]\n",
      "0 outlier(s) have been deleted.\n",
      "0 outlier(s) have been deleted.\n",
      "7 outlier(s) have been deleted.\n",
      "The outlier(s) value(s) are : [100.0, 80.0, 100.0, 100.0, 100.0, 100.0, 140.0]\n",
      "8 outlier(s) have been deleted.\n",
      "The outlier(s) value(s) are : [100.0, 80.0, 100.0, 100.0, 100.0, 100.0, 140.0, 80.0]\n",
      "9 outlier(s) have been deleted.\n",
      "The outlier(s) value(s) are : [80.0, 80.0, 100.0, 1960.0, 100.0, 80.0, 1540.0, 80.0, 80.0]\n",
      "15 outlier(s) have been deleted.\n",
      "The outlier(s) value(s) are : [80.0, 100.0, 1960.0, 100.0, 80.0, 1540.0, 80.0, 80.0, 100.0, 1520.0, 80.0, 1960.0, 1980.0, 40.0, 80.0]\n",
      "12 outlier(s) have been deleted.\n",
      "The outlier(s) value(s) are : [100.0, 1520.0, 1960.0, 100.0, 1880.0, 60.0, 80.0, 100.0, 1760.0, 80.0, 1760.0, 100.0]\n",
      "7 outlier(s) have been deleted.\n",
      "The outlier(s) value(s) are : [100.0, 1760.0, 80.0, 1760.0, 100.0, 100.0, 60.0]\n",
      "4 outlier(s) have been deleted.\n",
      "The outlier(s) value(s) are : [100.0, 100.0, 60.0, 100.0]\n",
      "2 outlier(s) have been deleted.\n",
      "The outlier(s) value(s) are : [1580.0, 1600.0]\n",
      "9 outlier(s) have been deleted.\n",
      "The outlier(s) value(s) are : [100.0, 80.0, 1860.0, 100.0, 1980.0, 100.0, 100.0, 100.0, 100.0]\n",
      "18 outlier(s) have been deleted.\n",
      "The outlier(s) value(s) are : [100.0, 1980.0, 100.0, 100.0, 100.0, 100.0, 80.0, 100.0, 1520.0, 100.0, 100.0, 100.0, 100.0, 2080.0, 100.0, 80.0, 100.0, 100.0]\n",
      "19 outlier(s) have been deleted.\n",
      "The outlier(s) value(s) are : [100.0, 1520.0, 100.0, 100.0, 100.0, 100.0, 2080.0, 100.0, 80.0, 100.0, 100.0, 100.0, 1660.0, 100.0, 100.0, 100.0, 1600.0, 100.0, 100.0]\n",
      "10 outlier(s) have been deleted.\n",
      "The outlier(s) value(s) are : [1660.0, 1540.0, 1700.0, 2120.0, 1860.0, 1920.0, 1980.0, 1880.0, 1740.0, 1740.0]\n",
      "11 outlier(s) have been deleted.\n",
      "The outlier(s) value(s) are : [1920.0, 1980.0, 1880.0, 1740.0, 1740.0, 60.0, 1660.0, 2120.0, 1560.0, 2140.0, 80.0]\n",
      "6 outlier(s) have been deleted.\n",
      "The outlier(s) value(s) are : [100.0, 2020.0, 100.0, 100.0, 100.0, 80.0]\n"
     ]
    },
    {
     "name": "stdout",
     "output_type": "stream",
     "text": [
      "1 outlier(s) have been deleted.\n",
      "The outlier(s) value(s) are : [1820.0]\n",
      "0 outlier(s) have been deleted.\n",
      "0 outlier(s) have been deleted.\n",
      "0 outlier(s) have been deleted.\n",
      "0 outlier(s) have been deleted.\n",
      "1 outlier(s) have been deleted.\n",
      "The outlier(s) value(s) are : [80.0]\n",
      "2 outlier(s) have been deleted.\n",
      "The outlier(s) value(s) are : [80.0, 100.0]\n",
      "1 outlier(s) have been deleted.\n",
      "The outlier(s) value(s) are : [1620.0]\n",
      "1 outlier(s) have been deleted.\n",
      "The outlier(s) value(s) are : [1540.0]\n",
      "3 outlier(s) have been deleted.\n",
      "The outlier(s) value(s) are : [1540.0, 1940.0, 1960.0]\n",
      "4 outlier(s) have been deleted.\n",
      "The outlier(s) value(s) are : [100.0, 100.0, 120.0, 120.0]\n",
      "5 outlier(s) have been deleted.\n",
      "The outlier(s) value(s) are : [120.0, 100.0, 100.0, 100.0, 120.0]\n",
      "5 outlier(s) have been deleted.\n",
      "The outlier(s) value(s) are : [100.0, 100.0, 100.0, 120.0, 100.0]\n",
      "2 outlier(s) have been deleted.\n",
      "The outlier(s) value(s) are : [100.0, 100.0]\n",
      "2 outlier(s) have been deleted.\n",
      "The outlier(s) value(s) are : [100.0, 100.0]\n",
      "0 outlier(s) have been deleted.\n",
      "1 outlier(s) have been deleted.\n",
      "The outlier(s) value(s) are : [100.0]\n",
      "3 outlier(s) have been deleted.\n",
      "The outlier(s) value(s) are : [100.0, 60.0, 120.0]\n",
      "8 outlier(s) have been deleted.\n",
      "The outlier(s) value(s) are : [80.0, 120.0, 100.0, 100.0, 80.0, 120.0, 120.0, 100.0]\n",
      "20 outlier(s) have been deleted.\n",
      "The outlier(s) value(s) are : [120.0, 120.0, 120.0, 100.0, 100.0, 100.0, 120.0, 100.0, 120.0, 140.0, 100.0, 20.0, 120.0, 100.0, 120.0, 100.0, 120.0, 100.0, 1800.0, 100.0]\n",
      "30 outlier(s) have been deleted.\n",
      "The outlier(s) value(s) are : [140.0, 100.0, 20.0, 120.0, 100.0, 120.0, 100.0, 120.0, 100.0, 1800.0, 100.0, 100.0, 100.0, 1640.0, 120.0, 1600.0, 60.0, 100.0, 120.0, 100.0, 100.0, 100.0, 120.0, 100.0, 1580.0, 120.0, 120.0, 80.0, 100.0, 100.0]\n",
      "19 outlier(s) have been deleted.\n",
      "The outlier(s) value(s) are : [100.0, 100.0, 1640.0, 120.0, 1600.0, 60.0, 100.0, 120.0, 100.0, 100.0, 100.0, 120.0, 100.0, 1580.0, 120.0, 120.0, 80.0, 100.0, 100.0]\n",
      "0 outlier(s) have been deleted.\n",
      "0 outlier(s) have been deleted.\n",
      "6 outlier(s) have been deleted.\n",
      "The outlier(s) value(s) are : [100.0, 1660.0, 2300.0, 1560.0, 1840.0, 100.0]\n",
      "19 outlier(s) have been deleted.\n",
      "The outlier(s) value(s) are : [120.0, 120.0, 1640.0, 100.0, 2200.0, 100.0, 120.0, 1720.0, 120.0, 120.0, 120.0, 100.0, 80.0, 100.0, 80.0, 100.0, 100.0, 1860.0, 100.0]\n",
      "18 outlier(s) have been deleted.\n",
      "The outlier(s) value(s) are : [100.0, 80.0, 100.0, 80.0, 100.0, 100.0, 1860.0, 100.0, 100.0, 120.0, 100.0, 100.0, 120.0, 120.0, 1600.0, 80.0, 100.0, 100.0]\n",
      "18 outlier(s) have been deleted.\n",
      "The outlier(s) value(s) are : [100.0, 120.0, 100.0, 100.0, 120.0, 120.0, 1600.0, 80.0, 100.0, 100.0, 100.0, 100.0, 100.0, 100.0, 100.0, 80.0, 1520.0, 100.0]\n",
      "16 outlier(s) have been deleted.\n",
      "The outlier(s) value(s) are : [100.0, 100.0, 100.0, 100.0, 100.0, 80.0, 1520.0, 100.0, 100.0, 80.0, 2340.0, 80.0, 120.0, 120.0, 100.0, 100.0]\n",
      "12 outlier(s) have been deleted.\n",
      "The outlier(s) value(s) are : [100.0, 2420.0, 80.0, 100.0, 80.0, 100.0, 100.0, 100.0, 1580.0, 100.0, 100.0, 100.0]\n",
      "12 outlier(s) have been deleted.\n",
      "The outlier(s) value(s) are : [100.0, 100.0, 1580.0, 100.0, 100.0, 100.0, 100.0, 80.0, 1860.0, 100.0, 100.0, 1540.0]\n",
      "4 outlier(s) have been deleted.\n",
      "The outlier(s) value(s) are : [1940.0, 1600.0, 100.0, 1540.0]\n",
      "5 outlier(s) have been deleted.\n",
      "The outlier(s) value(s) are : [100.0, 100.0, 120.0, 120.0, 100.0]\n",
      "13 outlier(s) have been deleted.\n",
      "The outlier(s) value(s) are : [100.0, 100.0, 120.0, 120.0, 100.0, 80.0, 80.0, 120.0, 100.0, 100.0, 100.0, 60.0, 60.0]\n",
      "11 outlier(s) have been deleted.\n",
      "The outlier(s) value(s) are : [80.0, 120.0, 100.0, 100.0, 100.0, 60.0, 60.0, 100.0, 120.0, 120.0, 120.0]\n",
      "6 outlier(s) have been deleted.\n",
      "The outlier(s) value(s) are : [120.0, 120.0, 140.0, 100.0, 100.0, 120.0]\n",
      "1 outlier(s) have been deleted.\n",
      "The outlier(s) value(s) are : [120.0]\n",
      "3 outlier(s) have been deleted.\n",
      "The outlier(s) value(s) are : [120.0, 120.0, 1620.0]\n",
      "6 outlier(s) have been deleted.\n",
      "The outlier(s) value(s) are : [120.0, 120.0, 1620.0, 120.0, 120.0, 100.0]\n",
      "7 outlier(s) have been deleted.\n",
      "The outlier(s) value(s) are : [120.0, 120.0, 100.0, 140.0, 140.0, 120.0, 120.0]\n",
      "7 outlier(s) have been deleted.\n",
      "The outlier(s) value(s) are : [140.0, 140.0, 120.0, 120.0, 140.0, 140.0, 140.0]\n",
      "9 outlier(s) have been deleted.\n",
      "The outlier(s) value(s) are : [120.0, 140.0, 140.0, 140.0, 100.0, 120.0, 140.0, 100.0, 100.0]\n",
      "10 outlier(s) have been deleted.\n",
      "The outlier(s) value(s) are : [100.0, 120.0, 140.0, 100.0, 100.0, 140.0, 120.0, 160.0, 120.0, 140.0]\n",
      "11 outlier(s) have been deleted.\n",
      "The outlier(s) value(s) are : [140.0, 120.0, 160.0, 120.0, 140.0, 120.0, 160.0, 1640.0, 100.0, 1620.0, 140.0]\n",
      "13 outlier(s) have been deleted.\n",
      "The outlier(s) value(s) are : [120.0, 160.0, 1640.0, 100.0, 1620.0, 140.0, 140.0, 1560.0, 80.0, 80.0, 100.0, 160.0, 140.0]\n",
      "7 outlier(s) have been deleted.\n",
      "The outlier(s) value(s) are : [140.0, 1560.0, 80.0, 80.0, 100.0, 160.0, 100.0]\n",
      "5 outlier(s) have been deleted.\n",
      "The outlier(s) value(s) are : [100.0, 140.0, 120.0, 2880.0, 120.0]\n",
      "5 outlier(s) have been deleted.\n",
      "The outlier(s) value(s) are : [140.0, 120.0, 2880.0, 120.0, 140.0]\n",
      "3 outlier(s) have been deleted.\n",
      "The outlier(s) value(s) are : [140.0, 120.0, 100.0]\n",
      "2 outlier(s) have been deleted.\n",
      "The outlier(s) value(s) are : [120.0, 100.0]\n",
      "3 outlier(s) have been deleted.\n",
      "The outlier(s) value(s) are : [100.0, 120.0, 1820.0]\n",
      "6 outlier(s) have been deleted.\n",
      "The outlier(s) value(s) are : [100.0, 1860.0, 100.0, 100.0, 80.0, 60.0]\n",
      "10 outlier(s) have been deleted.\n",
      "The outlier(s) value(s) are : [140.0, 140.0, 100.0, 80.0, 80.0, 1700.0, 120.0, 120.0, 120.0, 100.0]\n",
      "7 outlier(s) have been deleted.\n",
      "The outlier(s) value(s) are : [120.0, 120.0, 120.0, 100.0, 120.0, 100.0, 1580.0]\n",
      "6 outlier(s) have been deleted.\n",
      "The outlier(s) value(s) are : [100.0, 100.0, 1580.0, 160.0, 1580.0, 100.0]\n",
      "3 outlier(s) have been deleted.\n",
      "The outlier(s) value(s) are : [180.0, 1560.0, 100.0]\n",
      "3 outlier(s) have been deleted.\n",
      "The outlier(s) value(s) are : [80.0, 120.0, 140.0]\n",
      "9 outlier(s) have been deleted.\n",
      "The outlier(s) value(s) are : [80.0, 120.0, 140.0, 100.0, 160.0, 140.0, 140.0, 140.0, 120.0]\n",
      "13 outlier(s) have been deleted.\n",
      "The outlier(s) value(s) are : [100.0, 160.0, 140.0, 140.0, 140.0, 120.0, 140.0, 160.0, 140.0, 120.0, 140.0, 120.0, 140.0]\n",
      "13 outlier(s) have been deleted.\n",
      "The outlier(s) value(s) are : [160.0, 140.0, 120.0, 140.0, 120.0, 140.0, 2260.0, 140.0, 140.0, 120.0, 140.0, 1540.0, 120.0]\n",
      "10 outlier(s) have been deleted.\n",
      "The outlier(s) value(s) are : [140.0, 140.0, 120.0, 140.0, 1540.0, 120.0, 120.0, 140.0, 140.0, 140.0]\n",
      "9 outlier(s) have been deleted.\n",
      "The outlier(s) value(s) are : [140.0, 140.0, 140.0, 140.0, 140.0, 1600.0, 140.0, 120.0, 1680.0]\n",
      "10 outlier(s) have been deleted.\n",
      "The outlier(s) value(s) are : [140.0, 140.0, 1600.0, 140.0, 120.0, 1680.0, 140.0, 140.0, 2500.0, 140.0]\n",
      "4 outlier(s) have been deleted.\n",
      "The outlier(s) value(s) are : [140.0, 140.0, 2500.0, 140.0]\n",
      "1 outlier(s) have been deleted.\n",
      "The outlier(s) value(s) are : [140.0]\n",
      "6 outlier(s) have been deleted.\n",
      "The outlier(s) value(s) are : [140.0, 140.0, 120.0, 2080.0, 120.0, 1780.0]\n",
      "5 outlier(s) have been deleted.\n",
      "The outlier(s) value(s) are : [120.0, 2080.0, 120.0, 1780.0, 140.0]\n",
      "8 outlier(s) have been deleted.\n",
      "The outlier(s) value(s) are : [140.0, 140.0, 140.0, 1800.0, 120.0, 120.0, 120.0, 120.0]\n",
      "9 outlier(s) have been deleted.\n",
      "The outlier(s) value(s) are : [140.0, 140.0, 1800.0, 120.0, 120.0, 120.0, 120.0, 120.0, 120.0]\n",
      "3 outlier(s) have been deleted.\n",
      "The outlier(s) value(s) are : [120.0, 120.0, 100.0]\n",
      "6 outlier(s) have been deleted.\n",
      "The outlier(s) value(s) are : [100.0, 100.0, 1680.0, 80.0, 120.0, 80.0]\n",
      "7 outlier(s) have been deleted.\n",
      "The outlier(s) value(s) are : [100.0, 1680.0, 80.0, 120.0, 80.0, 120.0, 120.0]\n",
      "0 outlier(s) have been deleted.\n",
      "3 outlier(s) have been deleted.\n",
      "The outlier(s) value(s) are : [100.0, 100.0, 120.0]\n",
      "6 outlier(s) have been deleted.\n",
      "The outlier(s) value(s) are : [100.0, 120.0, 100.0, 1540.0, 80.0, 80.0]\n",
      "4 outlier(s) have been deleted.\n",
      "The outlier(s) value(s) are : [100.0, 1540.0, 80.0, 80.0]\n",
      "0 outlier(s) have been deleted.\n",
      "6 outlier(s) have been deleted.\n",
      "The outlier(s) value(s) are : [100.0, 2420.0, 60.0, 1640.0, 100.0, 1560.0]\n",
      "7 outlier(s) have been deleted.\n",
      "The outlier(s) value(s) are : [100.0, 2420.0, 60.0, 1640.0, 100.0, 1560.0, 100.0]\n",
      "1 outlier(s) have been deleted.\n",
      "The outlier(s) value(s) are : [80.0]\n",
      "2 outlier(s) have been deleted.\n",
      "The outlier(s) value(s) are : [100.0, 1800.0]\n",
      "2 outlier(s) have been deleted.\n",
      "The outlier(s) value(s) are : [100.0, 1800.0]\n",
      "7 outlier(s) have been deleted.\n",
      "The outlier(s) value(s) are : [100.0, 1560.0, 100.0, 100.0, 100.0, 1540.0, 100.0]\n",
      "6 outlier(s) have been deleted.\n",
      "The outlier(s) value(s) are : [100.0, 1560.0, 80.0, 1540.0, 120.0, 2040.0]\n",
      "1 outlier(s) have been deleted.\n",
      "The outlier(s) value(s) are : [140.0]\n",
      "1 outlier(s) have been deleted.\n",
      "The outlier(s) value(s) are : [100.0]\n",
      "1 outlier(s) have been deleted.\n",
      "The outlier(s) value(s) are : [100.0]\n",
      "0 outlier(s) have been deleted.\n",
      "0 outlier(s) have been deleted.\n",
      "4 outlier(s) have been deleted.\n",
      "The outlier(s) value(s) are : [120.0, 120.0, 1660.0, 120.0]\n",
      "8 outlier(s) have been deleted.\n",
      "The outlier(s) value(s) are : [120.0, 120.0, 1660.0, 120.0, 100.0, 100.0, 2260.0, 100.0]\n",
      "9 outlier(s) have been deleted.\n",
      "The outlier(s) value(s) are : [100.0, 100.0, 2260.0, 100.0, 80.0, 1540.0, 100.0, 100.0, 100.0]\n",
      "9 outlier(s) have been deleted.\n",
      "The outlier(s) value(s) are : [80.0, 1540.0, 100.0, 80.0, 1640.0, 100.0, 100.0, 100.0, 60.0]\n",
      "3 outlier(s) have been deleted.\n",
      "The outlier(s) value(s) are : [100.0, 60.0, 80.0]\n",
      "4 outlier(s) have been deleted.\n",
      "The outlier(s) value(s) are : [80.0, 120.0, 1620.0, 120.0]\n",
      "9 outlier(s) have been deleted.\n",
      "The outlier(s) value(s) are : [120.0, 1640.0, 80.0, 120.0, 100.0, 1700.0, 80.0, 100.0, 1600.0]\n",
      "8 outlier(s) have been deleted.\n",
      "The outlier(s) value(s) are : [120.0, 100.0, 1700.0, 80.0, 120.0, 1580.0, 100.0, 80.0]\n",
      "13 outlier(s) have been deleted.\n",
      "The outlier(s) value(s) are : [80.0, 120.0, 1780.0, 120.0, 1720.0, 120.0, 1720.0, 120.0, 1560.0, 80.0, 120.0, 1600.0, 100.0]\n",
      "17 outlier(s) have been deleted.\n",
      "The outlier(s) value(s) are : [120.0, 1780.0, 120.0, 1720.0, 120.0, 1720.0, 120.0, 1560.0, 80.0, 120.0, 1600.0, 100.0, 100.0, 120.0, 120.0, 100.0, 100.0]\n",
      "6 outlier(s) have been deleted.\n",
      "The outlier(s) value(s) are : [100.0, 120.0, 100.0, 120.0, 120.0, 120.0]\n",
      "7 outlier(s) have been deleted.\n",
      "The outlier(s) value(s) are : [120.0, 120.0, 120.0, 140.0, 100.0, 1560.0, 80.0]\n",
      "13 outlier(s) have been deleted.\n",
      "The outlier(s) value(s) are : [120.0, 140.0, 100.0, 1560.0, 80.0, 100.0, 1520.0, 140.0, 1560.0, 100.0, 1560.0, 100.0, 1540.0]\n",
      "12 outlier(s) have been deleted.\n",
      "The outlier(s) value(s) are : [140.0, 1540.0, 120.0, 1540.0, 120.0, 120.0, 1520.0, 100.0, 120.0, 80.0, 60.0, 100.0]\n",
      "10 outlier(s) have been deleted.\n",
      "The outlier(s) value(s) are : [100.0, 120.0, 80.0, 60.0, 100.0, 100.0, 160.0, 120.0, 2200.0, 160.0]\n",
      "8 outlier(s) have been deleted.\n",
      "The outlier(s) value(s) are : [100.0, 160.0, 120.0, 2200.0, 160.0, 140.0, 120.0, 180.0]\n",
      "3 outlier(s) have been deleted.\n",
      "The outlier(s) value(s) are : [120.0, 140.0, 1700.0]\n",
      "2 outlier(s) have been deleted.\n",
      "The outlier(s) value(s) are : [140.0, 1860.0]\n",
      "4 outlier(s) have been deleted.\n",
      "The outlier(s) value(s) are : [140.0, 140.0, 1860.0, 120.0]\n",
      "0 outlier(s) have been deleted.\n",
      "2 outlier(s) have been deleted.\n",
      "The outlier(s) value(s) are : [120.0, 1620.0]\n",
      "2 outlier(s) have been deleted.\n",
      "The outlier(s) value(s) are : [1740.0, 1560.0]\n",
      "1 outlier(s) have been deleted.\n",
      "The outlier(s) value(s) are : [1560.0]\n",
      "2 outlier(s) have been deleted.\n",
      "The outlier(s) value(s) are : [120.0, 140.0]\n",
      "4 outlier(s) have been deleted.\n",
      "The outlier(s) value(s) are : [120.0, 140.0, 100.0, 1540.0]\n",
      "3 outlier(s) have been deleted.\n",
      "The outlier(s) value(s) are : [100.0, 1540.0, 180.0]\n",
      "2 outlier(s) have been deleted.\n",
      "The outlier(s) value(s) are : [100.0, 120.0]\n",
      "2 outlier(s) have been deleted.\n",
      "The outlier(s) value(s) are : [120.0, 140.0]\n",
      "2 outlier(s) have been deleted.\n",
      "The outlier(s) value(s) are : [140.0, 120.0]\n",
      "5 outlier(s) have been deleted.\n",
      "The outlier(s) value(s) are : [120.0, 120.0, 100.0, 120.0, 140.0]\n",
      "5 outlier(s) have been deleted.\n",
      "The outlier(s) value(s) are : [120.0, 100.0, 120.0, 140.0, 120.0]\n",
      "3 outlier(s) have been deleted.\n",
      "The outlier(s) value(s) are : [120.0, 120.0, 140.0]\n",
      "3 outlier(s) have been deleted.\n",
      "The outlier(s) value(s) are : [120.0, 140.0, 140.0]\n",
      "7 outlier(s) have been deleted.\n",
      "The outlier(s) value(s) are : [140.0, 140.0, 1580.0, 120.0, 80.0, 120.0, 1540.0]\n",
      "9 outlier(s) have been deleted.\n",
      "The outlier(s) value(s) are : [140.0, 1580.0, 120.0, 80.0, 120.0, 1540.0, 120.0, 100.0, 120.0]\n",
      "3 outlier(s) have been deleted.\n",
      "The outlier(s) value(s) are : [120.0, 100.0, 120.0]\n",
      "0 outlier(s) have been deleted.\n",
      "1 outlier(s) have been deleted.\n",
      "The outlier(s) value(s) are : [120.0]\n",
      "4 outlier(s) have been deleted.\n",
      "The outlier(s) value(s) are : [120.0, 120.0, 1540.0, 180.0]\n",
      "4 outlier(s) have been deleted.\n",
      "The outlier(s) value(s) are : [100.0, 1560.0, 120.0, 1660.0]\n",
      "3 outlier(s) have been deleted.\n",
      "The outlier(s) value(s) are : [120.0, 1660.0, 140.0]\n",
      "2 outlier(s) have been deleted.\n",
      "The outlier(s) value(s) are : [140.0, 120.0]\n",
      "3 outlier(s) have been deleted.\n",
      "The outlier(s) value(s) are : [120.0, 80.0, 120.0]\n",
      "2 outlier(s) have been deleted.\n",
      "The outlier(s) value(s) are : [80.0, 120.0]\n",
      "2 outlier(s) have been deleted.\n",
      "The outlier(s) value(s) are : [100.0, 100.0]\n",
      "1 outlier(s) have been deleted.\n",
      "The outlier(s) value(s) are : [100.0]\n",
      "1 outlier(s) have been deleted.\n",
      "The outlier(s) value(s) are : [140.0]\n",
      "4 outlier(s) have been deleted.\n",
      "The outlier(s) value(s) are : [140.0, 100.0, 100.0, 100.0]\n",
      "4 outlier(s) have been deleted.\n",
      "The outlier(s) value(s) are : [100.0, 100.0, 100.0, 100.0]\n",
      "3 outlier(s) have been deleted.\n",
      "The outlier(s) value(s) are : [100.0, 60.0, 1940.0]\n",
      "0 outlier(s) have been deleted.\n",
      "1 outlier(s) have been deleted.\n",
      "The outlier(s) value(s) are : [120.0]\n",
      "1 outlier(s) have been deleted.\n",
      "The outlier(s) value(s) are : [120.0]\n"
     ]
    },
    {
     "name": "stdout",
     "output_type": "stream",
     "text": [
      "0 outlier(s) have been deleted.\n",
      "0 outlier(s) have been deleted.\n",
      "1 outlier(s) have been deleted.\n",
      "The outlier(s) value(s) are : [80.0]\n",
      "1 outlier(s) have been deleted.\n",
      "The outlier(s) value(s) are : [80.0]\n",
      "0 outlier(s) have been deleted.\n",
      "1 outlier(s) have been deleted.\n",
      "The outlier(s) value(s) are : [100.0]\n",
      "1 outlier(s) have been deleted.\n",
      "The outlier(s) value(s) are : [60.0]\n",
      "0 outlier(s) have been deleted.\n",
      "1 outlier(s) have been deleted.\n",
      "The outlier(s) value(s) are : [120.0]\n",
      "3 outlier(s) have been deleted.\n",
      "The outlier(s) value(s) are : [100.0, 100.0, 80.0]\n",
      "8 outlier(s) have been deleted.\n",
      "The outlier(s) value(s) are : [100.0, 100.0, 80.0, 180.0, 120.0, 120.0, 120.0, 80.0]\n",
      "12 outlier(s) have been deleted.\n",
      "The outlier(s) value(s) are : [180.0, 120.0, 120.0, 120.0, 80.0, 40.0, 120.0, 1620.0, 120.0, 140.0, 140.0, 100.0]\n",
      "11 outlier(s) have been deleted.\n",
      "The outlier(s) value(s) are : [40.0, 120.0, 1620.0, 120.0, 140.0, 140.0, 100.0, 100.0, 120.0, 120.0, 120.0]\n",
      "6 outlier(s) have been deleted.\n",
      "The outlier(s) value(s) are : [100.0, 120.0, 120.0, 120.0, 120.0, 120.0]\n",
      "7 outlier(s) have been deleted.\n",
      "The outlier(s) value(s) are : [120.0, 120.0, 120.0, 1960.0, 120.0, 100.0, 140.0]\n",
      "8 outlier(s) have been deleted.\n",
      "The outlier(s) value(s) are : [120.0, 1960.0, 120.0, 100.0, 140.0, 120.0, 120.0, 1600.0]\n",
      "7 outlier(s) have been deleted.\n",
      "The outlier(s) value(s) are : [120.0, 120.0, 1600.0, 120.0, 100.0, 120.0, 140.0]\n",
      "12 outlier(s) have been deleted.\n",
      "The outlier(s) value(s) are : [120.0, 100.0, 120.0, 140.0, 120.0, 2020.0, 120.0, 120.0, 1820.0, 120.0, 120.0, 120.0]\n",
      "10 outlier(s) have been deleted.\n",
      "The outlier(s) value(s) are : [120.0, 2020.0, 120.0, 120.0, 1820.0, 120.0, 120.0, 120.0, 140.0, 120.0]\n",
      "7 outlier(s) have been deleted.\n",
      "The outlier(s) value(s) are : [100.0, 120.0, 120.0, 100.0, 1580.0, 100.0, 120.0]\n",
      "9 outlier(s) have been deleted.\n",
      "The outlier(s) value(s) are : [120.0, 120.0, 1560.0, 120.0, 120.0, 120.0, 120.0, 120.0, 120.0]\n",
      "6 outlier(s) have been deleted.\n",
      "The outlier(s) value(s) are : [120.0, 120.0, 140.0, 120.0, 120.0, 120.0]\n",
      "6 outlier(s) have been deleted.\n",
      "The outlier(s) value(s) are : [140.0, 120.0, 120.0, 120.0, 140.0, 140.0]\n",
      "4 outlier(s) have been deleted.\n",
      "The outlier(s) value(s) are : [140.0, 140.0, 120.0, 120.0]\n",
      "2 outlier(s) have been deleted.\n",
      "The outlier(s) value(s) are : [120.0, 120.0]\n",
      "2 outlier(s) have been deleted.\n",
      "The outlier(s) value(s) are : [140.0, 120.0]\n",
      "8 outlier(s) have been deleted.\n",
      "The outlier(s) value(s) are : [140.0, 120.0, 140.0, 100.0, 80.0, 120.0, 100.0, 120.0]\n",
      "7 outlier(s) have been deleted.\n",
      "The outlier(s) value(s) are : [100.0, 80.0, 120.0, 100.0, 120.0, 120.0, 100.0]\n",
      "4 outlier(s) have been deleted.\n",
      "The outlier(s) value(s) are : [120.0, 100.0, 120.0, 1520.0]\n",
      "3 outlier(s) have been deleted.\n",
      "The outlier(s) value(s) are : [120.0, 1520.0, 120.0]\n",
      "3 outlier(s) have been deleted.\n",
      "The outlier(s) value(s) are : [120.0, 120.0, 120.0]\n",
      "4 outlier(s) have been deleted.\n",
      "The outlier(s) value(s) are : [120.0, 180.0, 100.0, 100.0]\n",
      "8 outlier(s) have been deleted.\n",
      "The outlier(s) value(s) are : [180.0, 100.0, 180.0, 80.0, 60.0, 60.0, 80.0, 80.0]\n",
      "0 outlier(s) have been deleted.\n",
      "1 outlier(s) have been deleted.\n",
      "The outlier(s) value(s) are : [1700.0]\n",
      "1 outlier(s) have been deleted.\n",
      "The outlier(s) value(s) are : [1700.0]\n",
      "0 outlier(s) have been deleted.\n",
      "0 outlier(s) have been deleted.\n",
      "0 outlier(s) have been deleted.\n",
      "0 outlier(s) have been deleted.\n",
      "0 outlier(s) have been deleted.\n",
      "0 outlier(s) have been deleted.\n",
      "0 outlier(s) have been deleted.\n",
      "0 outlier(s) have been deleted.\n",
      "0 outlier(s) have been deleted.\n",
      "0 outlier(s) have been deleted.\n",
      "0 outlier(s) have been deleted.\n",
      "0 outlier(s) have been deleted.\n",
      "0 outlier(s) have been deleted.\n",
      "3 outlier(s) have been deleted.\n",
      "The outlier(s) value(s) are : [120.0, 120.0, 1960.0]\n",
      "5 outlier(s) have been deleted.\n",
      "The outlier(s) value(s) are : [120.0, 120.0, 1960.0, 120.0, 1900.0]\n",
      "8 outlier(s) have been deleted.\n",
      "The outlier(s) value(s) are : [120.0, 1900.0, 100.0, 120.0, 120.0, 120.0, 120.0, 120.0]\n",
      "3 outlier(s) have been deleted.\n",
      "The outlier(s) value(s) are : [1540.0, 1560.0, 60.0]\n",
      "3 outlier(s) have been deleted.\n",
      "The outlier(s) value(s) are : [80.0, 100.0, 1940.0]\n",
      "15 outlier(s) have been deleted.\n",
      "The outlier(s) value(s) are : [120.0, 120.0, 120.0, 1820.0, 80.0, 80.0, 100.0, 120.0, 120.0, 100.0, 100.0, 120.0, 120.0, 1660.0, 120.0]\n",
      "15 outlier(s) have been deleted.\n",
      "The outlier(s) value(s) are : [60.0, 60.0, 100.0, 120.0, 120.0, 80.0, 100.0, 100.0, 120.0, 1660.0, 120.0, 100.0, 120.0, 1520.0, 120.0]\n",
      "6 outlier(s) have been deleted.\n",
      "The outlier(s) value(s) are : [100.0, 120.0, 1520.0, 120.0, 120.0, 120.0]\n",
      "9 outlier(s) have been deleted.\n",
      "The outlier(s) value(s) are : [120.0, 120.0, 100.0, 1660.0, 120.0, 1840.0, 100.0, 120.0, 100.0]\n",
      "15 outlier(s) have been deleted.\n",
      "The outlier(s) value(s) are : [100.0, 1660.0, 120.0, 1840.0, 100.0, 120.0, 100.0, 140.0, 120.0, 100.0, 120.0, 120.0, 1720.0, 120.0, 120.0]\n",
      "16 outlier(s) have been deleted.\n",
      "The outlier(s) value(s) are : [120.0, 100.0, 120.0, 120.0, 1720.0, 120.0, 120.0, 120.0, 120.0, 100.0, 120.0, 140.0, 120.0, 1560.0, 100.0, 120.0]\n",
      "12 outlier(s) have been deleted.\n",
      "The outlier(s) value(s) are : [120.0, 120.0, 100.0, 120.0, 140.0, 120.0, 1560.0, 100.0, 120.0, 120.0, 120.0, 120.0]\n",
      "10 outlier(s) have been deleted.\n",
      "The outlier(s) value(s) are : [120.0, 120.0, 120.0, 120.0, 100.0, 120.0, 1620.0, 100.0, 100.0, 120.0]\n",
      "17 outlier(s) have been deleted.\n",
      "The outlier(s) value(s) are : [120.0, 100.0, 120.0, 1620.0, 100.0, 100.0, 120.0, 120.0, 120.0, 120.0, 120.0, 120.0, 120.0, 120.0, 100.0, 120.0, 120.0]\n",
      "19 outlier(s) have been deleted.\n",
      "The outlier(s) value(s) are : [120.0, 120.0, 120.0, 120.0, 120.0, 120.0, 120.0, 100.0, 120.0, 120.0, 100.0, 1680.0, 120.0, 2060.0, 60.0, 120.0, 120.0, 1760.0, 120.0]\n",
      "18 outlier(s) have been deleted.\n",
      "The outlier(s) value(s) are : [120.0, 2060.0, 60.0, 120.0, 120.0, 1760.0, 120.0, 120.0, 1600.0, 120.0, 1580.0, 120.0, 120.0, 120.0, 100.0, 80.0, 120.0, 80.0]\n",
      "21 outlier(s) have been deleted.\n",
      "The outlier(s) value(s) are : [120.0, 1600.0, 120.0, 1580.0, 120.0, 120.0, 120.0, 100.0, 80.0, 120.0, 80.0, 120.0, 140.0, 120.0, 120.0, 120.0, 120.0, 120.0, 120.0, 120.0, 180.0]\n",
      "11 outlier(s) have been deleted.\n",
      "The outlier(s) value(s) are : [140.0, 120.0, 120.0, 120.0, 120.0, 120.0, 120.0, 120.0, 180.0, 120.0, 140.0]\n",
      "1 outlier(s) have been deleted.\n",
      "The outlier(s) value(s) are : [140.0]\n",
      "13 outlier(s) have been deleted.\n",
      "The outlier(s) value(s) are : [80.0, 1600.0, 3460.0, 1680.0, 80.0, 4560.0, 1520.0, 60.0, 2600.0, 180.0, 2460.0, 60.0, 100.0]\n",
      "7 outlier(s) have been deleted.\n",
      "The outlier(s) value(s) are : [60.0, 2600.0, 180.0, 2460.0, 60.0, 100.0, 80.0]\n",
      "3 outlier(s) have been deleted.\n",
      "The outlier(s) value(s) are : [80.0, 80.0, 1560.0]\n",
      "5 outlier(s) have been deleted.\n",
      "The outlier(s) value(s) are : [80.0, 1520.0, 1640.0, 1520.0, 1520.0]\n",
      "6 outlier(s) have been deleted.\n",
      "The outlier(s) value(s) are : [1520.0, 1520.0, 60.0, 2100.0, 60.0, 1880.0]\n",
      "3 outlier(s) have been deleted.\n",
      "The outlier(s) value(s) are : [1600.0, 120.0, 3060.0]\n",
      "4 outlier(s) have been deleted.\n",
      "The outlier(s) value(s) are : [80.0, 100.0, 100.0, 2760.0]\n",
      "6 outlier(s) have been deleted.\n",
      "The outlier(s) value(s) are : [80.0, 100.0, 100.0, 2760.0, 100.0, 100.0]\n",
      "1 outlier(s) have been deleted.\n",
      "The outlier(s) value(s) are : [100.0]\n",
      "0 outlier(s) have been deleted.\n",
      "4 outlier(s) have been deleted.\n",
      "The outlier(s) value(s) are : [120.0, 1640.0, 100.0, 120.0]\n",
      "3 outlier(s) have been deleted.\n",
      "The outlier(s) value(s) are : [100.0, 120.0, 6120.0]\n",
      "0 outlier(s) have been deleted.\n",
      "3 outlier(s) have been deleted.\n",
      "The outlier(s) value(s) are : [80.0, 100.0, 5240.0]\n",
      "4 outlier(s) have been deleted.\n",
      "The outlier(s) value(s) are : [80.0, 100.0, 5240.0, 100.0]\n",
      "5 outlier(s) have been deleted.\n",
      "The outlier(s) value(s) are : [100.0, 80.0, 1680.0, 60.0, 1800.0]\n",
      "4 outlier(s) have been deleted.\n",
      "The outlier(s) value(s) are : [80.0, 1680.0, 60.0, 1800.0]\n",
      "0 outlier(s) have been deleted.\n",
      "1 outlier(s) have been deleted.\n",
      "The outlier(s) value(s) are : [100.0]\n",
      "5 outlier(s) have been deleted.\n",
      "The outlier(s) value(s) are : [100.0, 80.0, 1520.0, 80.0, 1600.0]\n",
      "12 outlier(s) have been deleted.\n",
      "The outlier(s) value(s) are : [80.0, 1520.0, 80.0, 1600.0, 100.0, 2440.0, 40.0, 1560.0, 80.0, 2140.0, 60.0, 80.0]\n",
      "15 outlier(s) have been deleted.\n",
      "The outlier(s) value(s) are : [100.0, 2440.0, 40.0, 1560.0, 80.0, 2140.0, 60.0, 80.0, 80.0, 1540.0, 100.0, 1520.0, 60.0, 1720.0, 80.0]\n",
      "10 outlier(s) have been deleted.\n",
      "The outlier(s) value(s) are : [80.0, 1540.0, 100.0, 1520.0, 60.0, 1720.0, 80.0, 1520.0, 80.0, 1520.0]\n",
      "3 outlier(s) have been deleted.\n",
      "The outlier(s) value(s) are : [80.0, 40.0, 1540.0]\n",
      "2 outlier(s) have been deleted.\n",
      "The outlier(s) value(s) are : [40.0, 1540.0]\n",
      "4 outlier(s) have been deleted.\n",
      "The outlier(s) value(s) are : [60.0, 3540.0, 100.0, 2580.0]\n",
      "11 outlier(s) have been deleted.\n",
      "The outlier(s) value(s) are : [60.0, 3540.0, 100.0, 2580.0, 100.0, 80.0, 1820.0, 100.0, 2240.0, 100.0, 60.0]\n",
      "16 outlier(s) have been deleted.\n",
      "The outlier(s) value(s) are : [100.0, 80.0, 1820.0, 100.0, 2240.0, 100.0, 60.0, 100.0, 1680.0, 1580.0, 40.0, 1880.0, 80.0, 1740.0, 60.0, 1900.0]\n",
      "15 outlier(s) have been deleted.\n",
      "The outlier(s) value(s) are : [100.0, 1680.0, 1580.0, 40.0, 1880.0, 80.0, 1740.0, 60.0, 1900.0, 2540.0, 60.0, 1740.0, 80.0, 4640.0, 2700.0]\n",
      "10 outlier(s) have been deleted.\n",
      "The outlier(s) value(s) are : [2540.0, 60.0, 1740.0, 80.0, 4640.0, 2700.0, 80.0, 1620.0, 100.0, 1820.0]\n",
      "6 outlier(s) have been deleted.\n",
      "The outlier(s) value(s) are : [80.0, 1620.0, 100.0, 1820.0, 100.0, 1640.0]\n",
      "6 outlier(s) have been deleted.\n",
      "The outlier(s) value(s) are : [100.0, 1640.0, 4059.9999999999995, 2020.0, 100.0, 1620.0]\n",
      "9 outlier(s) have been deleted.\n",
      "The outlier(s) value(s) are : [4059.9999999999995, 2020.0, 100.0, 1620.0, 80.0, 5040.0, 3700.0, 100.0, 2160.0]\n",
      "20 outlier(s) have been deleted.\n",
      "The outlier(s) value(s) are : [80.0, 5040.0, 3700.0, 100.0, 2160.0, 80.0, 1520.0, 4460.0, 100.0, 1740.0, 80.0, 1580.0, 80.0, 1640.0, 60.0, 1900.0, 100.0, 2320.0, 3520.0, 80.0]\n",
      "18 outlier(s) have been deleted.\n",
      "The outlier(s) value(s) are : [80.0, 1520.0, 4460.0, 100.0, 1740.0, 80.0, 1580.0, 80.0, 1640.0, 60.0, 1900.0, 100.0, 2320.0, 3520.0, 80.0, 3580.0, 100.0, 2940.0]\n",
      "6 outlier(s) have been deleted.\n",
      "The outlier(s) value(s) are : [80.0, 120.0, 100.0, 120.0, 100.0, 100.0]\n",
      "12 outlier(s) have been deleted.\n",
      "The outlier(s) value(s) are : [120.0, 100.0, 100.0, 80.0, 120.0, 100.0, 80.0, 100.0, 120.0, 100.0, 120.0, 1640.0]\n",
      "10 outlier(s) have been deleted.\n",
      "The outlier(s) value(s) are : [80.0, 120.0, 100.0, 80.0, 100.0, 120.0, 100.0, 120.0, 1640.0, 120.0]\n",
      "1 outlier(s) have been deleted.\n",
      "The outlier(s) value(s) are : [100.0]\n",
      "3 outlier(s) have been deleted.\n",
      "The outlier(s) value(s) are : [120.0, 120.0, 80.0]\n",
      "11 outlier(s) have been deleted.\n",
      "The outlier(s) value(s) are : [120.0, 80.0, 100.0, 1640.0, 140.0, 180.0, 100.0, 80.0, 100.0, 1880.0, 160.0]\n",
      "16 outlier(s) have been deleted.\n",
      "The outlier(s) value(s) are : [120.0, 1620.0, 140.0, 180.0, 100.0, 100.0, 120.0, 1860.0, 160.0, 120.0, 120.0, 120.0, 120.0, 120.0, 140.0, 140.0]\n",
      "7 outlier(s) have been deleted.\n",
      "The outlier(s) value(s) are : [120.0, 120.0, 120.0, 120.0, 120.0, 140.0, 140.0]\n",
      "4 outlier(s) have been deleted.\n",
      "The outlier(s) value(s) are : [100.0, 60.0, 80.0, 40.0]\n",
      "4 outlier(s) have been deleted.\n",
      "The outlier(s) value(s) are : [80.0, 40.0, 140.0, 100.0]\n",
      "11 outlier(s) have been deleted.\n",
      "The outlier(s) value(s) are : [160.0, 100.0, 120.0, 120.0, 140.0, 100.0, 60.0, 100.0, 140.0, 1520.0, 120.0]\n",
      "19 outlier(s) have been deleted.\n",
      "The outlier(s) value(s) are : [100.0, 60.0, 100.0, 140.0, 1520.0, 120.0, 160.0, 120.0, 100.0, 120.0, 1540.0, 120.0, 120.0, 120.0, 180.0, 80.0, 120.0, 120.0, 120.0]\n",
      "18 outlier(s) have been deleted.\n",
      "The outlier(s) value(s) are : [100.0, 100.0, 1560.0, 100.0, 100.0, 1620.0, 140.0, 1540.0, 100.0, 120.0, 100.0, 120.0, 80.0, 80.0, 100.0, 100.0, 100.0, 100.0]\n",
      "22 outlier(s) have been deleted.\n",
      "The outlier(s) value(s) are : [100.0, 140.0, 180.0, 120.0, 100.0, 120.0, 120.0, 120.0, 120.0, 120.0, 120.0, 100.0, 140.0, 100.0, 120.0, 100.0, 140.0, 120.0, 80.0, 120.0, 140.0, 120.0]\n",
      "18 outlier(s) have been deleted.\n",
      "The outlier(s) value(s) are : [100.0, 140.0, 100.0, 120.0, 100.0, 140.0, 120.0, 80.0, 120.0, 140.0, 120.0, 140.0, 100.0, 120.0, 120.0, 100.0, 80.0, 100.0]\n",
      "12 outlier(s) have been deleted.\n",
      "The outlier(s) value(s) are : [140.0, 100.0, 120.0, 120.0, 100.0, 80.0, 100.0, 120.0, 1800.0, 80.0, 100.0, 140.0]\n",
      "20 outlier(s) have been deleted.\n",
      "The outlier(s) value(s) are : [120.0, 1800.0, 80.0, 100.0, 140.0, 60.0, 100.0, 120.0, 80.0, 120.0, 140.0, 120.0, 1640.0, 120.0, 1540.0, 120.0, 2080.0, 120.0, 100.0, 120.0]\n",
      "30 outlier(s) have been deleted.\n",
      "The outlier(s) value(s) are : [60.0, 100.0, 120.0, 80.0, 120.0, 140.0, 120.0, 1640.0, 120.0, 1540.0, 120.0, 2080.0, 120.0, 120.0, 120.0, 140.0, 140.0, 100.0, 120.0, 100.0, 100.0, 120.0, 140.0, 120.0, 100.0, 2040.0, 100.0, 120.0, 60.0, 100.0]\n",
      "28 outlier(s) have been deleted.\n",
      "The outlier(s) value(s) are : [140.0, 100.0, 120.0, 100.0, 100.0, 120.0, 140.0, 120.0, 100.0, 2040.0, 100.0, 120.0, 60.0, 100.0, 80.0, 120.0, 120.0, 1880.0, 80.0, 120.0, 120.0, 100.0, 60.0, 100.0, 100.0, 1900.0, 120.0, 100.0]\n",
      "26 outlier(s) have been deleted.\n",
      "The outlier(s) value(s) are : [20.0, 80.0, 120.0, 120.0, 1880.0, 80.0, 120.0, 120.0, 100.0, 60.0, 100.0, 100.0, 1900.0, 120.0, 100.0, 120.0, 120.0, 100.0, 120.0, 140.0, 120.0, 100.0, 120.0, 100.0, 1700.0, 180.0]\n",
      "25 outlier(s) have been deleted.\n",
      "The outlier(s) value(s) are : [120.0, 120.0, 100.0, 120.0, 140.0, 120.0, 100.0, 120.0, 100.0, 1700.0, 180.0, 100.0, 80.0, 100.0, 120.0, 80.0, 140.0, 100.0, 120.0, 1880.0, 60.0, 120.0, 120.0, 160.0, 120.0]\n",
      "25 outlier(s) have been deleted.\n",
      "The outlier(s) value(s) are : [40.0, 100.0, 80.0, 100.0, 120.0, 80.0, 140.0, 100.0, 120.0, 1880.0, 60.0, 120.0, 120.0, 160.0, 120.0, 120.0, 80.0, 140.0, 100.0, 120.0, 120.0, 100.0, 100.0, 120.0, 80.0]\n",
      "18 outlier(s) have been deleted.\n",
      "The outlier(s) value(s) are : [120.0, 80.0, 140.0, 100.0, 120.0, 120.0, 100.0, 100.0, 120.0, 80.0, 80.0, 80.0, 100.0, 100.0, 3520.0, 60.0, 120.0, 2400.0]\n",
      "25 outlier(s) have been deleted.\n",
      "The outlier(s) value(s) are : [80.0, 80.0, 100.0, 100.0, 3520.0, 60.0, 100.0, 2420.0, 1520.0, 100.0, 80.0, 100.0, 100.0, 2720.0, 120.0, 80.0, 1780.0, 80.0, 1900.0, 20.0, 1940.0, 100.0, 80.0, 20.0, 20.0]\n",
      "28 outlier(s) have been deleted.\n",
      "The outlier(s) value(s) are : [100.0, 80.0, 100.0, 100.0, 2720.0, 120.0, 80.0, 1780.0, 80.0, 1900.0, 20.0, 1940.0, 100.0, 80.0, 20.0, 20.0, 1600.0, 80.0, 80.0, 1760.0, 80.0, 120.0, 100.0, 80.0, 100.0, 40.0, 120.0, 100.0]\n",
      "17 outlier(s) have been deleted.\n",
      "The outlier(s) value(s) are : [1600.0, 80.0, 80.0, 1760.0, 80.0, 120.0, 100.0, 80.0, 100.0, 40.0, 120.0, 100.0, 2240.0, 140.0, 120.0, 1720.0, 80.0]\n",
      "13 outlier(s) have been deleted.\n",
      "The outlier(s) value(s) are : [2240.0, 140.0, 120.0, 1720.0, 80.0, 80.0, 120.0, 100.0, 100.0, 80.0, 1700.0, 120.0, 100.0]\n",
      "10 outlier(s) have been deleted.\n",
      "The outlier(s) value(s) are : [80.0, 120.0, 100.0, 100.0, 80.0, 1700.0, 120.0, 100.0, 160.0, 120.0]\n",
      "7 outlier(s) have been deleted.\n",
      "The outlier(s) value(s) are : [160.0, 120.0, 100.0, 120.0, 100.0, 100.0, 100.0]\n",
      "15 outlier(s) have been deleted.\n",
      "The outlier(s) value(s) are : [100.0, 120.0, 100.0, 100.0, 100.0, 120.0, 120.0, 120.0, 100.0, 100.0, 120.0, 120.0, 100.0, 100.0, 100.0]\n",
      "20 outlier(s) have been deleted.\n",
      "The outlier(s) value(s) are : [120.0, 120.0, 120.0, 100.0, 100.0, 120.0, 120.0, 100.0, 100.0, 100.0, 100.0, 80.0, 100.0, 100.0, 1680.0, 80.0, 80.0, 100.0, 100.0, 120.0]\n",
      "12 outlier(s) have been deleted.\n",
      "The outlier(s) value(s) are : [80.0, 100.0, 100.0, 1680.0, 80.0, 80.0, 100.0, 100.0, 120.0, 100.0, 140.0, 100.0]\n",
      "12 outlier(s) have been deleted.\n",
      "The outlier(s) value(s) are : [100.0, 140.0, 100.0, 120.0, 100.0, 120.0, 120.0, 1540.0, 100.0, 60.0, 80.0, 100.0]\n",
      "19 outlier(s) have been deleted.\n",
      "The outlier(s) value(s) are : [120.0, 100.0, 120.0, 120.0, 1540.0, 100.0, 60.0, 80.0, 100.0, 100.0, 100.0, 60.0, 100.0, 100.0, 1740.0, 100.0, 140.0, 120.0, 140.0]\n",
      "11 outlier(s) have been deleted.\n",
      "The outlier(s) value(s) are : [100.0, 100.0, 60.0, 100.0, 100.0, 1740.0, 100.0, 140.0, 120.0, 140.0, 100.0]\n",
      "10 outlier(s) have been deleted.\n",
      "The outlier(s) value(s) are : [80.0, 1880.0, 100.0, 1760.0, 80.0, 120.0, 1800.0, 120.0, 100.0, 100.0]\n",
      "5 outlier(s) have been deleted.\n",
      "The outlier(s) value(s) are : [120.0, 1800.0, 120.0, 100.0, 100.0]\n",
      "4 outlier(s) have been deleted.\n",
      "The outlier(s) value(s) are : [80.0, 120.0, 1740.0, 120.0]\n",
      "11 outlier(s) have been deleted.\n",
      "The outlier(s) value(s) are : [120.0, 1740.0, 100.0, 120.0, 120.0, 1620.0, 120.0, 3500.0, 100.0, 1920.0, 120.0]\n",
      "12 outlier(s) have been deleted.\n",
      "The outlier(s) value(s) are : [1620.0, 120.0, 3500.0, 100.0, 1920.0, 120.0, 100.0, 1800.0, 100.0, 1900.0, 100.0, 2060.0]\n",
      "13 outlier(s) have been deleted.\n",
      "The outlier(s) value(s) are : [100.0, 1800.0, 100.0, 1900.0, 100.0, 2060.0, 100.0, 1560.0, 100.0, 1720.0, 100.0, 1520.0, 100.0]\n",
      "9 outlier(s) have been deleted.\n",
      "The outlier(s) value(s) are : [100.0, 1560.0, 100.0, 1720.0, 100.0, 1520.0, 100.0, 80.0, 60.0]\n",
      "7 outlier(s) have been deleted.\n",
      "The outlier(s) value(s) are : [80.0, 60.0, 100.0, 1840.0, 100.0, 100.0, 1980.0]\n",
      "8 outlier(s) have been deleted.\n",
      "The outlier(s) value(s) are : [100.0, 1840.0, 100.0, 100.0, 1980.0, 120.0, 1560.0, 80.0]\n",
      "5 outlier(s) have been deleted.\n",
      "The outlier(s) value(s) are : [100.0, 1580.0, 80.0, 100.0, 1920.0]\n",
      "6 outlier(s) have been deleted.\n",
      "The outlier(s) value(s) are : [100.0, 1920.0, 100.0, 100.0, 60.0, 100.0]\n",
      "7 outlier(s) have been deleted.\n",
      "The outlier(s) value(s) are : [100.0, 100.0, 60.0, 100.0, 80.0, 1780.0, 80.0]\n",
      "7 outlier(s) have been deleted.\n",
      "The outlier(s) value(s) are : [80.0, 1780.0, 80.0, 1640.0, 2520.0, 100.0, 80.0]\n",
      "6 outlier(s) have been deleted.\n",
      "The outlier(s) value(s) are : [1640.0, 2520.0, 100.0, 80.0, 80.0, 40.0]\n",
      "3 outlier(s) have been deleted.\n",
      "The outlier(s) value(s) are : [80.0, 40.0, 140.0]\n",
      "1 outlier(s) have been deleted.\n",
      "The outlier(s) value(s) are : [140.0]\n",
      "2 outlier(s) have been deleted.\n",
      "The outlier(s) value(s) are : [80.0, 1700.0]\n",
      "10 outlier(s) have been deleted.\n",
      "The outlier(s) value(s) are : [120.0, 1640.0, 100.0, 1560.0, 100.0, 100.0, 1580.0, 80.0, 80.0, 120.0]\n",
      "11 outlier(s) have been deleted.\n",
      "The outlier(s) value(s) are : [1560.0, 100.0, 100.0, 1580.0, 80.0, 80.0, 120.0, 120.0, 120.0, 120.0, 1540.0]\n",
      "9 outlier(s) have been deleted.\n",
      "The outlier(s) value(s) are : [120.0, 120.0, 120.0, 1540.0, 100.0, 100.0, 140.0, 100.0, 120.0]\n",
      "7 outlier(s) have been deleted.\n",
      "The outlier(s) value(s) are : [100.0, 100.0, 140.0, 100.0, 120.0, 100.0, 1840.0]\n",
      "6 outlier(s) have been deleted.\n",
      "The outlier(s) value(s) are : [100.0, 1840.0, 100.0, 100.0, 100.0, 100.0]\n",
      "8 outlier(s) have been deleted.\n",
      "The outlier(s) value(s) are : [100.0, 100.0, 100.0, 100.0, 100.0, 80.0, 100.0, 80.0]\n",
      "7 outlier(s) have been deleted.\n",
      "The outlier(s) value(s) are : [100.0, 80.0, 100.0, 80.0, 120.0, 100.0, 80.0]\n"
     ]
    },
    {
     "name": "stdout",
     "output_type": "stream",
     "text": [
      "14 outlier(s) have been deleted.\n",
      "The outlier(s) value(s) are : [120.0, 100.0, 80.0, 2000.0, 100.0, 120.0, 120.0, 100.0, 100.0, 100.0, 1680.0, 100.0, 100.0, 100.0]\n",
      "21 outlier(s) have been deleted.\n",
      "The outlier(s) value(s) are : [2000.0, 100.0, 120.0, 120.0, 100.0, 100.0, 100.0, 1680.0, 100.0, 100.0, 100.0, 1520.0, 100.0, 1720.0, 60.0, 120.0, 120.0, 120.0, 120.0, 100.0, 1620.0]\n",
      "17 outlier(s) have been deleted.\n",
      "The outlier(s) value(s) are : [100.0, 1720.0, 60.0, 120.0, 120.0, 120.0, 120.0, 100.0, 1620.0, 120.0, 120.0, 120.0, 1540.0, 120.0, 120.0, 120.0, 120.0]\n",
      "13 outlier(s) have been deleted.\n",
      "The outlier(s) value(s) are : [100.0, 1660.0, 100.0, 100.0, 100.0, 100.0, 100.0, 100.0, 80.0, 1640.0, 2040.0, 80.0, 100.0]\n",
      "15 outlier(s) have been deleted.\n",
      "The outlier(s) value(s) are : [100.0, 100.0, 100.0, 100.0, 1540.0, 80.0, 80.0, 1960.0, 100.0, 100.0, 120.0, 1580.0, 120.0, 100.0, 100.0]\n",
      "9 outlier(s) have been deleted.\n",
      "The outlier(s) value(s) are : [100.0, 100.0, 100.0, 1780.0, 20.0, 100.0, 60.0, 1560.0, 100.0]\n",
      "21 outlier(s) have been deleted.\n",
      "The outlier(s) value(s) are : [100.0, 1680.0, 100.0, 100.0, 100.0, 80.0, 100.0, 120.0, 40.0, 80.0, 100.0, 1680.0, 100.0, 120.0, 1900.0, 100.0, 1760.0, 100.0, 100.0, 2000.0, 1760.0]\n",
      "1 outlier(s) have been deleted.\n",
      "The outlier(s) value(s) are : [1800.0]\n",
      "4 outlier(s) have been deleted.\n",
      "The outlier(s) value(s) are : [1800.0, 60.0, 1680.0, 2360.0]\n",
      "14 outlier(s) have been deleted.\n",
      "The outlier(s) value(s) are : [120.0, 120.0, 100.0, 120.0, 1560.0, 100.0, 100.0, 1540.0, 100.0, 80.0, 40.0, 1680.0, 120.0, 120.0]\n",
      "7 outlier(s) have been deleted.\n",
      "The outlier(s) value(s) are : [100.0, 80.0, 40.0, 1680.0, 120.0, 120.0, 120.0]\n"
     ]
    }
   ],
   "source": [
    "#remove outliers\n",
    "rr_intervals_without_outliers = dict()\n",
    "for key in sublist:\n",
    "    value = rr_intervals_window[key]\n",
    "    rr_intervals_without_outliers[key] = []\n",
    "    for i in range(len(value)):\n",
    "        rr_intervals_without_outliers[key].append(remove_outliers(rr_intervals = value[i], low_rri =200, high_rri =1500))\n",
    "    \n",
    "    drop_falsey = lambda path, key, value: bool(value)\n",
    "    rr_intervals_without_outliers[key] = remap(rr_intervals_without_outliers[key], visit=drop_falsey) \n",
    "    "
   ]
  },
  {
   "cell_type": "code",
   "execution_count": 255,
   "metadata": {
    "collapsed": true
   },
   "outputs": [
    {
     "name": "stdout",
     "output_type": "stream",
     "text": [
      "7 ectopic beat(s) have been deleted with malik rule.\n",
      "4 ectopic beat(s) have been deleted with malik rule.\n",
      "4 ectopic beat(s) have been deleted with malik rule.\n",
      "1 ectopic beat(s) have been deleted with malik rule.\n",
      "5 ectopic beat(s) have been deleted with malik rule.\n",
      "6 ectopic beat(s) have been deleted with malik rule.\n",
      "4 ectopic beat(s) have been deleted with malik rule.\n",
      "3 ectopic beat(s) have been deleted with malik rule.\n",
      "0 ectopic beat(s) have been deleted with malik rule.\n",
      "0 ectopic beat(s) have been deleted with malik rule.\n",
      "0 ectopic beat(s) have been deleted with malik rule.\n",
      "4 ectopic beat(s) have been deleted with malik rule.\n",
      "9 ectopic beat(s) have been deleted with malik rule.\n",
      "15 ectopic beat(s) have been deleted with malik rule.\n",
      "26 ectopic beat(s) have been deleted with malik rule.\n",
      "30 ectopic beat(s) have been deleted with malik rule.\n",
      "20 ectopic beat(s) have been deleted with malik rule.\n",
      "17 ectopic beat(s) have been deleted with malik rule.\n",
      "24 ectopic beat(s) have been deleted with malik rule.\n",
      "21 ectopic beat(s) have been deleted with malik rule.\n",
      "26 ectopic beat(s) have been deleted with malik rule.\n",
      "29 ectopic beat(s) have been deleted with malik rule.\n",
      "35 ectopic beat(s) have been deleted with malik rule.\n",
      "33 ectopic beat(s) have been deleted with malik rule.\n",
      "18 ectopic beat(s) have been deleted with malik rule.\n",
      "12 ectopic beat(s) have been deleted with malik rule.\n",
      "21 ectopic beat(s) have been deleted with malik rule.\n",
      "34 ectopic beat(s) have been deleted with malik rule.\n",
      "27 ectopic beat(s) have been deleted with malik rule.\n",
      "17 ectopic beat(s) have been deleted with malik rule.\n",
      "23 ectopic beat(s) have been deleted with malik rule.\n",
      "32 ectopic beat(s) have been deleted with malik rule.\n",
      "18 ectopic beat(s) have been deleted with malik rule.\n",
      "16 ectopic beat(s) have been deleted with malik rule.\n",
      "12 ectopic beat(s) have been deleted with malik rule.\n",
      "8 ectopic beat(s) have been deleted with malik rule.\n",
      "14 ectopic beat(s) have been deleted with malik rule.\n",
      "13 ectopic beat(s) have been deleted with malik rule.\n",
      "12 ectopic beat(s) have been deleted with malik rule.\n",
      "8 ectopic beat(s) have been deleted with malik rule.\n",
      "7 ectopic beat(s) have been deleted with malik rule.\n",
      "13 ectopic beat(s) have been deleted with malik rule.\n",
      "10 ectopic beat(s) have been deleted with malik rule.\n",
      "4 ectopic beat(s) have been deleted with malik rule.\n",
      "2 ectopic beat(s) have been deleted with malik rule.\n",
      "1 ectopic beat(s) have been deleted with malik rule.\n",
      "6 ectopic beat(s) have been deleted with malik rule.\n",
      "8 ectopic beat(s) have been deleted with malik rule.\n",
      "8 ectopic beat(s) have been deleted with malik rule.\n",
      "17 ectopic beat(s) have been deleted with malik rule.\n",
      "23 ectopic beat(s) have been deleted with malik rule.\n",
      "14 ectopic beat(s) have been deleted with malik rule.\n",
      "10 ectopic beat(s) have been deleted with malik rule.\n",
      "24 ectopic beat(s) have been deleted with malik rule.\n",
      "28 ectopic beat(s) have been deleted with malik rule.\n",
      "29 ectopic beat(s) have been deleted with malik rule.\n",
      "19 ectopic beat(s) have been deleted with malik rule.\n",
      "15 ectopic beat(s) have been deleted with malik rule.\n",
      "27 ectopic beat(s) have been deleted with malik rule.\n",
      "21 ectopic beat(s) have been deleted with malik rule.\n",
      "9 ectopic beat(s) have been deleted with malik rule.\n",
      "8 ectopic beat(s) have been deleted with malik rule.\n",
      "6 ectopic beat(s) have been deleted with malik rule.\n",
      "5 ectopic beat(s) have been deleted with malik rule.\n",
      "8 ectopic beat(s) have been deleted with malik rule.\n",
      "17 ectopic beat(s) have been deleted with malik rule.\n",
      "26 ectopic beat(s) have been deleted with malik rule.\n",
      "26 ectopic beat(s) have been deleted with malik rule.\n",
      "19 ectopic beat(s) have been deleted with malik rule.\n",
      "12 ectopic beat(s) have been deleted with malik rule.\n",
      "13 ectopic beat(s) have been deleted with malik rule.\n",
      "10 ectopic beat(s) have been deleted with malik rule.\n",
      "6 ectopic beat(s) have been deleted with malik rule.\n",
      "7 ectopic beat(s) have been deleted with malik rule.\n",
      "4 ectopic beat(s) have been deleted with malik rule.\n",
      "3 ectopic beat(s) have been deleted with malik rule.\n",
      "9 ectopic beat(s) have been deleted with malik rule.\n",
      "6 ectopic beat(s) have been deleted with malik rule.\n",
      "7 ectopic beat(s) have been deleted with malik rule.\n",
      "6 ectopic beat(s) have been deleted with malik rule.\n",
      "3 ectopic beat(s) have been deleted with malik rule.\n",
      "32 ectopic beat(s) have been deleted with malik rule.\n",
      "33 ectopic beat(s) have been deleted with malik rule.\n",
      "35 ectopic beat(s) have been deleted with malik rule.\n",
      "23 ectopic beat(s) have been deleted with malik rule.\n",
      "23 ectopic beat(s) have been deleted with malik rule.\n",
      "11 ectopic beat(s) have been deleted with malik rule.\n",
      "2 ectopic beat(s) have been deleted with malik rule.\n",
      "29 ectopic beat(s) have been deleted with malik rule.\n",
      "27 ectopic beat(s) have been deleted with malik rule.\n",
      "20 ectopic beat(s) have been deleted with malik rule.\n",
      "29 ectopic beat(s) have been deleted with malik rule.\n",
      "38 ectopic beat(s) have been deleted with malik rule.\n",
      "28 ectopic beat(s) have been deleted with malik rule.\n",
      "20 ectopic beat(s) have been deleted with malik rule.\n",
      "16 ectopic beat(s) have been deleted with malik rule.\n",
      "22 ectopic beat(s) have been deleted with malik rule.\n",
      "12 ectopic beat(s) have been deleted with malik rule.\n",
      "8 ectopic beat(s) have been deleted with malik rule.\n",
      "12 ectopic beat(s) have been deleted with malik rule.\n",
      "12 ectopic beat(s) have been deleted with malik rule.\n",
      "8 ectopic beat(s) have been deleted with malik rule.\n",
      "10 ectopic beat(s) have been deleted with malik rule.\n",
      "10 ectopic beat(s) have been deleted with malik rule.\n",
      "8 ectopic beat(s) have been deleted with malik rule.\n",
      "7 ectopic beat(s) have been deleted with malik rule.\n",
      "3 ectopic beat(s) have been deleted with malik rule.\n",
      "3 ectopic beat(s) have been deleted with malik rule.\n",
      "1 ectopic beat(s) have been deleted with malik rule.\n",
      "2 ectopic beat(s) have been deleted with malik rule.\n",
      "4 ectopic beat(s) have been deleted with malik rule.\n",
      "4 ectopic beat(s) have been deleted with malik rule.\n",
      "11 ectopic beat(s) have been deleted with malik rule.\n",
      "17 ectopic beat(s) have been deleted with malik rule.\n",
      "10 ectopic beat(s) have been deleted with malik rule.\n",
      "1 ectopic beat(s) have been deleted with malik rule.\n",
      "7 ectopic beat(s) have been deleted with malik rule.\n",
      "11 ectopic beat(s) have been deleted with malik rule.\n",
      "6 ectopic beat(s) have been deleted with malik rule.\n",
      "12 ectopic beat(s) have been deleted with malik rule.\n",
      "25 ectopic beat(s) have been deleted with malik rule.\n",
      "30 ectopic beat(s) have been deleted with malik rule.\n",
      "30 ectopic beat(s) have been deleted with malik rule.\n",
      "26 ectopic beat(s) have been deleted with malik rule.\n",
      "23 ectopic beat(s) have been deleted with malik rule.\n",
      "29 ectopic beat(s) have been deleted with malik rule.\n",
      "34 ectopic beat(s) have been deleted with malik rule.\n",
      "30 ectopic beat(s) have been deleted with malik rule.\n",
      "33 ectopic beat(s) have been deleted with malik rule.\n",
      "35 ectopic beat(s) have been deleted with malik rule.\n",
      "28 ectopic beat(s) have been deleted with malik rule.\n",
      "30 ectopic beat(s) have been deleted with malik rule.\n",
      "36 ectopic beat(s) have been deleted with malik rule.\n",
      "29 ectopic beat(s) have been deleted with malik rule.\n",
      "26 ectopic beat(s) have been deleted with malik rule.\n",
      "34 ectopic beat(s) have been deleted with malik rule.\n",
      "39 ectopic beat(s) have been deleted with malik rule.\n",
      "42 ectopic beat(s) have been deleted with malik rule.\n",
      "45 ectopic beat(s) have been deleted with malik rule.\n",
      "27 ectopic beat(s) have been deleted with malik rule.\n",
      "6 ectopic beat(s) have been deleted with malik rule.\n",
      "4 ectopic beat(s) have been deleted with malik rule.\n",
      "1 ectopic beat(s) have been deleted with malik rule.\n",
      "2 ectopic beat(s) have been deleted with malik rule.\n",
      "6 ectopic beat(s) have been deleted with malik rule.\n",
      "6 ectopic beat(s) have been deleted with malik rule.\n",
      "5 ectopic beat(s) have been deleted with malik rule.\n",
      "5 ectopic beat(s) have been deleted with malik rule.\n",
      "7 ectopic beat(s) have been deleted with malik rule.\n",
      "8 ectopic beat(s) have been deleted with malik rule.\n",
      "3 ectopic beat(s) have been deleted with malik rule.\n",
      "5 ectopic beat(s) have been deleted with malik rule.\n",
      "11 ectopic beat(s) have been deleted with malik rule.\n",
      "8 ectopic beat(s) have been deleted with malik rule.\n",
      "7 ectopic beat(s) have been deleted with malik rule.\n",
      "9 ectopic beat(s) have been deleted with malik rule.\n",
      "7 ectopic beat(s) have been deleted with malik rule.\n",
      "7 ectopic beat(s) have been deleted with malik rule.\n",
      "20 ectopic beat(s) have been deleted with malik rule.\n",
      "21 ectopic beat(s) have been deleted with malik rule.\n",
      "17 ectopic beat(s) have been deleted with malik rule.\n",
      "21 ectopic beat(s) have been deleted with malik rule.\n",
      "12 ectopic beat(s) have been deleted with malik rule.\n",
      "7 ectopic beat(s) have been deleted with malik rule.\n",
      "20 ectopic beat(s) have been deleted with malik rule.\n",
      "28 ectopic beat(s) have been deleted with malik rule.\n",
      "26 ectopic beat(s) have been deleted with malik rule.\n",
      "20 ectopic beat(s) have been deleted with malik rule.\n",
      "13 ectopic beat(s) have been deleted with malik rule.\n",
      "15 ectopic beat(s) have been deleted with malik rule.\n",
      "18 ectopic beat(s) have been deleted with malik rule.\n",
      "14 ectopic beat(s) have been deleted with malik rule.\n",
      "17 ectopic beat(s) have been deleted with malik rule.\n",
      "18 ectopic beat(s) have been deleted with malik rule.\n",
      "12 ectopic beat(s) have been deleted with malik rule.\n",
      "28 ectopic beat(s) have been deleted with malik rule.\n",
      "13 ectopic beat(s) have been deleted with malik rule.\n",
      "10 ectopic beat(s) have been deleted with malik rule.\n",
      "14 ectopic beat(s) have been deleted with malik rule.\n",
      "31 ectopic beat(s) have been deleted with malik rule.\n",
      "37 ectopic beat(s) have been deleted with malik rule.\n",
      "33 ectopic beat(s) have been deleted with malik rule.\n",
      "28 ectopic beat(s) have been deleted with malik rule.\n",
      "27 ectopic beat(s) have been deleted with malik rule.\n",
      "36 ectopic beat(s) have been deleted with malik rule.\n",
      "35 ectopic beat(s) have been deleted with malik rule.\n",
      "36 ectopic beat(s) have been deleted with malik rule.\n",
      "44 ectopic beat(s) have been deleted with malik rule.\n",
      "43 ectopic beat(s) have been deleted with malik rule.\n",
      "41 ectopic beat(s) have been deleted with malik rule.\n",
      "45 ectopic beat(s) have been deleted with malik rule.\n",
      "43 ectopic beat(s) have been deleted with malik rule.\n",
      "34 ectopic beat(s) have been deleted with malik rule.\n",
      "34 ectopic beat(s) have been deleted with malik rule.\n",
      "32 ectopic beat(s) have been deleted with malik rule.\n",
      "22 ectopic beat(s) have been deleted with malik rule.\n",
      "24 ectopic beat(s) have been deleted with malik rule.\n",
      "31 ectopic beat(s) have been deleted with malik rule.\n",
      "31 ectopic beat(s) have been deleted with malik rule.\n",
      "37 ectopic beat(s) have been deleted with malik rule.\n",
      "28 ectopic beat(s) have been deleted with malik rule.\n",
      "16 ectopic beat(s) have been deleted with malik rule.\n",
      "14 ectopic beat(s) have been deleted with malik rule.\n",
      "13 ectopic beat(s) have been deleted with malik rule.\n",
      "31 ectopic beat(s) have been deleted with malik rule.\n",
      "34 ectopic beat(s) have been deleted with malik rule.\n",
      "35 ectopic beat(s) have been deleted with malik rule.\n",
      "42 ectopic beat(s) have been deleted with malik rule.\n",
      "33 ectopic beat(s) have been deleted with malik rule.\n",
      "17 ectopic beat(s) have been deleted with malik rule.\n",
      "42 ectopic beat(s) have been deleted with malik rule.\n",
      "51 ectopic beat(s) have been deleted with malik rule.\n",
      "57 ectopic beat(s) have been deleted with malik rule.\n",
      "52 ectopic beat(s) have been deleted with malik rule.\n",
      "47 ectopic beat(s) have been deleted with malik rule.\n",
      "48 ectopic beat(s) have been deleted with malik rule.\n",
      "48 ectopic beat(s) have been deleted with malik rule.\n",
      "47 ectopic beat(s) have been deleted with malik rule.\n",
      "47 ectopic beat(s) have been deleted with malik rule.\n",
      "43 ectopic beat(s) have been deleted with malik rule.\n",
      "36 ectopic beat(s) have been deleted with malik rule.\n",
      "39 ectopic beat(s) have been deleted with malik rule.\n",
      "34 ectopic beat(s) have been deleted with malik rule.\n",
      "45 ectopic beat(s) have been deleted with malik rule.\n",
      "54 ectopic beat(s) have been deleted with malik rule.\n",
      "45 ectopic beat(s) have been deleted with malik rule.\n",
      "47 ectopic beat(s) have been deleted with malik rule.\n",
      "34 ectopic beat(s) have been deleted with malik rule.\n",
      "28 ectopic beat(s) have been deleted with malik rule.\n",
      "33 ectopic beat(s) have been deleted with malik rule.\n",
      "34 ectopic beat(s) have been deleted with malik rule.\n",
      "37 ectopic beat(s) have been deleted with malik rule.\n",
      "37 ectopic beat(s) have been deleted with malik rule.\n",
      "21 ectopic beat(s) have been deleted with malik rule.\n",
      "18 ectopic beat(s) have been deleted with malik rule.\n",
      "33 ectopic beat(s) have been deleted with malik rule.\n",
      "33 ectopic beat(s) have been deleted with malik rule.\n",
      "26 ectopic beat(s) have been deleted with malik rule.\n",
      "9 ectopic beat(s) have been deleted with malik rule.\n",
      "1 ectopic beat(s) have been deleted with malik rule.\n",
      "12 ectopic beat(s) have been deleted with malik rule.\n",
      "32 ectopic beat(s) have been deleted with malik rule.\n",
      "39 ectopic beat(s) have been deleted with malik rule.\n",
      "44 ectopic beat(s) have been deleted with malik rule.\n",
      "27 ectopic beat(s) have been deleted with malik rule.\n",
      "7 ectopic beat(s) have been deleted with malik rule.\n",
      "4 ectopic beat(s) have been deleted with malik rule.\n",
      "4 ectopic beat(s) have been deleted with malik rule.\n",
      "3 ectopic beat(s) have been deleted with malik rule.\n",
      "3 ectopic beat(s) have been deleted with malik rule.\n",
      "7 ectopic beat(s) have been deleted with malik rule.\n",
      "4 ectopic beat(s) have been deleted with malik rule.\n",
      "2 ectopic beat(s) have been deleted with malik rule.\n",
      "2 ectopic beat(s) have been deleted with malik rule.\n",
      "5 ectopic beat(s) have been deleted with malik rule.\n",
      "6 ectopic beat(s) have been deleted with malik rule.\n",
      "3 ectopic beat(s) have been deleted with malik rule.\n",
      "2 ectopic beat(s) have been deleted with malik rule.\n",
      "2 ectopic beat(s) have been deleted with malik rule.\n",
      "6 ectopic beat(s) have been deleted with malik rule.\n",
      "4 ectopic beat(s) have been deleted with malik rule.\n",
      "8 ectopic beat(s) have been deleted with malik rule.\n",
      "13 ectopic beat(s) have been deleted with malik rule.\n",
      "18 ectopic beat(s) have been deleted with malik rule.\n",
      "23 ectopic beat(s) have been deleted with malik rule.\n",
      "16 ectopic beat(s) have been deleted with malik rule.\n",
      "22 ectopic beat(s) have been deleted with malik rule.\n",
      "31 ectopic beat(s) have been deleted with malik rule.\n",
      "19 ectopic beat(s) have been deleted with malik rule.\n",
      "12 ectopic beat(s) have been deleted with malik rule.\n",
      "9 ectopic beat(s) have been deleted with malik rule.\n",
      "5 ectopic beat(s) have been deleted with malik rule.\n",
      "7 ectopic beat(s) have been deleted with malik rule.\n",
      "9 ectopic beat(s) have been deleted with malik rule.\n",
      "21 ectopic beat(s) have been deleted with malik rule.\n",
      "17 ectopic beat(s) have been deleted with malik rule.\n",
      "6 ectopic beat(s) have been deleted with malik rule.\n",
      "7 ectopic beat(s) have been deleted with malik rule.\n",
      "11 ectopic beat(s) have been deleted with malik rule.\n",
      "11 ectopic beat(s) have been deleted with malik rule.\n",
      "8 ectopic beat(s) have been deleted with malik rule.\n",
      "8 ectopic beat(s) have been deleted with malik rule.\n",
      "13 ectopic beat(s) have been deleted with malik rule.\n",
      "11 ectopic beat(s) have been deleted with malik rule.\n",
      "3 ectopic beat(s) have been deleted with malik rule.\n",
      "1 ectopic beat(s) have been deleted with malik rule.\n",
      "4 ectopic beat(s) have been deleted with malik rule.\n",
      "4 ectopic beat(s) have been deleted with malik rule.\n",
      "0 ectopic beat(s) have been deleted with malik rule.\n",
      "1 ectopic beat(s) have been deleted with malik rule.\n",
      "4 ectopic beat(s) have been deleted with malik rule.\n",
      "3 ectopic beat(s) have been deleted with malik rule.\n",
      "7 ectopic beat(s) have been deleted with malik rule.\n",
      "7 ectopic beat(s) have been deleted with malik rule.\n",
      "7 ectopic beat(s) have been deleted with malik rule.\n",
      "17 ectopic beat(s) have been deleted with malik rule.\n",
      "20 ectopic beat(s) have been deleted with malik rule.\n",
      "24 ectopic beat(s) have been deleted with malik rule.\n",
      "21 ectopic beat(s) have been deleted with malik rule.\n",
      "18 ectopic beat(s) have been deleted with malik rule.\n",
      "15 ectopic beat(s) have been deleted with malik rule.\n",
      "7 ectopic beat(s) have been deleted with malik rule.\n",
      "12 ectopic beat(s) have been deleted with malik rule.\n",
      "23 ectopic beat(s) have been deleted with malik rule.\n",
      "26 ectopic beat(s) have been deleted with malik rule.\n",
      "22 ectopic beat(s) have been deleted with malik rule.\n",
      "23 ectopic beat(s) have been deleted with malik rule.\n",
      "13 ectopic beat(s) have been deleted with malik rule.\n",
      "16 ectopic beat(s) have been deleted with malik rule.\n",
      "24 ectopic beat(s) have been deleted with malik rule.\n",
      "25 ectopic beat(s) have been deleted with malik rule.\n",
      "21 ectopic beat(s) have been deleted with malik rule.\n",
      "22 ectopic beat(s) have been deleted with malik rule.\n",
      "26 ectopic beat(s) have been deleted with malik rule.\n",
      "13 ectopic beat(s) have been deleted with malik rule.\n",
      "9 ectopic beat(s) have been deleted with malik rule.\n",
      "5 ectopic beat(s) have been deleted with malik rule.\n",
      "3 ectopic beat(s) have been deleted with malik rule.\n",
      "13 ectopic beat(s) have been deleted with malik rule.\n",
      "29 ectopic beat(s) have been deleted with malik rule.\n",
      "20 ectopic beat(s) have been deleted with malik rule.\n",
      "3 ectopic beat(s) have been deleted with malik rule.\n",
      "1 ectopic beat(s) have been deleted with malik rule.\n",
      "0 ectopic beat(s) have been deleted with malik rule.\n",
      "2 ectopic beat(s) have been deleted with malik rule.\n",
      "2 ectopic beat(s) have been deleted with malik rule.\n",
      "0 ectopic beat(s) have been deleted with malik rule.\n",
      "2 ectopic beat(s) have been deleted with malik rule.\n",
      "2 ectopic beat(s) have been deleted with malik rule.\n",
      "2 ectopic beat(s) have been deleted with malik rule.\n",
      "13 ectopic beat(s) have been deleted with malik rule.\n",
      "23 ectopic beat(s) have been deleted with malik rule.\n",
      "15 ectopic beat(s) have been deleted with malik rule.\n",
      "6 ectopic beat(s) have been deleted with malik rule.\n",
      "11 ectopic beat(s) have been deleted with malik rule.\n",
      "12 ectopic beat(s) have been deleted with malik rule.\n",
      "15 ectopic beat(s) have been deleted with malik rule.\n",
      "28 ectopic beat(s) have been deleted with malik rule.\n",
      "30 ectopic beat(s) have been deleted with malik rule.\n",
      "33 ectopic beat(s) have been deleted with malik rule.\n",
      "25 ectopic beat(s) have been deleted with malik rule.\n",
      "23 ectopic beat(s) have been deleted with malik rule.\n",
      "25 ectopic beat(s) have been deleted with malik rule.\n",
      "16 ectopic beat(s) have been deleted with malik rule.\n",
      "8 ectopic beat(s) have been deleted with malik rule.\n",
      "21 ectopic beat(s) have been deleted with malik rule.\n",
      "28 ectopic beat(s) have been deleted with malik rule.\n",
      "18 ectopic beat(s) have been deleted with malik rule.\n",
      "14 ectopic beat(s) have been deleted with malik rule.\n",
      "11 ectopic beat(s) have been deleted with malik rule.\n",
      "47 ectopic beat(s) have been deleted with malik rule.\n",
      "44 ectopic beat(s) have been deleted with malik rule.\n",
      "24 ectopic beat(s) have been deleted with malik rule.\n",
      "30 ectopic beat(s) have been deleted with malik rule.\n",
      "37 ectopic beat(s) have been deleted with malik rule.\n",
      "30 ectopic beat(s) have been deleted with malik rule.\n",
      "35 ectopic beat(s) have been deleted with malik rule.\n",
      "38 ectopic beat(s) have been deleted with malik rule.\n",
      "48 ectopic beat(s) have been deleted with malik rule.\n",
      "52 ectopic beat(s) have been deleted with malik rule.\n",
      "50 ectopic beat(s) have been deleted with malik rule.\n",
      "49 ectopic beat(s) have been deleted with malik rule.\n",
      "42 ectopic beat(s) have been deleted with malik rule.\n",
      "47 ectopic beat(s) have been deleted with malik rule.\n",
      "57 ectopic beat(s) have been deleted with malik rule.\n",
      "49 ectopic beat(s) have been deleted with malik rule.\n",
      "45 ectopic beat(s) have been deleted with malik rule.\n",
      "44 ectopic beat(s) have been deleted with malik rule.\n",
      "44 ectopic beat(s) have been deleted with malik rule.\n",
      "39 ectopic beat(s) have been deleted with malik rule.\n",
      "42 ectopic beat(s) have been deleted with malik rule.\n",
      "44 ectopic beat(s) have been deleted with malik rule.\n",
      "38 ectopic beat(s) have been deleted with malik rule.\n",
      "37 ectopic beat(s) have been deleted with malik rule.\n",
      "45 ectopic beat(s) have been deleted with malik rule.\n",
      "52 ectopic beat(s) have been deleted with malik rule.\n",
      "54 ectopic beat(s) have been deleted with malik rule.\n",
      "48 ectopic beat(s) have been deleted with malik rule.\n",
      "36 ectopic beat(s) have been deleted with malik rule.\n",
      "44 ectopic beat(s) have been deleted with malik rule.\n",
      "41 ectopic beat(s) have been deleted with malik rule.\n",
      "33 ectopic beat(s) have been deleted with malik rule.\n",
      "44 ectopic beat(s) have been deleted with malik rule.\n",
      "44 ectopic beat(s) have been deleted with malik rule.\n",
      "17 ectopic beat(s) have been deleted with malik rule.\n",
      "16 ectopic beat(s) have been deleted with malik rule.\n",
      "15 ectopic beat(s) have been deleted with malik rule.\n",
      "13 ectopic beat(s) have been deleted with malik rule.\n",
      "5 ectopic beat(s) have been deleted with malik rule.\n",
      "21 ectopic beat(s) have been deleted with malik rule.\n",
      "30 ectopic beat(s) have been deleted with malik rule.\n",
      "19 ectopic beat(s) have been deleted with malik rule.\n",
      "9 ectopic beat(s) have been deleted with malik rule.\n",
      "6 ectopic beat(s) have been deleted with malik rule.\n",
      "6 ectopic beat(s) have been deleted with malik rule.\n",
      "17 ectopic beat(s) have been deleted with malik rule.\n",
      "15 ectopic beat(s) have been deleted with malik rule.\n",
      "7 ectopic beat(s) have been deleted with malik rule.\n",
      "16 ectopic beat(s) have been deleted with malik rule.\n",
      "17 ectopic beat(s) have been deleted with malik rule.\n",
      "7 ectopic beat(s) have been deleted with malik rule.\n",
      "5 ectopic beat(s) have been deleted with malik rule.\n",
      "15 ectopic beat(s) have been deleted with malik rule.\n",
      "26 ectopic beat(s) have been deleted with malik rule.\n",
      "33 ectopic beat(s) have been deleted with malik rule.\n",
      "29 ectopic beat(s) have been deleted with malik rule.\n",
      "31 ectopic beat(s) have been deleted with malik rule.\n",
      "41 ectopic beat(s) have been deleted with malik rule.\n",
      "37 ectopic beat(s) have been deleted with malik rule.\n",
      "32 ectopic beat(s) have been deleted with malik rule.\n",
      "30 ectopic beat(s) have been deleted with malik rule.\n",
      "21 ectopic beat(s) have been deleted with malik rule.\n",
      "19 ectopic beat(s) have been deleted with malik rule.\n",
      "28 ectopic beat(s) have been deleted with malik rule.\n",
      "30 ectopic beat(s) have been deleted with malik rule.\n",
      "32 ectopic beat(s) have been deleted with malik rule.\n",
      "26 ectopic beat(s) have been deleted with malik rule.\n",
      "28 ectopic beat(s) have been deleted with malik rule.\n",
      "13 ectopic beat(s) have been deleted with malik rule.\n",
      "9 ectopic beat(s) have been deleted with malik rule.\n",
      "25 ectopic beat(s) have been deleted with malik rule.\n",
      "22 ectopic beat(s) have been deleted with malik rule.\n",
      "12 ectopic beat(s) have been deleted with malik rule.\n",
      "20 ectopic beat(s) have been deleted with malik rule.\n",
      "36 ectopic beat(s) have been deleted with malik rule.\n",
      "30 ectopic beat(s) have been deleted with malik rule.\n",
      "19 ectopic beat(s) have been deleted with malik rule.\n",
      "26 ectopic beat(s) have been deleted with malik rule.\n",
      "27 ectopic beat(s) have been deleted with malik rule.\n",
      "22 ectopic beat(s) have been deleted with malik rule.\n",
      "25 ectopic beat(s) have been deleted with malik rule.\n",
      "21 ectopic beat(s) have been deleted with malik rule.\n",
      "17 ectopic beat(s) have been deleted with malik rule.\n",
      "20 ectopic beat(s) have been deleted with malik rule.\n",
      "16 ectopic beat(s) have been deleted with malik rule.\n",
      "12 ectopic beat(s) have been deleted with malik rule.\n",
      "13 ectopic beat(s) have been deleted with malik rule.\n",
      "17 ectopic beat(s) have been deleted with malik rule.\n",
      "11 ectopic beat(s) have been deleted with malik rule.\n",
      "15 ectopic beat(s) have been deleted with malik rule.\n",
      "21 ectopic beat(s) have been deleted with malik rule.\n",
      "15 ectopic beat(s) have been deleted with malik rule.\n",
      "9 ectopic beat(s) have been deleted with malik rule.\n",
      "17 ectopic beat(s) have been deleted with malik rule.\n",
      "25 ectopic beat(s) have been deleted with malik rule.\n",
      "26 ectopic beat(s) have been deleted with malik rule.\n",
      "26 ectopic beat(s) have been deleted with malik rule.\n",
      "26 ectopic beat(s) have been deleted with malik rule.\n",
      "28 ectopic beat(s) have been deleted with malik rule.\n",
      "30 ectopic beat(s) have been deleted with malik rule.\n",
      "33 ectopic beat(s) have been deleted with malik rule.\n",
      "26 ectopic beat(s) have been deleted with malik rule.\n",
      "17 ectopic beat(s) have been deleted with malik rule.\n",
      "29 ectopic beat(s) have been deleted with malik rule.\n",
      "22 ectopic beat(s) have been deleted with malik rule.\n",
      "11 ectopic beat(s) have been deleted with malik rule.\n",
      "10 ectopic beat(s) have been deleted with malik rule.\n",
      "9 ectopic beat(s) have been deleted with malik rule.\n",
      "12 ectopic beat(s) have been deleted with malik rule.\n",
      "15 ectopic beat(s) have been deleted with malik rule.\n",
      "15 ectopic beat(s) have been deleted with malik rule.\n",
      "13 ectopic beat(s) have been deleted with malik rule.\n",
      "10 ectopic beat(s) have been deleted with malik rule.\n",
      "4 ectopic beat(s) have been deleted with malik rule.\n",
      "6 ectopic beat(s) have been deleted with malik rule.\n",
      "17 ectopic beat(s) have been deleted with malik rule.\n",
      "18 ectopic beat(s) have been deleted with malik rule.\n",
      "17 ectopic beat(s) have been deleted with malik rule.\n",
      "10 ectopic beat(s) have been deleted with malik rule.\n",
      "4 ectopic beat(s) have been deleted with malik rule.\n",
      "8 ectopic beat(s) have been deleted with malik rule.\n",
      "7 ectopic beat(s) have been deleted with malik rule.\n",
      "8 ectopic beat(s) have been deleted with malik rule.\n",
      "12 ectopic beat(s) have been deleted with malik rule.\n",
      "16 ectopic beat(s) have been deleted with malik rule.\n",
      "18 ectopic beat(s) have been deleted with malik rule.\n",
      "23 ectopic beat(s) have been deleted with malik rule.\n",
      "16 ectopic beat(s) have been deleted with malik rule.\n",
      "7 ectopic beat(s) have been deleted with malik rule.\n",
      "11 ectopic beat(s) have been deleted with malik rule.\n",
      "8 ectopic beat(s) have been deleted with malik rule.\n",
      "5 ectopic beat(s) have been deleted with malik rule.\n",
      "12 ectopic beat(s) have been deleted with malik rule.\n",
      "28 ectopic beat(s) have been deleted with malik rule.\n",
      "32 ectopic beat(s) have been deleted with malik rule.\n",
      "27 ectopic beat(s) have been deleted with malik rule.\n",
      "9 ectopic beat(s) have been deleted with malik rule.\n",
      "9 ectopic beat(s) have been deleted with malik rule.\n",
      "14 ectopic beat(s) have been deleted with malik rule.\n",
      "12 ectopic beat(s) have been deleted with malik rule.\n",
      "1 ectopic beat(s) have been deleted with malik rule.\n",
      "4 ectopic beat(s) have been deleted with malik rule.\n",
      "6 ectopic beat(s) have been deleted with malik rule.\n",
      "6 ectopic beat(s) have been deleted with malik rule.\n",
      "17 ectopic beat(s) have been deleted with malik rule.\n",
      "24 ectopic beat(s) have been deleted with malik rule.\n",
      "22 ectopic beat(s) have been deleted with malik rule.\n",
      "24 ectopic beat(s) have been deleted with malik rule.\n",
      "17 ectopic beat(s) have been deleted with malik rule.\n",
      "8 ectopic beat(s) have been deleted with malik rule.\n",
      "16 ectopic beat(s) have been deleted with malik rule.\n",
      "26 ectopic beat(s) have been deleted with malik rule.\n",
      "26 ectopic beat(s) have been deleted with malik rule.\n",
      "18 ectopic beat(s) have been deleted with malik rule.\n",
      "19 ectopic beat(s) have been deleted with malik rule.\n",
      "22 ectopic beat(s) have been deleted with malik rule.\n",
      "20 ectopic beat(s) have been deleted with malik rule.\n",
      "19 ectopic beat(s) have been deleted with malik rule.\n",
      "19 ectopic beat(s) have been deleted with malik rule.\n",
      "17 ectopic beat(s) have been deleted with malik rule.\n",
      "9 ectopic beat(s) have been deleted with malik rule.\n",
      "11 ectopic beat(s) have been deleted with malik rule.\n",
      "23 ectopic beat(s) have been deleted with malik rule.\n",
      "25 ectopic beat(s) have been deleted with malik rule.\n",
      "28 ectopic beat(s) have been deleted with malik rule.\n",
      "21 ectopic beat(s) have been deleted with malik rule.\n",
      "33 ectopic beat(s) have been deleted with malik rule.\n",
      "29 ectopic beat(s) have been deleted with malik rule.\n",
      "18 ectopic beat(s) have been deleted with malik rule.\n",
      "8 ectopic beat(s) have been deleted with malik rule.\n",
      "11 ectopic beat(s) have been deleted with malik rule.\n",
      "17 ectopic beat(s) have been deleted with malik rule.\n",
      "17 ectopic beat(s) have been deleted with malik rule.\n",
      "23 ectopic beat(s) have been deleted with malik rule.\n",
      "13 ectopic beat(s) have been deleted with malik rule.\n",
      "29 ectopic beat(s) have been deleted with malik rule.\n",
      "21 ectopic beat(s) have been deleted with malik rule.\n",
      "24 ectopic beat(s) have been deleted with malik rule.\n",
      "23 ectopic beat(s) have been deleted with malik rule.\n",
      "13 ectopic beat(s) have been deleted with malik rule.\n",
      "22 ectopic beat(s) have been deleted with malik rule.\n",
      "50 ectopic beat(s) have been deleted with malik rule.\n",
      "52 ectopic beat(s) have been deleted with malik rule.\n",
      "44 ectopic beat(s) have been deleted with malik rule.\n",
      "32 ectopic beat(s) have been deleted with malik rule.\n",
      "25 ectopic beat(s) have been deleted with malik rule.\n",
      "18 ectopic beat(s) have been deleted with malik rule.\n",
      "21 ectopic beat(s) have been deleted with malik rule.\n",
      "19 ectopic beat(s) have been deleted with malik rule.\n",
      "26 ectopic beat(s) have been deleted with malik rule.\n",
      "31 ectopic beat(s) have been deleted with malik rule.\n",
      "35 ectopic beat(s) have been deleted with malik rule.\n",
      "25 ectopic beat(s) have been deleted with malik rule.\n",
      "6 ectopic beat(s) have been deleted with malik rule.\n",
      "3 ectopic beat(s) have been deleted with malik rule.\n",
      "15 ectopic beat(s) have been deleted with malik rule.\n",
      "29 ectopic beat(s) have been deleted with malik rule.\n",
      "34 ectopic beat(s) have been deleted with malik rule.\n",
      "44 ectopic beat(s) have been deleted with malik rule.\n",
      "45 ectopic beat(s) have been deleted with malik rule.\n",
      "34 ectopic beat(s) have been deleted with malik rule.\n",
      "33 ectopic beat(s) have been deleted with malik rule.\n",
      "36 ectopic beat(s) have been deleted with malik rule.\n",
      "42 ectopic beat(s) have been deleted with malik rule.\n",
      "50 ectopic beat(s) have been deleted with malik rule.\n",
      "47 ectopic beat(s) have been deleted with malik rule.\n",
      "49 ectopic beat(s) have been deleted with malik rule.\n",
      "46 ectopic beat(s) have been deleted with malik rule.\n",
      "39 ectopic beat(s) have been deleted with malik rule.\n",
      "23 ectopic beat(s) have been deleted with malik rule.\n",
      "38 ectopic beat(s) have been deleted with malik rule.\n",
      "48 ectopic beat(s) have been deleted with malik rule.\n",
      "24 ectopic beat(s) have been deleted with malik rule.\n",
      "1 ectopic beat(s) have been deleted with malik rule.\n",
      "3 ectopic beat(s) have been deleted with malik rule.\n",
      "5 ectopic beat(s) have been deleted with malik rule.\n",
      "19 ectopic beat(s) have been deleted with malik rule.\n",
      "25 ectopic beat(s) have been deleted with malik rule.\n",
      "31 ectopic beat(s) have been deleted with malik rule.\n",
      "41 ectopic beat(s) have been deleted with malik rule.\n",
      "16 ectopic beat(s) have been deleted with malik rule.\n",
      "2 ectopic beat(s) have been deleted with malik rule.\n",
      "8 ectopic beat(s) have been deleted with malik rule.\n",
      "8 ectopic beat(s) have been deleted with malik rule.\n",
      "2 ectopic beat(s) have been deleted with malik rule.\n",
      "5 ectopic beat(s) have been deleted with malik rule.\n",
      "9 ectopic beat(s) have been deleted with malik rule.\n",
      "6 ectopic beat(s) have been deleted with malik rule.\n",
      "4 ectopic beat(s) have been deleted with malik rule.\n",
      "4 ectopic beat(s) have been deleted with malik rule.\n",
      "2 ectopic beat(s) have been deleted with malik rule.\n",
      "16 ectopic beat(s) have been deleted with malik rule.\n",
      "29 ectopic beat(s) have been deleted with malik rule.\n",
      "28 ectopic beat(s) have been deleted with malik rule.\n",
      "24 ectopic beat(s) have been deleted with malik rule.\n",
      "21 ectopic beat(s) have been deleted with malik rule.\n",
      "22 ectopic beat(s) have been deleted with malik rule.\n",
      "14 ectopic beat(s) have been deleted with malik rule.\n",
      "7 ectopic beat(s) have been deleted with malik rule.\n",
      "19 ectopic beat(s) have been deleted with malik rule.\n",
      "35 ectopic beat(s) have been deleted with malik rule.\n",
      "35 ectopic beat(s) have been deleted with malik rule.\n",
      "16 ectopic beat(s) have been deleted with malik rule.\n",
      "15 ectopic beat(s) have been deleted with malik rule.\n",
      "14 ectopic beat(s) have been deleted with malik rule.\n",
      "2 ectopic beat(s) have been deleted with malik rule.\n",
      "2 ectopic beat(s) have been deleted with malik rule.\n",
      "8 ectopic beat(s) have been deleted with malik rule.\n",
      "10 ectopic beat(s) have been deleted with malik rule.\n",
      "5 ectopic beat(s) have been deleted with malik rule.\n",
      "11 ectopic beat(s) have been deleted with malik rule.\n",
      "15 ectopic beat(s) have been deleted with malik rule.\n",
      "10 ectopic beat(s) have been deleted with malik rule.\n",
      "8 ectopic beat(s) have been deleted with malik rule.\n",
      "9 ectopic beat(s) have been deleted with malik rule.\n",
      "7 ectopic beat(s) have been deleted with malik rule.\n",
      "16 ectopic beat(s) have been deleted with malik rule.\n",
      "21 ectopic beat(s) have been deleted with malik rule.\n",
      "9 ectopic beat(s) have been deleted with malik rule.\n",
      "4 ectopic beat(s) have been deleted with malik rule.\n",
      "1 ectopic beat(s) have been deleted with malik rule.\n",
      "4 ectopic beat(s) have been deleted with malik rule.\n",
      "13 ectopic beat(s) have been deleted with malik rule.\n",
      "40 ectopic beat(s) have been deleted with malik rule.\n",
      "54 ectopic beat(s) have been deleted with malik rule.\n",
      "52 ectopic beat(s) have been deleted with malik rule.\n",
      "27 ectopic beat(s) have been deleted with malik rule.\n",
      "1 ectopic beat(s) have been deleted with malik rule.\n",
      "6 ectopic beat(s) have been deleted with malik rule.\n",
      "18 ectopic beat(s) have been deleted with malik rule.\n",
      "36 ectopic beat(s) have been deleted with malik rule.\n",
      "36 ectopic beat(s) have been deleted with malik rule.\n",
      "32 ectopic beat(s) have been deleted with malik rule.\n",
      "33 ectopic beat(s) have been deleted with malik rule.\n",
      "33 ectopic beat(s) have been deleted with malik rule.\n",
      "30 ectopic beat(s) have been deleted with malik rule.\n",
      "13 ectopic beat(s) have been deleted with malik rule.\n",
      "11 ectopic beat(s) have been deleted with malik rule.\n",
      "28 ectopic beat(s) have been deleted with malik rule.\n",
      "24 ectopic beat(s) have been deleted with malik rule.\n",
      "23 ectopic beat(s) have been deleted with malik rule.\n",
      "8 ectopic beat(s) have been deleted with malik rule.\n",
      "9 ectopic beat(s) have been deleted with malik rule.\n",
      "11 ectopic beat(s) have been deleted with malik rule.\n",
      "22 ectopic beat(s) have been deleted with malik rule.\n",
      "27 ectopic beat(s) have been deleted with malik rule.\n",
      "24 ectopic beat(s) have been deleted with malik rule.\n",
      "27 ectopic beat(s) have been deleted with malik rule.\n",
      "28 ectopic beat(s) have been deleted with malik rule.\n",
      "23 ectopic beat(s) have been deleted with malik rule.\n",
      "18 ectopic beat(s) have been deleted with malik rule.\n",
      "16 ectopic beat(s) have been deleted with malik rule.\n",
      "13 ectopic beat(s) have been deleted with malik rule.\n",
      "9 ectopic beat(s) have been deleted with malik rule.\n",
      "12 ectopic beat(s) have been deleted with malik rule.\n"
     ]
    },
    {
     "name": "stdout",
     "output_type": "stream",
     "text": [
      "14 ectopic beat(s) have been deleted with malik rule.\n",
      "12 ectopic beat(s) have been deleted with malik rule.\n",
      "20 ectopic beat(s) have been deleted with malik rule.\n",
      "18 ectopic beat(s) have been deleted with malik rule.\n",
      "17 ectopic beat(s) have been deleted with malik rule.\n",
      "9 ectopic beat(s) have been deleted with malik rule.\n",
      "10 ectopic beat(s) have been deleted with malik rule.\n",
      "27 ectopic beat(s) have been deleted with malik rule.\n",
      "36 ectopic beat(s) have been deleted with malik rule.\n",
      "28 ectopic beat(s) have been deleted with malik rule.\n",
      "20 ectopic beat(s) have been deleted with malik rule.\n",
      "20 ectopic beat(s) have been deleted with malik rule.\n",
      "22 ectopic beat(s) have been deleted with malik rule.\n",
      "18 ectopic beat(s) have been deleted with malik rule.\n",
      "16 ectopic beat(s) have been deleted with malik rule.\n",
      "21 ectopic beat(s) have been deleted with malik rule.\n",
      "15 ectopic beat(s) have been deleted with malik rule.\n",
      "18 ectopic beat(s) have been deleted with malik rule.\n",
      "20 ectopic beat(s) have been deleted with malik rule.\n",
      "7 ectopic beat(s) have been deleted with malik rule.\n",
      "12 ectopic beat(s) have been deleted with malik rule.\n",
      "15 ectopic beat(s) have been deleted with malik rule.\n",
      "5 ectopic beat(s) have been deleted with malik rule.\n",
      "6 ectopic beat(s) have been deleted with malik rule.\n",
      "10 ectopic beat(s) have been deleted with malik rule.\n",
      "11 ectopic beat(s) have been deleted with malik rule.\n",
      "11 ectopic beat(s) have been deleted with malik rule.\n",
      "12 ectopic beat(s) have been deleted with malik rule.\n",
      "9 ectopic beat(s) have been deleted with malik rule.\n",
      "3 ectopic beat(s) have been deleted with malik rule.\n",
      "4 ectopic beat(s) have been deleted with malik rule.\n",
      "7 ectopic beat(s) have been deleted with malik rule.\n",
      "11 ectopic beat(s) have been deleted with malik rule.\n",
      "10 ectopic beat(s) have been deleted with malik rule.\n",
      "4 ectopic beat(s) have been deleted with malik rule.\n",
      "3 ectopic beat(s) have been deleted with malik rule.\n",
      "4 ectopic beat(s) have been deleted with malik rule.\n",
      "3 ectopic beat(s) have been deleted with malik rule.\n",
      "3 ectopic beat(s) have been deleted with malik rule.\n",
      "7 ectopic beat(s) have been deleted with malik rule.\n",
      "16 ectopic beat(s) have been deleted with malik rule.\n",
      "22 ectopic beat(s) have been deleted with malik rule.\n",
      "20 ectopic beat(s) have been deleted with malik rule.\n",
      "13 ectopic beat(s) have been deleted with malik rule.\n",
      "10 ectopic beat(s) have been deleted with malik rule.\n",
      "13 ectopic beat(s) have been deleted with malik rule.\n",
      "12 ectopic beat(s) have been deleted with malik rule.\n",
      "17 ectopic beat(s) have been deleted with malik rule.\n",
      "23 ectopic beat(s) have been deleted with malik rule.\n",
      "19 ectopic beat(s) have been deleted with malik rule.\n",
      "17 ectopic beat(s) have been deleted with malik rule.\n",
      "21 ectopic beat(s) have been deleted with malik rule.\n",
      "27 ectopic beat(s) have been deleted with malik rule.\n",
      "26 ectopic beat(s) have been deleted with malik rule.\n",
      "15 ectopic beat(s) have been deleted with malik rule.\n",
      "17 ectopic beat(s) have been deleted with malik rule.\n",
      "16 ectopic beat(s) have been deleted with malik rule.\n",
      "18 ectopic beat(s) have been deleted with malik rule.\n",
      "17 ectopic beat(s) have been deleted with malik rule.\n",
      "15 ectopic beat(s) have been deleted with malik rule.\n",
      "21 ectopic beat(s) have been deleted with malik rule.\n",
      "21 ectopic beat(s) have been deleted with malik rule.\n",
      "15 ectopic beat(s) have been deleted with malik rule.\n",
      "20 ectopic beat(s) have been deleted with malik rule.\n",
      "27 ectopic beat(s) have been deleted with malik rule.\n",
      "21 ectopic beat(s) have been deleted with malik rule.\n",
      "8 ectopic beat(s) have been deleted with malik rule.\n",
      "14 ectopic beat(s) have been deleted with malik rule.\n",
      "25 ectopic beat(s) have been deleted with malik rule.\n",
      "19 ectopic beat(s) have been deleted with malik rule.\n",
      "15 ectopic beat(s) have been deleted with malik rule.\n",
      "14 ectopic beat(s) have been deleted with malik rule.\n",
      "16 ectopic beat(s) have been deleted with malik rule.\n",
      "18 ectopic beat(s) have been deleted with malik rule.\n",
      "9 ectopic beat(s) have been deleted with malik rule.\n",
      "3 ectopic beat(s) have been deleted with malik rule.\n",
      "12 ectopic beat(s) have been deleted with malik rule.\n",
      "21 ectopic beat(s) have been deleted with malik rule.\n",
      "13 ectopic beat(s) have been deleted with malik rule.\n",
      "14 ectopic beat(s) have been deleted with malik rule.\n",
      "18 ectopic beat(s) have been deleted with malik rule.\n",
      "19 ectopic beat(s) have been deleted with malik rule.\n",
      "23 ectopic beat(s) have been deleted with malik rule.\n",
      "31 ectopic beat(s) have been deleted with malik rule.\n",
      "24 ectopic beat(s) have been deleted with malik rule.\n",
      "25 ectopic beat(s) have been deleted with malik rule.\n",
      "40 ectopic beat(s) have been deleted with malik rule.\n",
      "33 ectopic beat(s) have been deleted with malik rule.\n",
      "19 ectopic beat(s) have been deleted with malik rule.\n",
      "4 ectopic beat(s) have been deleted with malik rule.\n",
      "3 ectopic beat(s) have been deleted with malik rule.\n",
      "4 ectopic beat(s) have been deleted with malik rule.\n",
      "0 ectopic beat(s) have been deleted with malik rule.\n",
      "1 ectopic beat(s) have been deleted with malik rule.\n",
      "4 ectopic beat(s) have been deleted with malik rule.\n",
      "3 ectopic beat(s) have been deleted with malik rule.\n",
      "1 ectopic beat(s) have been deleted with malik rule.\n",
      "4 ectopic beat(s) have been deleted with malik rule.\n",
      "6 ectopic beat(s) have been deleted with malik rule.\n",
      "3 ectopic beat(s) have been deleted with malik rule.\n",
      "1 ectopic beat(s) have been deleted with malik rule.\n",
      "7 ectopic beat(s) have been deleted with malik rule.\n",
      "19 ectopic beat(s) have been deleted with malik rule.\n",
      "23 ectopic beat(s) have been deleted with malik rule.\n",
      "21 ectopic beat(s) have been deleted with malik rule.\n",
      "17 ectopic beat(s) have been deleted with malik rule.\n",
      "18 ectopic beat(s) have been deleted with malik rule.\n",
      "18 ectopic beat(s) have been deleted with malik rule.\n",
      "21 ectopic beat(s) have been deleted with malik rule.\n",
      "29 ectopic beat(s) have been deleted with malik rule.\n",
      "25 ectopic beat(s) have been deleted with malik rule.\n",
      "22 ectopic beat(s) have been deleted with malik rule.\n",
      "20 ectopic beat(s) have been deleted with malik rule.\n",
      "18 ectopic beat(s) have been deleted with malik rule.\n",
      "17 ectopic beat(s) have been deleted with malik rule.\n",
      "12 ectopic beat(s) have been deleted with malik rule.\n",
      "6 ectopic beat(s) have been deleted with malik rule.\n",
      "10 ectopic beat(s) have been deleted with malik rule.\n",
      "21 ectopic beat(s) have been deleted with malik rule.\n",
      "16 ectopic beat(s) have been deleted with malik rule.\n",
      "8 ectopic beat(s) have been deleted with malik rule.\n",
      "8 ectopic beat(s) have been deleted with malik rule.\n",
      "11 ectopic beat(s) have been deleted with malik rule.\n",
      "11 ectopic beat(s) have been deleted with malik rule.\n",
      "16 ectopic beat(s) have been deleted with malik rule.\n",
      "0 ectopic beat(s) have been deleted with malik rule.\n",
      "2 ectopic beat(s) have been deleted with malik rule.\n",
      "3 ectopic beat(s) have been deleted with malik rule.\n",
      "4 ectopic beat(s) have been deleted with malik rule.\n",
      "5 ectopic beat(s) have been deleted with malik rule.\n",
      "2 ectopic beat(s) have been deleted with malik rule.\n",
      "1 ectopic beat(s) have been deleted with malik rule.\n",
      "2 ectopic beat(s) have been deleted with malik rule.\n",
      "2 ectopic beat(s) have been deleted with malik rule.\n",
      "2 ectopic beat(s) have been deleted with malik rule.\n",
      "0 ectopic beat(s) have been deleted with malik rule.\n",
      "0 ectopic beat(s) have been deleted with malik rule.\n",
      "1 ectopic beat(s) have been deleted with malik rule.\n",
      "1 ectopic beat(s) have been deleted with malik rule.\n",
      "1 ectopic beat(s) have been deleted with malik rule.\n",
      "1 ectopic beat(s) have been deleted with malik rule.\n",
      "5 ectopic beat(s) have been deleted with malik rule.\n",
      "14 ectopic beat(s) have been deleted with malik rule.\n",
      "26 ectopic beat(s) have been deleted with malik rule.\n",
      "22 ectopic beat(s) have been deleted with malik rule.\n",
      "24 ectopic beat(s) have been deleted with malik rule.\n",
      "36 ectopic beat(s) have been deleted with malik rule.\n",
      "36 ectopic beat(s) have been deleted with malik rule.\n",
      "23 ectopic beat(s) have been deleted with malik rule.\n",
      "17 ectopic beat(s) have been deleted with malik rule.\n",
      "26 ectopic beat(s) have been deleted with malik rule.\n",
      "32 ectopic beat(s) have been deleted with malik rule.\n",
      "26 ectopic beat(s) have been deleted with malik rule.\n",
      "19 ectopic beat(s) have been deleted with malik rule.\n",
      "29 ectopic beat(s) have been deleted with malik rule.\n",
      "34 ectopic beat(s) have been deleted with malik rule.\n",
      "34 ectopic beat(s) have been deleted with malik rule.\n",
      "36 ectopic beat(s) have been deleted with malik rule.\n",
      "27 ectopic beat(s) have been deleted with malik rule.\n",
      "12 ectopic beat(s) have been deleted with malik rule.\n",
      "25 ectopic beat(s) have been deleted with malik rule.\n",
      "18 ectopic beat(s) have been deleted with malik rule.\n",
      "10 ectopic beat(s) have been deleted with malik rule.\n",
      "11 ectopic beat(s) have been deleted with malik rule.\n",
      "10 ectopic beat(s) have been deleted with malik rule.\n",
      "8 ectopic beat(s) have been deleted with malik rule.\n",
      "11 ectopic beat(s) have been deleted with malik rule.\n",
      "13 ectopic beat(s) have been deleted with malik rule.\n",
      "4 ectopic beat(s) have been deleted with malik rule.\n",
      "0 ectopic beat(s) have been deleted with malik rule.\n",
      "5 ectopic beat(s) have been deleted with malik rule.\n",
      "4 ectopic beat(s) have been deleted with malik rule.\n",
      "0 ectopic beat(s) have been deleted with malik rule.\n",
      "3 ectopic beat(s) have been deleted with malik rule.\n",
      "5 ectopic beat(s) have been deleted with malik rule.\n"
     ]
    },
    {
     "name": "stdout",
     "output_type": "stream",
     "text": [
      "7 ectopic beat(s) have been deleted with malik rule.\n",
      "5 ectopic beat(s) have been deleted with malik rule.\n",
      "3 ectopic beat(s) have been deleted with malik rule.\n",
      "6 ectopic beat(s) have been deleted with malik rule.\n",
      "11 ectopic beat(s) have been deleted with malik rule.\n",
      "16 ectopic beat(s) have been deleted with malik rule.\n",
      "16 ectopic beat(s) have been deleted with malik rule.\n",
      "9 ectopic beat(s) have been deleted with malik rule.\n",
      "4 ectopic beat(s) have been deleted with malik rule.\n",
      "2 ectopic beat(s) have been deleted with malik rule.\n",
      "5 ectopic beat(s) have been deleted with malik rule.\n",
      "16 ectopic beat(s) have been deleted with malik rule.\n",
      "21 ectopic beat(s) have been deleted with malik rule.\n",
      "14 ectopic beat(s) have been deleted with malik rule.\n",
      "11 ectopic beat(s) have been deleted with malik rule.\n",
      "7 ectopic beat(s) have been deleted with malik rule.\n",
      "7 ectopic beat(s) have been deleted with malik rule.\n",
      "15 ectopic beat(s) have been deleted with malik rule.\n",
      "21 ectopic beat(s) have been deleted with malik rule.\n",
      "14 ectopic beat(s) have been deleted with malik rule.\n",
      "26 ectopic beat(s) have been deleted with malik rule.\n",
      "36 ectopic beat(s) have been deleted with malik rule.\n",
      "27 ectopic beat(s) have been deleted with malik rule.\n",
      "15 ectopic beat(s) have been deleted with malik rule.\n",
      "16 ectopic beat(s) have been deleted with malik rule.\n",
      "24 ectopic beat(s) have been deleted with malik rule.\n",
      "36 ectopic beat(s) have been deleted with malik rule.\n",
      "25 ectopic beat(s) have been deleted with malik rule.\n",
      "13 ectopic beat(s) have been deleted with malik rule.\n",
      "20 ectopic beat(s) have been deleted with malik rule.\n",
      "37 ectopic beat(s) have been deleted with malik rule.\n",
      "44 ectopic beat(s) have been deleted with malik rule.\n",
      "37 ectopic beat(s) have been deleted with malik rule.\n",
      "46 ectopic beat(s) have been deleted with malik rule.\n",
      "42 ectopic beat(s) have been deleted with malik rule.\n",
      "30 ectopic beat(s) have been deleted with malik rule.\n",
      "33 ectopic beat(s) have been deleted with malik rule.\n",
      "46 ectopic beat(s) have been deleted with malik rule.\n",
      "45 ectopic beat(s) have been deleted with malik rule.\n",
      "45 ectopic beat(s) have been deleted with malik rule.\n",
      "51 ectopic beat(s) have been deleted with malik rule.\n",
      "47 ectopic beat(s) have been deleted with malik rule.\n",
      "39 ectopic beat(s) have been deleted with malik rule.\n",
      "48 ectopic beat(s) have been deleted with malik rule.\n",
      "51 ectopic beat(s) have been deleted with malik rule.\n",
      "34 ectopic beat(s) have been deleted with malik rule.\n",
      "33 ectopic beat(s) have been deleted with malik rule.\n",
      "36 ectopic beat(s) have been deleted with malik rule.\n",
      "28 ectopic beat(s) have been deleted with malik rule.\n",
      "37 ectopic beat(s) have been deleted with malik rule.\n",
      "47 ectopic beat(s) have been deleted with malik rule.\n",
      "37 ectopic beat(s) have been deleted with malik rule.\n",
      "33 ectopic beat(s) have been deleted with malik rule.\n",
      "41 ectopic beat(s) have been deleted with malik rule.\n",
      "27 ectopic beat(s) have been deleted with malik rule.\n",
      "16 ectopic beat(s) have been deleted with malik rule.\n",
      "13 ectopic beat(s) have been deleted with malik rule.\n",
      "22 ectopic beat(s) have been deleted with malik rule.\n",
      "29 ectopic beat(s) have been deleted with malik rule.\n",
      "17 ectopic beat(s) have been deleted with malik rule.\n",
      "15 ectopic beat(s) have been deleted with malik rule.\n",
      "12 ectopic beat(s) have been deleted with malik rule.\n",
      "12 ectopic beat(s) have been deleted with malik rule.\n",
      "11 ectopic beat(s) have been deleted with malik rule.\n",
      "5 ectopic beat(s) have been deleted with malik rule.\n",
      "17 ectopic beat(s) have been deleted with malik rule.\n",
      "18 ectopic beat(s) have been deleted with malik rule.\n",
      "11 ectopic beat(s) have been deleted with malik rule.\n",
      "13 ectopic beat(s) have been deleted with malik rule.\n",
      "10 ectopic beat(s) have been deleted with malik rule.\n",
      "4 ectopic beat(s) have been deleted with malik rule.\n",
      "2 ectopic beat(s) have been deleted with malik rule.\n",
      "17 ectopic beat(s) have been deleted with malik rule.\n",
      "18 ectopic beat(s) have been deleted with malik rule.\n",
      "20 ectopic beat(s) have been deleted with malik rule.\n",
      "16 ectopic beat(s) have been deleted with malik rule.\n",
      "15 ectopic beat(s) have been deleted with malik rule.\n",
      "20 ectopic beat(s) have been deleted with malik rule.\n",
      "20 ectopic beat(s) have been deleted with malik rule.\n",
      "29 ectopic beat(s) have been deleted with malik rule.\n",
      "34 ectopic beat(s) have been deleted with malik rule.\n",
      "31 ectopic beat(s) have been deleted with malik rule.\n",
      "28 ectopic beat(s) have been deleted with malik rule.\n",
      "27 ectopic beat(s) have been deleted with malik rule.\n",
      "32 ectopic beat(s) have been deleted with malik rule.\n",
      "39 ectopic beat(s) have been deleted with malik rule.\n",
      "15 ectopic beat(s) have been deleted with malik rule.\n",
      "24 ectopic beat(s) have been deleted with malik rule.\n",
      "30 ectopic beat(s) have been deleted with malik rule.\n",
      "20 ectopic beat(s) have been deleted with malik rule.\n"
     ]
    }
   ],
   "source": [
    "# remove ectopic beats\n",
    "nn_list_window = dict()\n",
    "for key in sublist:\n",
    "    value = rr_intervals_without_outliers [key]\n",
    "    nn_list_window[key] =[]\n",
    "\n",
    "    for i in range(len(value)):\n",
    "        nn = remove_ectopic_beats(rr_intervals = value[i], method = \"malik\")\n",
    "        nn_array = np.asarray(nn)\n",
    "        \n",
    "        result = nn_array[np.logical_not(np.isnan(nn_array))]\n",
    "        nn_list_window[key].append(result.tolist())"
   ]
  },
  {
   "cell_type": "markdown",
   "metadata": {},
   "source": [
    "### Generate HRV features"
   ]
  },
  {
   "cell_type": "code",
   "execution_count": 258,
   "metadata": {},
   "outputs": [],
   "source": [
    "from hrvanalysis import get_time_domain_features, get_frequency_domain_features"
   ]
  },
  {
   "cell_type": "code",
   "execution_count": 259,
   "metadata": {
    "collapsed": true
   },
   "outputs": [
    {
     "name": "stdout",
     "output_type": "stream",
     "text": [
      "301\n",
      "302\n",
      "303\n"
     ]
    },
    {
     "name": "stderr",
     "output_type": "stream",
     "text": [
      "/Users/hanjiawen/anaconda3/lib/python3.7/site-packages/scipy/signal/spectral.py:1963: UserWarning:\n",
      "\n",
      "nperseg = 256 is greater than input length  = 159, using nperseg = 159\n",
      "\n",
      "/Users/hanjiawen/anaconda3/lib/python3.7/site-packages/scipy/signal/spectral.py:1963: UserWarning:\n",
      "\n",
      "nperseg = 256 is greater than input length  = 128, using nperseg = 128\n",
      "\n"
     ]
    },
    {
     "name": "stdout",
     "output_type": "stream",
     "text": [
      "304\n",
      "305\n",
      "306\n",
      "309\n",
      "312\n"
     ]
    },
    {
     "name": "stderr",
     "output_type": "stream",
     "text": [
      "/Users/hanjiawen/anaconda3/lib/python3.7/site-packages/scipy/signal/spectral.py:1963: UserWarning:\n",
      "\n",
      "nperseg = 256 is greater than input length  = 252, using nperseg = 252\n",
      "\n",
      "/Users/hanjiawen/anaconda3/lib/python3.7/site-packages/scipy/signal/spectral.py:1963: UserWarning:\n",
      "\n",
      "nperseg = 256 is greater than input length  = 208, using nperseg = 208\n",
      "\n",
      "/Users/hanjiawen/anaconda3/lib/python3.7/site-packages/scipy/signal/spectral.py:1963: UserWarning:\n",
      "\n",
      "nperseg = 256 is greater than input length  = 147, using nperseg = 147\n",
      "\n",
      "/Users/hanjiawen/anaconda3/lib/python3.7/site-packages/scipy/signal/spectral.py:1963: UserWarning:\n",
      "\n",
      "nperseg = 256 is greater than input length  = 164, using nperseg = 164\n",
      "\n",
      "/Users/hanjiawen/anaconda3/lib/python3.7/site-packages/scipy/signal/spectral.py:1963: UserWarning:\n",
      "\n",
      "nperseg = 256 is greater than input length  = 203, using nperseg = 203\n",
      "\n",
      "/Users/hanjiawen/anaconda3/lib/python3.7/site-packages/scipy/signal/spectral.py:1963: UserWarning:\n",
      "\n",
      "nperseg = 256 is greater than input length  = 210, using nperseg = 210\n",
      "\n",
      "/Users/hanjiawen/anaconda3/lib/python3.7/site-packages/scipy/signal/spectral.py:1963: UserWarning:\n",
      "\n",
      "nperseg = 256 is greater than input length  = 111, using nperseg = 111\n",
      "\n",
      "/Users/hanjiawen/anaconda3/lib/python3.7/site-packages/scipy/signal/spectral.py:1963: UserWarning:\n",
      "\n",
      "nperseg = 256 is greater than input length  = 100, using nperseg = 100\n",
      "\n",
      "/Users/hanjiawen/anaconda3/lib/python3.7/site-packages/scipy/signal/spectral.py:1963: UserWarning:\n",
      "\n",
      "nperseg = 256 is greater than input length  = 160, using nperseg = 160\n",
      "\n",
      "/Users/hanjiawen/anaconda3/lib/python3.7/site-packages/scipy/signal/spectral.py:1963: UserWarning:\n",
      "\n",
      "nperseg = 256 is greater than input length  = 156, using nperseg = 156\n",
      "\n",
      "/Users/hanjiawen/anaconda3/lib/python3.7/site-packages/scipy/signal/spectral.py:1963: UserWarning:\n",
      "\n",
      "nperseg = 256 is greater than input length  = 146, using nperseg = 146\n",
      "\n",
      "/Users/hanjiawen/anaconda3/lib/python3.7/site-packages/scipy/signal/spectral.py:1963: UserWarning:\n",
      "\n",
      "nperseg = 256 is greater than input length  = 44, using nperseg = 44\n",
      "\n"
     ]
    },
    {
     "name": "stdout",
     "output_type": "stream",
     "text": [
      "313\n",
      "314\n",
      "317\n",
      "319\n"
     ]
    },
    {
     "name": "stderr",
     "output_type": "stream",
     "text": [
      "/Users/hanjiawen/anaconda3/lib/python3.7/site-packages/scipy/signal/spectral.py:1963: UserWarning:\n",
      "\n",
      "nperseg = 256 is greater than input length  = 98, using nperseg = 98\n",
      "\n",
      "/Users/hanjiawen/anaconda3/lib/python3.7/site-packages/scipy/signal/spectral.py:1963: UserWarning:\n",
      "\n",
      "nperseg = 256 is greater than input length  = 238, using nperseg = 238\n",
      "\n",
      "/Users/hanjiawen/anaconda3/lib/python3.7/site-packages/scipy/signal/spectral.py:1963: UserWarning:\n",
      "\n",
      "nperseg = 256 is greater than input length  = 119, using nperseg = 119\n",
      "\n"
     ]
    },
    {
     "name": "stdout",
     "output_type": "stream",
     "text": [
      "321\n",
      "322\n",
      "325\n",
      "326\n",
      "327\n",
      "328\n",
      "329\n"
     ]
    },
    {
     "name": "stderr",
     "output_type": "stream",
     "text": [
      "/Users/hanjiawen/anaconda3/lib/python3.7/site-packages/scipy/signal/spectral.py:1963: UserWarning:\n",
      "\n",
      "nperseg = 256 is greater than input length  = 177, using nperseg = 177\n",
      "\n",
      "/Users/hanjiawen/anaconda3/lib/python3.7/site-packages/scipy/signal/spectral.py:1963: UserWarning:\n",
      "\n",
      "nperseg = 256 is greater than input length  = 246, using nperseg = 246\n",
      "\n",
      "/Users/hanjiawen/anaconda3/lib/python3.7/site-packages/scipy/signal/spectral.py:1963: UserWarning:\n",
      "\n",
      "nperseg = 256 is greater than input length  = 92, using nperseg = 92\n",
      "\n",
      "/Users/hanjiawen/anaconda3/lib/python3.7/site-packages/scipy/signal/spectral.py:1963: UserWarning:\n",
      "\n",
      "nperseg = 256 is greater than input length  = 69, using nperseg = 69\n",
      "\n",
      "/Users/hanjiawen/anaconda3/lib/python3.7/site-packages/scipy/signal/spectral.py:1963: UserWarning:\n",
      "\n",
      "nperseg = 256 is greater than input length  = 193, using nperseg = 193\n",
      "\n"
     ]
    },
    {
     "name": "stdout",
     "output_type": "stream",
     "text": [
      "330\n",
      "331\n",
      "334\n"
     ]
    },
    {
     "name": "stderr",
     "output_type": "stream",
     "text": [
      "/Users/hanjiawen/anaconda3/lib/python3.7/site-packages/scipy/signal/spectral.py:1963: UserWarning:\n",
      "\n",
      "nperseg = 256 is greater than input length  = 46, using nperseg = 46\n",
      "\n",
      "/Users/hanjiawen/anaconda3/lib/python3.7/site-packages/scipy/signal/spectral.py:1963: UserWarning:\n",
      "\n",
      "nperseg = 256 is greater than input length  = 117, using nperseg = 117\n",
      "\n"
     ]
    },
    {
     "name": "stdout",
     "output_type": "stream",
     "text": [
      "335\n",
      "340\n",
      "341\n",
      "342\n"
     ]
    }
   ],
   "source": [
    "timedomain_features = dict()\n",
    "frequencydomain_features = dict()\n",
    "for key in sublist:\n",
    "    print(key)\n",
    "    value = nn_list_window[key]\n",
    "    timedomain_features[key] = []\n",
    "    frequencydomain_features[key] = []\n",
    "    for i in range(len(value)):\n",
    "         if len(value[i])>2:\n",
    "            timedomain_features[key].append(get_time_domain_features(value[i]))\n",
    "            frequencydomain_features[key].append(get_frequency_domain_features(value[i]))"
   ]
  },
  {
   "cell_type": "markdown",
   "metadata": {},
   "source": [
    "### Plot HRV features"
   ]
  },
  {
   "cell_type": "code",
   "execution_count": 260,
   "metadata": {},
   "outputs": [],
   "source": [
    "def data_to_plot (subject,domain, feature):\n",
    "    data = []\n",
    "    featurevalue = domain[subject]\n",
    "    for i in range(len(domain[subject])):\n",
    "        data.append(df_sliced[subject][i].iloc[0].to_frame().T)\n",
    "        data[i][feature] = featurevalue[i][feature]\n",
    "    \n",
    "    dataframe= pd.concat(data)\n",
    "    dataframe['time'] = dataframe['timepassMin'] -24\n",
    "    dataframe['time']= dataframe['time'].apply(lambda x:  x if x % 2 == 0 else (x-1))\n",
    "\n",
    "    return dataframe"
   ]
  },
  {
   "cell_type": "code",
   "execution_count": 329,
   "metadata": {},
   "outputs": [],
   "source": [
    "def plot_hrv_feature(subject,domain,feature):\n",
    "    df = data_to_plot(subject,domain,feature)\n",
    "    fig = px.line(df, x=\"time\", y=feature, title=subject+'_'+feature,width=800, height=350,template='simple_white')\n",
    "    fig.update_traces(mode='markers+lines')\n",
    "    fig.show()"
   ]
  },
  {
   "cell_type": "code",
   "execution_count": 330,
   "metadata": {
    "scrolled": false
   },
   "outputs": [
    {
     "data": {
      "application/vnd.plotly.v1+json": {
       "config": {
        "plotlyServerURL": "https://plot.ly"
       },
       "data": [
        {
         "hovertemplate": "time=%{x}<br>pnni_50=%{y}<extra></extra>",
         "legendgroup": "",
         "line": {
          "color": "#1F77B4",
          "dash": "solid"
         },
         "mode": "markers+lines",
         "name": "",
         "orientation": "v",
         "showlegend": false,
         "type": "scatter",
         "x": [
          0,
          2,
          4,
          6,
          8,
          10,
          12,
          14,
          16,
          18,
          20,
          22,
          24,
          26,
          28,
          30,
          32,
          34,
          36,
          38,
          40,
          42,
          44,
          46,
          48,
          50,
          52,
          54,
          56,
          58,
          60,
          62,
          64,
          66,
          68
         ],
         "xaxis": "x",
         "y": [
          29.71014492753623,
          22.448979591836736,
          15.086206896551724,
          8.679245283018869,
          12.173913043478262,
          22.63157894736842,
          15.11111111111111,
          5.319148936170213,
          8.02919708029197,
          13.779527559055119,
          19.806763285024154,
          11.764705882352942,
          7.116104868913857,
          16.182572614107883,
          17.94871794871795,
          7.662835249042145,
          7.936507936507937,
          22.61904761904762,
          47.36842105263158,
          59.523809523809526,
          42.14876033057851,
          41.666666666666664,
          59.21052631578947,
          50,
          37.81512605042017,
          44.89795918367347,
          32.55813953488372,
          28.925619834710744,
          44.87179487179487,
          48.484848484848484,
          34.31372549019608,
          14.705882352941176,
          21.22641509433962,
          15.384615384615385,
          11.538461538461538
         ],
         "yaxis": "y"
        }
       ],
       "layout": {
        "height": 350,
        "legend": {
         "tracegroupgap": 0
        },
        "template": {
         "data": {
          "bar": [
           {
            "error_x": {
             "color": "rgb(36,36,36)"
            },
            "error_y": {
             "color": "rgb(36,36,36)"
            },
            "marker": {
             "line": {
              "color": "white",
              "width": 0.5
             }
            },
            "type": "bar"
           }
          ],
          "barpolar": [
           {
            "marker": {
             "line": {
              "color": "white",
              "width": 0.5
             }
            },
            "type": "barpolar"
           }
          ],
          "carpet": [
           {
            "aaxis": {
             "endlinecolor": "rgb(36,36,36)",
             "gridcolor": "white",
             "linecolor": "white",
             "minorgridcolor": "white",
             "startlinecolor": "rgb(36,36,36)"
            },
            "baxis": {
             "endlinecolor": "rgb(36,36,36)",
             "gridcolor": "white",
             "linecolor": "white",
             "minorgridcolor": "white",
             "startlinecolor": "rgb(36,36,36)"
            },
            "type": "carpet"
           }
          ],
          "choropleth": [
           {
            "colorbar": {
             "outlinewidth": 1,
             "tickcolor": "rgb(36,36,36)",
             "ticks": "outside"
            },
            "type": "choropleth"
           }
          ],
          "contour": [
           {
            "colorbar": {
             "outlinewidth": 1,
             "tickcolor": "rgb(36,36,36)",
             "ticks": "outside"
            },
            "colorscale": [
             [
              0,
              "#440154"
             ],
             [
              0.1111111111111111,
              "#482878"
             ],
             [
              0.2222222222222222,
              "#3e4989"
             ],
             [
              0.3333333333333333,
              "#31688e"
             ],
             [
              0.4444444444444444,
              "#26828e"
             ],
             [
              0.5555555555555556,
              "#1f9e89"
             ],
             [
              0.6666666666666666,
              "#35b779"
             ],
             [
              0.7777777777777778,
              "#6ece58"
             ],
             [
              0.8888888888888888,
              "#b5de2b"
             ],
             [
              1,
              "#fde725"
             ]
            ],
            "type": "contour"
           }
          ],
          "contourcarpet": [
           {
            "colorbar": {
             "outlinewidth": 1,
             "tickcolor": "rgb(36,36,36)",
             "ticks": "outside"
            },
            "type": "contourcarpet"
           }
          ],
          "heatmap": [
           {
            "colorbar": {
             "outlinewidth": 1,
             "tickcolor": "rgb(36,36,36)",
             "ticks": "outside"
            },
            "colorscale": [
             [
              0,
              "#440154"
             ],
             [
              0.1111111111111111,
              "#482878"
             ],
             [
              0.2222222222222222,
              "#3e4989"
             ],
             [
              0.3333333333333333,
              "#31688e"
             ],
             [
              0.4444444444444444,
              "#26828e"
             ],
             [
              0.5555555555555556,
              "#1f9e89"
             ],
             [
              0.6666666666666666,
              "#35b779"
             ],
             [
              0.7777777777777778,
              "#6ece58"
             ],
             [
              0.8888888888888888,
              "#b5de2b"
             ],
             [
              1,
              "#fde725"
             ]
            ],
            "type": "heatmap"
           }
          ],
          "heatmapgl": [
           {
            "colorbar": {
             "outlinewidth": 1,
             "tickcolor": "rgb(36,36,36)",
             "ticks": "outside"
            },
            "colorscale": [
             [
              0,
              "#440154"
             ],
             [
              0.1111111111111111,
              "#482878"
             ],
             [
              0.2222222222222222,
              "#3e4989"
             ],
             [
              0.3333333333333333,
              "#31688e"
             ],
             [
              0.4444444444444444,
              "#26828e"
             ],
             [
              0.5555555555555556,
              "#1f9e89"
             ],
             [
              0.6666666666666666,
              "#35b779"
             ],
             [
              0.7777777777777778,
              "#6ece58"
             ],
             [
              0.8888888888888888,
              "#b5de2b"
             ],
             [
              1,
              "#fde725"
             ]
            ],
            "type": "heatmapgl"
           }
          ],
          "histogram": [
           {
            "marker": {
             "line": {
              "color": "white",
              "width": 0.6
             }
            },
            "type": "histogram"
           }
          ],
          "histogram2d": [
           {
            "colorbar": {
             "outlinewidth": 1,
             "tickcolor": "rgb(36,36,36)",
             "ticks": "outside"
            },
            "colorscale": [
             [
              0,
              "#440154"
             ],
             [
              0.1111111111111111,
              "#482878"
             ],
             [
              0.2222222222222222,
              "#3e4989"
             ],
             [
              0.3333333333333333,
              "#31688e"
             ],
             [
              0.4444444444444444,
              "#26828e"
             ],
             [
              0.5555555555555556,
              "#1f9e89"
             ],
             [
              0.6666666666666666,
              "#35b779"
             ],
             [
              0.7777777777777778,
              "#6ece58"
             ],
             [
              0.8888888888888888,
              "#b5de2b"
             ],
             [
              1,
              "#fde725"
             ]
            ],
            "type": "histogram2d"
           }
          ],
          "histogram2dcontour": [
           {
            "colorbar": {
             "outlinewidth": 1,
             "tickcolor": "rgb(36,36,36)",
             "ticks": "outside"
            },
            "colorscale": [
             [
              0,
              "#440154"
             ],
             [
              0.1111111111111111,
              "#482878"
             ],
             [
              0.2222222222222222,
              "#3e4989"
             ],
             [
              0.3333333333333333,
              "#31688e"
             ],
             [
              0.4444444444444444,
              "#26828e"
             ],
             [
              0.5555555555555556,
              "#1f9e89"
             ],
             [
              0.6666666666666666,
              "#35b779"
             ],
             [
              0.7777777777777778,
              "#6ece58"
             ],
             [
              0.8888888888888888,
              "#b5de2b"
             ],
             [
              1,
              "#fde725"
             ]
            ],
            "type": "histogram2dcontour"
           }
          ],
          "mesh3d": [
           {
            "colorbar": {
             "outlinewidth": 1,
             "tickcolor": "rgb(36,36,36)",
             "ticks": "outside"
            },
            "type": "mesh3d"
           }
          ],
          "parcoords": [
           {
            "line": {
             "colorbar": {
              "outlinewidth": 1,
              "tickcolor": "rgb(36,36,36)",
              "ticks": "outside"
             }
            },
            "type": "parcoords"
           }
          ],
          "pie": [
           {
            "automargin": true,
            "type": "pie"
           }
          ],
          "scatter": [
           {
            "marker": {
             "colorbar": {
              "outlinewidth": 1,
              "tickcolor": "rgb(36,36,36)",
              "ticks": "outside"
             }
            },
            "type": "scatter"
           }
          ],
          "scatter3d": [
           {
            "line": {
             "colorbar": {
              "outlinewidth": 1,
              "tickcolor": "rgb(36,36,36)",
              "ticks": "outside"
             }
            },
            "marker": {
             "colorbar": {
              "outlinewidth": 1,
              "tickcolor": "rgb(36,36,36)",
              "ticks": "outside"
             }
            },
            "type": "scatter3d"
           }
          ],
          "scattercarpet": [
           {
            "marker": {
             "colorbar": {
              "outlinewidth": 1,
              "tickcolor": "rgb(36,36,36)",
              "ticks": "outside"
             }
            },
            "type": "scattercarpet"
           }
          ],
          "scattergeo": [
           {
            "marker": {
             "colorbar": {
              "outlinewidth": 1,
              "tickcolor": "rgb(36,36,36)",
              "ticks": "outside"
             }
            },
            "type": "scattergeo"
           }
          ],
          "scattergl": [
           {
            "marker": {
             "colorbar": {
              "outlinewidth": 1,
              "tickcolor": "rgb(36,36,36)",
              "ticks": "outside"
             }
            },
            "type": "scattergl"
           }
          ],
          "scattermapbox": [
           {
            "marker": {
             "colorbar": {
              "outlinewidth": 1,
              "tickcolor": "rgb(36,36,36)",
              "ticks": "outside"
             }
            },
            "type": "scattermapbox"
           }
          ],
          "scatterpolar": [
           {
            "marker": {
             "colorbar": {
              "outlinewidth": 1,
              "tickcolor": "rgb(36,36,36)",
              "ticks": "outside"
             }
            },
            "type": "scatterpolar"
           }
          ],
          "scatterpolargl": [
           {
            "marker": {
             "colorbar": {
              "outlinewidth": 1,
              "tickcolor": "rgb(36,36,36)",
              "ticks": "outside"
             }
            },
            "type": "scatterpolargl"
           }
          ],
          "scatterternary": [
           {
            "marker": {
             "colorbar": {
              "outlinewidth": 1,
              "tickcolor": "rgb(36,36,36)",
              "ticks": "outside"
             }
            },
            "type": "scatterternary"
           }
          ],
          "surface": [
           {
            "colorbar": {
             "outlinewidth": 1,
             "tickcolor": "rgb(36,36,36)",
             "ticks": "outside"
            },
            "colorscale": [
             [
              0,
              "#440154"
             ],
             [
              0.1111111111111111,
              "#482878"
             ],
             [
              0.2222222222222222,
              "#3e4989"
             ],
             [
              0.3333333333333333,
              "#31688e"
             ],
             [
              0.4444444444444444,
              "#26828e"
             ],
             [
              0.5555555555555556,
              "#1f9e89"
             ],
             [
              0.6666666666666666,
              "#35b779"
             ],
             [
              0.7777777777777778,
              "#6ece58"
             ],
             [
              0.8888888888888888,
              "#b5de2b"
             ],
             [
              1,
              "#fde725"
             ]
            ],
            "type": "surface"
           }
          ],
          "table": [
           {
            "cells": {
             "fill": {
              "color": "rgb(237,237,237)"
             },
             "line": {
              "color": "white"
             }
            },
            "header": {
             "fill": {
              "color": "rgb(217,217,217)"
             },
             "line": {
              "color": "white"
             }
            },
            "type": "table"
           }
          ]
         },
         "layout": {
          "annotationdefaults": {
           "arrowhead": 0,
           "arrowwidth": 1
          },
          "coloraxis": {
           "colorbar": {
            "outlinewidth": 1,
            "tickcolor": "rgb(36,36,36)",
            "ticks": "outside"
           }
          },
          "colorscale": {
           "diverging": [
            [
             0,
             "rgb(103,0,31)"
            ],
            [
             0.1,
             "rgb(178,24,43)"
            ],
            [
             0.2,
             "rgb(214,96,77)"
            ],
            [
             0.3,
             "rgb(244,165,130)"
            ],
            [
             0.4,
             "rgb(253,219,199)"
            ],
            [
             0.5,
             "rgb(247,247,247)"
            ],
            [
             0.6,
             "rgb(209,229,240)"
            ],
            [
             0.7,
             "rgb(146,197,222)"
            ],
            [
             0.8,
             "rgb(67,147,195)"
            ],
            [
             0.9,
             "rgb(33,102,172)"
            ],
            [
             1,
             "rgb(5,48,97)"
            ]
           ],
           "sequential": [
            [
             0,
             "#440154"
            ],
            [
             0.1111111111111111,
             "#482878"
            ],
            [
             0.2222222222222222,
             "#3e4989"
            ],
            [
             0.3333333333333333,
             "#31688e"
            ],
            [
             0.4444444444444444,
             "#26828e"
            ],
            [
             0.5555555555555556,
             "#1f9e89"
            ],
            [
             0.6666666666666666,
             "#35b779"
            ],
            [
             0.7777777777777778,
             "#6ece58"
            ],
            [
             0.8888888888888888,
             "#b5de2b"
            ],
            [
             1,
             "#fde725"
            ]
           ],
           "sequentialminus": [
            [
             0,
             "#440154"
            ],
            [
             0.1111111111111111,
             "#482878"
            ],
            [
             0.2222222222222222,
             "#3e4989"
            ],
            [
             0.3333333333333333,
             "#31688e"
            ],
            [
             0.4444444444444444,
             "#26828e"
            ],
            [
             0.5555555555555556,
             "#1f9e89"
            ],
            [
             0.6666666666666666,
             "#35b779"
            ],
            [
             0.7777777777777778,
             "#6ece58"
            ],
            [
             0.8888888888888888,
             "#b5de2b"
            ],
            [
             1,
             "#fde725"
            ]
           ]
          },
          "colorway": [
           "#1F77B4",
           "#FF7F0E",
           "#2CA02C",
           "#D62728",
           "#9467BD",
           "#8C564B",
           "#E377C2",
           "#7F7F7F",
           "#BCBD22",
           "#17BECF"
          ],
          "font": {
           "color": "rgb(36,36,36)"
          },
          "geo": {
           "bgcolor": "white",
           "lakecolor": "white",
           "landcolor": "white",
           "showlakes": true,
           "showland": true,
           "subunitcolor": "white"
          },
          "hoverlabel": {
           "align": "left"
          },
          "hovermode": "closest",
          "mapbox": {
           "style": "light"
          },
          "paper_bgcolor": "white",
          "plot_bgcolor": "white",
          "polar": {
           "angularaxis": {
            "gridcolor": "rgb(232,232,232)",
            "linecolor": "rgb(36,36,36)",
            "showgrid": false,
            "showline": true,
            "ticks": "outside"
           },
           "bgcolor": "white",
           "radialaxis": {
            "gridcolor": "rgb(232,232,232)",
            "linecolor": "rgb(36,36,36)",
            "showgrid": false,
            "showline": true,
            "ticks": "outside"
           }
          },
          "scene": {
           "xaxis": {
            "backgroundcolor": "white",
            "gridcolor": "rgb(232,232,232)",
            "gridwidth": 2,
            "linecolor": "rgb(36,36,36)",
            "showbackground": true,
            "showgrid": false,
            "showline": true,
            "ticks": "outside",
            "zeroline": false,
            "zerolinecolor": "rgb(36,36,36)"
           },
           "yaxis": {
            "backgroundcolor": "white",
            "gridcolor": "rgb(232,232,232)",
            "gridwidth": 2,
            "linecolor": "rgb(36,36,36)",
            "showbackground": true,
            "showgrid": false,
            "showline": true,
            "ticks": "outside",
            "zeroline": false,
            "zerolinecolor": "rgb(36,36,36)"
           },
           "zaxis": {
            "backgroundcolor": "white",
            "gridcolor": "rgb(232,232,232)",
            "gridwidth": 2,
            "linecolor": "rgb(36,36,36)",
            "showbackground": true,
            "showgrid": false,
            "showline": true,
            "ticks": "outside",
            "zeroline": false,
            "zerolinecolor": "rgb(36,36,36)"
           }
          },
          "shapedefaults": {
           "fillcolor": "black",
           "line": {
            "width": 0
           },
           "opacity": 0.3
          },
          "ternary": {
           "aaxis": {
            "gridcolor": "rgb(232,232,232)",
            "linecolor": "rgb(36,36,36)",
            "showgrid": false,
            "showline": true,
            "ticks": "outside"
           },
           "baxis": {
            "gridcolor": "rgb(232,232,232)",
            "linecolor": "rgb(36,36,36)",
            "showgrid": false,
            "showline": true,
            "ticks": "outside"
           },
           "bgcolor": "white",
           "caxis": {
            "gridcolor": "rgb(232,232,232)",
            "linecolor": "rgb(36,36,36)",
            "showgrid": false,
            "showline": true,
            "ticks": "outside"
           }
          },
          "title": {
           "x": 0.05
          },
          "xaxis": {
           "automargin": true,
           "gridcolor": "rgb(232,232,232)",
           "linecolor": "rgb(36,36,36)",
           "showgrid": false,
           "showline": true,
           "ticks": "outside",
           "title": {
            "standoff": 15
           },
           "zeroline": false,
           "zerolinecolor": "rgb(36,36,36)"
          },
          "yaxis": {
           "automargin": true,
           "gridcolor": "rgb(232,232,232)",
           "linecolor": "rgb(36,36,36)",
           "showgrid": false,
           "showline": true,
           "ticks": "outside",
           "title": {
            "standoff": 15
           },
           "zeroline": false,
           "zerolinecolor": "rgb(36,36,36)"
          }
         }
        },
        "title": {
         "text": "319_pnni_50"
        },
        "width": 800,
        "xaxis": {
         "anchor": "y",
         "domain": [
          0,
          1
         ],
         "title": {
          "text": "time"
         }
        },
        "yaxis": {
         "anchor": "x",
         "domain": [
          0,
          1
         ],
         "title": {
          "text": "pnni_50"
         }
        }
       }
      },
      "text/html": [
       "<div>\n",
       "        \n",
       "        \n",
       "            <div id=\"9e4011ab-ee41-4176-80d7-ede88e7fe68f\" class=\"plotly-graph-div\" style=\"height:350px; width:800px;\"></div>\n",
       "            <script type=\"text/javascript\">\n",
       "                require([\"plotly\"], function(Plotly) {\n",
       "                    window.PLOTLYENV=window.PLOTLYENV || {};\n",
       "                    \n",
       "                if (document.getElementById(\"9e4011ab-ee41-4176-80d7-ede88e7fe68f\")) {\n",
       "                    Plotly.newPlot(\n",
       "                        '9e4011ab-ee41-4176-80d7-ede88e7fe68f',\n",
       "                        [{\"hovertemplate\": \"time=%{x}<br>pnni_50=%{y}<extra></extra>\", \"legendgroup\": \"\", \"line\": {\"color\": \"#1F77B4\", \"dash\": \"solid\"}, \"mode\": \"markers+lines\", \"name\": \"\", \"orientation\": \"v\", \"showlegend\": false, \"type\": \"scatter\", \"x\": [0.0, 2.0, 4.0, 6.0, 8.0, 10.0, 12.0, 14.0, 16.0, 18.0, 20.0, 22.0, 24.0, 26.0, 28.0, 30.0, 32.0, 34.0, 36.0, 38.0, 40.0, 42.0, 44.0, 46.0, 48.0, 50.0, 52.0, 54.0, 56.0, 58.0, 60.0, 62.0, 64.0, 66.0, 68.0], \"xaxis\": \"x\", \"y\": [29.71014492753623, 22.448979591836736, 15.086206896551724, 8.679245283018869, 12.173913043478262, 22.63157894736842, 15.11111111111111, 5.319148936170213, 8.02919708029197, 13.779527559055119, 19.806763285024154, 11.764705882352942, 7.116104868913857, 16.182572614107883, 17.94871794871795, 7.662835249042145, 7.936507936507937, 22.61904761904762, 47.36842105263158, 59.523809523809526, 42.14876033057851, 41.666666666666664, 59.21052631578947, 50.0, 37.81512605042017, 44.89795918367347, 32.55813953488372, 28.925619834710744, 44.87179487179487, 48.484848484848484, 34.31372549019608, 14.705882352941176, 21.22641509433962, 15.384615384615385, 11.538461538461538], \"yaxis\": \"y\"}],\n",
       "                        {\"height\": 350, \"legend\": {\"tracegroupgap\": 0}, \"template\": {\"data\": {\"bar\": [{\"error_x\": {\"color\": \"rgb(36,36,36)\"}, \"error_y\": {\"color\": \"rgb(36,36,36)\"}, \"marker\": {\"line\": {\"color\": \"white\", \"width\": 0.5}}, \"type\": \"bar\"}], \"barpolar\": [{\"marker\": {\"line\": {\"color\": \"white\", \"width\": 0.5}}, \"type\": \"barpolar\"}], \"carpet\": [{\"aaxis\": {\"endlinecolor\": \"rgb(36,36,36)\", \"gridcolor\": \"white\", \"linecolor\": \"white\", \"minorgridcolor\": \"white\", \"startlinecolor\": \"rgb(36,36,36)\"}, \"baxis\": {\"endlinecolor\": \"rgb(36,36,36)\", \"gridcolor\": \"white\", \"linecolor\": \"white\", \"minorgridcolor\": \"white\", \"startlinecolor\": \"rgb(36,36,36)\"}, \"type\": \"carpet\"}], \"choropleth\": [{\"colorbar\": {\"outlinewidth\": 1, \"tickcolor\": \"rgb(36,36,36)\", \"ticks\": \"outside\"}, \"type\": \"choropleth\"}], \"contour\": [{\"colorbar\": {\"outlinewidth\": 1, \"tickcolor\": \"rgb(36,36,36)\", \"ticks\": \"outside\"}, \"colorscale\": [[0.0, \"#440154\"], [0.1111111111111111, \"#482878\"], [0.2222222222222222, \"#3e4989\"], [0.3333333333333333, \"#31688e\"], [0.4444444444444444, \"#26828e\"], [0.5555555555555556, \"#1f9e89\"], [0.6666666666666666, \"#35b779\"], [0.7777777777777778, \"#6ece58\"], [0.8888888888888888, \"#b5de2b\"], [1.0, \"#fde725\"]], \"type\": \"contour\"}], \"contourcarpet\": [{\"colorbar\": {\"outlinewidth\": 1, \"tickcolor\": \"rgb(36,36,36)\", \"ticks\": \"outside\"}, \"type\": \"contourcarpet\"}], \"heatmap\": [{\"colorbar\": {\"outlinewidth\": 1, \"tickcolor\": \"rgb(36,36,36)\", \"ticks\": \"outside\"}, \"colorscale\": [[0.0, \"#440154\"], [0.1111111111111111, \"#482878\"], [0.2222222222222222, \"#3e4989\"], [0.3333333333333333, \"#31688e\"], [0.4444444444444444, \"#26828e\"], [0.5555555555555556, \"#1f9e89\"], [0.6666666666666666, \"#35b779\"], [0.7777777777777778, \"#6ece58\"], [0.8888888888888888, \"#b5de2b\"], [1.0, \"#fde725\"]], \"type\": \"heatmap\"}], \"heatmapgl\": [{\"colorbar\": {\"outlinewidth\": 1, \"tickcolor\": \"rgb(36,36,36)\", \"ticks\": \"outside\"}, \"colorscale\": [[0.0, \"#440154\"], [0.1111111111111111, \"#482878\"], [0.2222222222222222, \"#3e4989\"], [0.3333333333333333, \"#31688e\"], [0.4444444444444444, \"#26828e\"], [0.5555555555555556, \"#1f9e89\"], [0.6666666666666666, \"#35b779\"], [0.7777777777777778, \"#6ece58\"], [0.8888888888888888, \"#b5de2b\"], [1.0, \"#fde725\"]], \"type\": \"heatmapgl\"}], \"histogram\": [{\"marker\": {\"line\": {\"color\": \"white\", \"width\": 0.6}}, \"type\": \"histogram\"}], \"histogram2d\": [{\"colorbar\": {\"outlinewidth\": 1, \"tickcolor\": \"rgb(36,36,36)\", \"ticks\": \"outside\"}, \"colorscale\": [[0.0, \"#440154\"], [0.1111111111111111, \"#482878\"], [0.2222222222222222, \"#3e4989\"], [0.3333333333333333, \"#31688e\"], [0.4444444444444444, \"#26828e\"], [0.5555555555555556, \"#1f9e89\"], [0.6666666666666666, \"#35b779\"], [0.7777777777777778, \"#6ece58\"], [0.8888888888888888, \"#b5de2b\"], [1.0, \"#fde725\"]], \"type\": \"histogram2d\"}], \"histogram2dcontour\": [{\"colorbar\": {\"outlinewidth\": 1, \"tickcolor\": \"rgb(36,36,36)\", \"ticks\": \"outside\"}, \"colorscale\": [[0.0, \"#440154\"], [0.1111111111111111, \"#482878\"], [0.2222222222222222, \"#3e4989\"], [0.3333333333333333, \"#31688e\"], [0.4444444444444444, \"#26828e\"], [0.5555555555555556, \"#1f9e89\"], [0.6666666666666666, \"#35b779\"], [0.7777777777777778, \"#6ece58\"], [0.8888888888888888, \"#b5de2b\"], [1.0, \"#fde725\"]], \"type\": \"histogram2dcontour\"}], \"mesh3d\": [{\"colorbar\": {\"outlinewidth\": 1, \"tickcolor\": \"rgb(36,36,36)\", \"ticks\": \"outside\"}, \"type\": \"mesh3d\"}], \"parcoords\": [{\"line\": {\"colorbar\": {\"outlinewidth\": 1, \"tickcolor\": \"rgb(36,36,36)\", \"ticks\": \"outside\"}}, \"type\": \"parcoords\"}], \"pie\": [{\"automargin\": true, \"type\": \"pie\"}], \"scatter\": [{\"marker\": {\"colorbar\": {\"outlinewidth\": 1, \"tickcolor\": \"rgb(36,36,36)\", \"ticks\": \"outside\"}}, \"type\": \"scatter\"}], \"scatter3d\": [{\"line\": {\"colorbar\": {\"outlinewidth\": 1, \"tickcolor\": \"rgb(36,36,36)\", \"ticks\": \"outside\"}}, \"marker\": {\"colorbar\": {\"outlinewidth\": 1, \"tickcolor\": \"rgb(36,36,36)\", \"ticks\": \"outside\"}}, \"type\": \"scatter3d\"}], \"scattercarpet\": [{\"marker\": {\"colorbar\": {\"outlinewidth\": 1, \"tickcolor\": \"rgb(36,36,36)\", \"ticks\": \"outside\"}}, \"type\": \"scattercarpet\"}], \"scattergeo\": [{\"marker\": {\"colorbar\": {\"outlinewidth\": 1, \"tickcolor\": \"rgb(36,36,36)\", \"ticks\": \"outside\"}}, \"type\": \"scattergeo\"}], \"scattergl\": [{\"marker\": {\"colorbar\": {\"outlinewidth\": 1, \"tickcolor\": \"rgb(36,36,36)\", \"ticks\": \"outside\"}}, \"type\": \"scattergl\"}], \"scattermapbox\": [{\"marker\": {\"colorbar\": {\"outlinewidth\": 1, \"tickcolor\": \"rgb(36,36,36)\", \"ticks\": \"outside\"}}, \"type\": \"scattermapbox\"}], \"scatterpolar\": [{\"marker\": {\"colorbar\": {\"outlinewidth\": 1, \"tickcolor\": \"rgb(36,36,36)\", \"ticks\": \"outside\"}}, \"type\": \"scatterpolar\"}], \"scatterpolargl\": [{\"marker\": {\"colorbar\": {\"outlinewidth\": 1, \"tickcolor\": \"rgb(36,36,36)\", \"ticks\": \"outside\"}}, \"type\": \"scatterpolargl\"}], \"scatterternary\": [{\"marker\": {\"colorbar\": {\"outlinewidth\": 1, \"tickcolor\": \"rgb(36,36,36)\", \"ticks\": \"outside\"}}, \"type\": \"scatterternary\"}], \"surface\": [{\"colorbar\": {\"outlinewidth\": 1, \"tickcolor\": \"rgb(36,36,36)\", \"ticks\": \"outside\"}, \"colorscale\": [[0.0, \"#440154\"], [0.1111111111111111, \"#482878\"], [0.2222222222222222, \"#3e4989\"], [0.3333333333333333, \"#31688e\"], [0.4444444444444444, \"#26828e\"], [0.5555555555555556, \"#1f9e89\"], [0.6666666666666666, \"#35b779\"], [0.7777777777777778, \"#6ece58\"], [0.8888888888888888, \"#b5de2b\"], [1.0, \"#fde725\"]], \"type\": \"surface\"}], \"table\": [{\"cells\": {\"fill\": {\"color\": \"rgb(237,237,237)\"}, \"line\": {\"color\": \"white\"}}, \"header\": {\"fill\": {\"color\": \"rgb(217,217,217)\"}, \"line\": {\"color\": \"white\"}}, \"type\": \"table\"}]}, \"layout\": {\"annotationdefaults\": {\"arrowhead\": 0, \"arrowwidth\": 1}, \"coloraxis\": {\"colorbar\": {\"outlinewidth\": 1, \"tickcolor\": \"rgb(36,36,36)\", \"ticks\": \"outside\"}}, \"colorscale\": {\"diverging\": [[0.0, \"rgb(103,0,31)\"], [0.1, \"rgb(178,24,43)\"], [0.2, \"rgb(214,96,77)\"], [0.3, \"rgb(244,165,130)\"], [0.4, \"rgb(253,219,199)\"], [0.5, \"rgb(247,247,247)\"], [0.6, \"rgb(209,229,240)\"], [0.7, \"rgb(146,197,222)\"], [0.8, \"rgb(67,147,195)\"], [0.9, \"rgb(33,102,172)\"], [1.0, \"rgb(5,48,97)\"]], \"sequential\": [[0.0, \"#440154\"], [0.1111111111111111, \"#482878\"], [0.2222222222222222, \"#3e4989\"], [0.3333333333333333, \"#31688e\"], [0.4444444444444444, \"#26828e\"], [0.5555555555555556, \"#1f9e89\"], [0.6666666666666666, \"#35b779\"], [0.7777777777777778, \"#6ece58\"], [0.8888888888888888, \"#b5de2b\"], [1.0, \"#fde725\"]], \"sequentialminus\": [[0.0, \"#440154\"], [0.1111111111111111, \"#482878\"], [0.2222222222222222, \"#3e4989\"], [0.3333333333333333, \"#31688e\"], [0.4444444444444444, \"#26828e\"], [0.5555555555555556, \"#1f9e89\"], [0.6666666666666666, \"#35b779\"], [0.7777777777777778, \"#6ece58\"], [0.8888888888888888, \"#b5de2b\"], [1.0, \"#fde725\"]]}, \"colorway\": [\"#1F77B4\", \"#FF7F0E\", \"#2CA02C\", \"#D62728\", \"#9467BD\", \"#8C564B\", \"#E377C2\", \"#7F7F7F\", \"#BCBD22\", \"#17BECF\"], \"font\": {\"color\": \"rgb(36,36,36)\"}, \"geo\": {\"bgcolor\": \"white\", \"lakecolor\": \"white\", \"landcolor\": \"white\", \"showlakes\": true, \"showland\": true, \"subunitcolor\": \"white\"}, \"hoverlabel\": {\"align\": \"left\"}, \"hovermode\": \"closest\", \"mapbox\": {\"style\": \"light\"}, \"paper_bgcolor\": \"white\", \"plot_bgcolor\": \"white\", \"polar\": {\"angularaxis\": {\"gridcolor\": \"rgb(232,232,232)\", \"linecolor\": \"rgb(36,36,36)\", \"showgrid\": false, \"showline\": true, \"ticks\": \"outside\"}, \"bgcolor\": \"white\", \"radialaxis\": {\"gridcolor\": \"rgb(232,232,232)\", \"linecolor\": \"rgb(36,36,36)\", \"showgrid\": false, \"showline\": true, \"ticks\": \"outside\"}}, \"scene\": {\"xaxis\": {\"backgroundcolor\": \"white\", \"gridcolor\": \"rgb(232,232,232)\", \"gridwidth\": 2, \"linecolor\": \"rgb(36,36,36)\", \"showbackground\": true, \"showgrid\": false, \"showline\": true, \"ticks\": \"outside\", \"zeroline\": false, \"zerolinecolor\": \"rgb(36,36,36)\"}, \"yaxis\": {\"backgroundcolor\": \"white\", \"gridcolor\": \"rgb(232,232,232)\", \"gridwidth\": 2, \"linecolor\": \"rgb(36,36,36)\", \"showbackground\": true, \"showgrid\": false, \"showline\": true, \"ticks\": \"outside\", \"zeroline\": false, \"zerolinecolor\": \"rgb(36,36,36)\"}, \"zaxis\": {\"backgroundcolor\": \"white\", \"gridcolor\": \"rgb(232,232,232)\", \"gridwidth\": 2, \"linecolor\": \"rgb(36,36,36)\", \"showbackground\": true, \"showgrid\": false, \"showline\": true, \"ticks\": \"outside\", \"zeroline\": false, \"zerolinecolor\": \"rgb(36,36,36)\"}}, \"shapedefaults\": {\"fillcolor\": \"black\", \"line\": {\"width\": 0}, \"opacity\": 0.3}, \"ternary\": {\"aaxis\": {\"gridcolor\": \"rgb(232,232,232)\", \"linecolor\": \"rgb(36,36,36)\", \"showgrid\": false, \"showline\": true, \"ticks\": \"outside\"}, \"baxis\": {\"gridcolor\": \"rgb(232,232,232)\", \"linecolor\": \"rgb(36,36,36)\", \"showgrid\": false, \"showline\": true, \"ticks\": \"outside\"}, \"bgcolor\": \"white\", \"caxis\": {\"gridcolor\": \"rgb(232,232,232)\", \"linecolor\": \"rgb(36,36,36)\", \"showgrid\": false, \"showline\": true, \"ticks\": \"outside\"}}, \"title\": {\"x\": 0.05}, \"xaxis\": {\"automargin\": true, \"gridcolor\": \"rgb(232,232,232)\", \"linecolor\": \"rgb(36,36,36)\", \"showgrid\": false, \"showline\": true, \"ticks\": \"outside\", \"title\": {\"standoff\": 15}, \"zeroline\": false, \"zerolinecolor\": \"rgb(36,36,36)\"}, \"yaxis\": {\"automargin\": true, \"gridcolor\": \"rgb(232,232,232)\", \"linecolor\": \"rgb(36,36,36)\", \"showgrid\": false, \"showline\": true, \"ticks\": \"outside\", \"title\": {\"standoff\": 15}, \"zeroline\": false, \"zerolinecolor\": \"rgb(36,36,36)\"}}}, \"title\": {\"text\": \"319_pnni_50\"}, \"width\": 800, \"xaxis\": {\"anchor\": \"y\", \"domain\": [0.0, 1.0], \"title\": {\"text\": \"time\"}}, \"yaxis\": {\"anchor\": \"x\", \"domain\": [0.0, 1.0], \"title\": {\"text\": \"pnni_50\"}}},\n",
       "                        {\"responsive\": true}\n",
       "                    ).then(function(){\n",
       "                            \n",
       "var gd = document.getElementById('9e4011ab-ee41-4176-80d7-ede88e7fe68f');\n",
       "var x = new MutationObserver(function (mutations, observer) {{\n",
       "        var display = window.getComputedStyle(gd).display;\n",
       "        if (!display || display === 'none') {{\n",
       "            console.log([gd, 'removed!']);\n",
       "            Plotly.purge(gd);\n",
       "            observer.disconnect();\n",
       "        }}\n",
       "}});\n",
       "\n",
       "// Listen for the removal of the full notebook cells\n",
       "var notebookContainer = gd.closest('#notebook-container');\n",
       "if (notebookContainer) {{\n",
       "    x.observe(notebookContainer, {childList: true});\n",
       "}}\n",
       "\n",
       "// Listen for the clearing of the current output cell\n",
       "var outputEl = gd.closest('.output');\n",
       "if (outputEl) {{\n",
       "    x.observe(outputEl, {childList: true});\n",
       "}}\n",
       "\n",
       "                        })\n",
       "                };\n",
       "                });\n",
       "            </script>\n",
       "        </div>"
      ]
     },
     "metadata": {},
     "output_type": "display_data"
    }
   ],
   "source": [
    "plot_hrv_feature('319',timedomain_features,'pnni_50')\n",
    "# change [ subject_number, hrv_domain_type ('timedomain_features'/'frequencydomain_features', feature name ]to plot"
   ]
  },
  {
   "cell_type": "code",
   "execution_count": 327,
   "metadata": {},
   "outputs": [],
   "source": [
    "def plot_hrv_all(domain,feature):\n",
    "    concated_list = []\n",
    "    for subject in sublist:\n",
    "        dataframe = data_to_plot(subject,domain,feature)\n",
    "        dataframe['normalized_' +feature] = dataframe[feature]/(60000/bpm[subject])\n",
    "        # normalized each subject's hrv feature value \n",
    "        concated_list.append(dataframe)\n",
    "        \n",
    "    dataframe_all = pd.concat(concated_list, axis=0)\n",
    "    df = dataframe_all.groupby('time')['normalized_'+feature].mean().reset_index()\n",
    "    fig = px.line(df, x=\"time\", y='normalized_'+feature, title= feature,width=800, height=350, template='simple_white')\n",
    "    fig.update_traces(mode='markers+lines')\n",
    "    fig.show()\n",
    "    "
   ]
  },
  {
   "cell_type": "code",
   "execution_count": 328,
   "metadata": {
    "scrolled": false
   },
   "outputs": [
    {
     "data": {
      "application/vnd.plotly.v1+json": {
       "config": {
        "plotlyServerURL": "https://plot.ly"
       },
       "data": [
        {
         "hovertemplate": "time=%{x}<br>normalized_pnni_50=%{y}<extra></extra>",
         "legendgroup": "",
         "line": {
          "color": "#1F77B4",
          "dash": "solid"
         },
         "mode": "markers+lines",
         "name": "",
         "orientation": "v",
         "showlegend": false,
         "type": "scatter",
         "x": [
          0,
          2,
          4,
          6,
          8,
          10,
          12,
          14,
          16,
          18,
          20,
          22,
          24,
          26,
          28,
          30,
          32,
          34,
          36,
          38,
          40,
          42,
          44,
          46,
          48,
          50,
          52,
          54,
          56,
          58,
          60,
          62,
          64,
          66,
          68
         ],
         "xaxis": "x",
         "y": [
          0.020823905058559855,
          0.021487519858221234,
          0.017360806805081667,
          0.016398705991398612,
          0.019511134897875593,
          0.022562603498362484,
          0.024525511454539912,
          0.022315739088625337,
          0.021972701459796774,
          0.022984486046957506,
          0.021876812174029096,
          0.023000112288357206,
          0.02479041160415161,
          0.025002345829927847,
          0.026054651471533404,
          0.026185867552302178,
          0.02811259293253419,
          0.03036781490572042,
          0.03494848534677901,
          0.04003190843266869,
          0.042166813864508726,
          0.04020642797394322,
          0.04272257325584081,
          0.041184009472303024,
          0.04234840568818589,
          0.043078797061197695,
          0.042385329943999496,
          0.04026542924677833,
          0.038910655452324895,
          0.03858103376230775,
          0.04270283831597992,
          0.039046072950865984,
          0.03702020639522817,
          0.04181107671770839,
          0.04588008519804397
         ],
         "yaxis": "y"
        }
       ],
       "layout": {
        "height": 350,
        "legend": {
         "tracegroupgap": 0
        },
        "template": {
         "data": {
          "bar": [
           {
            "error_x": {
             "color": "rgb(36,36,36)"
            },
            "error_y": {
             "color": "rgb(36,36,36)"
            },
            "marker": {
             "line": {
              "color": "white",
              "width": 0.5
             }
            },
            "type": "bar"
           }
          ],
          "barpolar": [
           {
            "marker": {
             "line": {
              "color": "white",
              "width": 0.5
             }
            },
            "type": "barpolar"
           }
          ],
          "carpet": [
           {
            "aaxis": {
             "endlinecolor": "rgb(36,36,36)",
             "gridcolor": "white",
             "linecolor": "white",
             "minorgridcolor": "white",
             "startlinecolor": "rgb(36,36,36)"
            },
            "baxis": {
             "endlinecolor": "rgb(36,36,36)",
             "gridcolor": "white",
             "linecolor": "white",
             "minorgridcolor": "white",
             "startlinecolor": "rgb(36,36,36)"
            },
            "type": "carpet"
           }
          ],
          "choropleth": [
           {
            "colorbar": {
             "outlinewidth": 1,
             "tickcolor": "rgb(36,36,36)",
             "ticks": "outside"
            },
            "type": "choropleth"
           }
          ],
          "contour": [
           {
            "colorbar": {
             "outlinewidth": 1,
             "tickcolor": "rgb(36,36,36)",
             "ticks": "outside"
            },
            "colorscale": [
             [
              0,
              "#440154"
             ],
             [
              0.1111111111111111,
              "#482878"
             ],
             [
              0.2222222222222222,
              "#3e4989"
             ],
             [
              0.3333333333333333,
              "#31688e"
             ],
             [
              0.4444444444444444,
              "#26828e"
             ],
             [
              0.5555555555555556,
              "#1f9e89"
             ],
             [
              0.6666666666666666,
              "#35b779"
             ],
             [
              0.7777777777777778,
              "#6ece58"
             ],
             [
              0.8888888888888888,
              "#b5de2b"
             ],
             [
              1,
              "#fde725"
             ]
            ],
            "type": "contour"
           }
          ],
          "contourcarpet": [
           {
            "colorbar": {
             "outlinewidth": 1,
             "tickcolor": "rgb(36,36,36)",
             "ticks": "outside"
            },
            "type": "contourcarpet"
           }
          ],
          "heatmap": [
           {
            "colorbar": {
             "outlinewidth": 1,
             "tickcolor": "rgb(36,36,36)",
             "ticks": "outside"
            },
            "colorscale": [
             [
              0,
              "#440154"
             ],
             [
              0.1111111111111111,
              "#482878"
             ],
             [
              0.2222222222222222,
              "#3e4989"
             ],
             [
              0.3333333333333333,
              "#31688e"
             ],
             [
              0.4444444444444444,
              "#26828e"
             ],
             [
              0.5555555555555556,
              "#1f9e89"
             ],
             [
              0.6666666666666666,
              "#35b779"
             ],
             [
              0.7777777777777778,
              "#6ece58"
             ],
             [
              0.8888888888888888,
              "#b5de2b"
             ],
             [
              1,
              "#fde725"
             ]
            ],
            "type": "heatmap"
           }
          ],
          "heatmapgl": [
           {
            "colorbar": {
             "outlinewidth": 1,
             "tickcolor": "rgb(36,36,36)",
             "ticks": "outside"
            },
            "colorscale": [
             [
              0,
              "#440154"
             ],
             [
              0.1111111111111111,
              "#482878"
             ],
             [
              0.2222222222222222,
              "#3e4989"
             ],
             [
              0.3333333333333333,
              "#31688e"
             ],
             [
              0.4444444444444444,
              "#26828e"
             ],
             [
              0.5555555555555556,
              "#1f9e89"
             ],
             [
              0.6666666666666666,
              "#35b779"
             ],
             [
              0.7777777777777778,
              "#6ece58"
             ],
             [
              0.8888888888888888,
              "#b5de2b"
             ],
             [
              1,
              "#fde725"
             ]
            ],
            "type": "heatmapgl"
           }
          ],
          "histogram": [
           {
            "marker": {
             "line": {
              "color": "white",
              "width": 0.6
             }
            },
            "type": "histogram"
           }
          ],
          "histogram2d": [
           {
            "colorbar": {
             "outlinewidth": 1,
             "tickcolor": "rgb(36,36,36)",
             "ticks": "outside"
            },
            "colorscale": [
             [
              0,
              "#440154"
             ],
             [
              0.1111111111111111,
              "#482878"
             ],
             [
              0.2222222222222222,
              "#3e4989"
             ],
             [
              0.3333333333333333,
              "#31688e"
             ],
             [
              0.4444444444444444,
              "#26828e"
             ],
             [
              0.5555555555555556,
              "#1f9e89"
             ],
             [
              0.6666666666666666,
              "#35b779"
             ],
             [
              0.7777777777777778,
              "#6ece58"
             ],
             [
              0.8888888888888888,
              "#b5de2b"
             ],
             [
              1,
              "#fde725"
             ]
            ],
            "type": "histogram2d"
           }
          ],
          "histogram2dcontour": [
           {
            "colorbar": {
             "outlinewidth": 1,
             "tickcolor": "rgb(36,36,36)",
             "ticks": "outside"
            },
            "colorscale": [
             [
              0,
              "#440154"
             ],
             [
              0.1111111111111111,
              "#482878"
             ],
             [
              0.2222222222222222,
              "#3e4989"
             ],
             [
              0.3333333333333333,
              "#31688e"
             ],
             [
              0.4444444444444444,
              "#26828e"
             ],
             [
              0.5555555555555556,
              "#1f9e89"
             ],
             [
              0.6666666666666666,
              "#35b779"
             ],
             [
              0.7777777777777778,
              "#6ece58"
             ],
             [
              0.8888888888888888,
              "#b5de2b"
             ],
             [
              1,
              "#fde725"
             ]
            ],
            "type": "histogram2dcontour"
           }
          ],
          "mesh3d": [
           {
            "colorbar": {
             "outlinewidth": 1,
             "tickcolor": "rgb(36,36,36)",
             "ticks": "outside"
            },
            "type": "mesh3d"
           }
          ],
          "parcoords": [
           {
            "line": {
             "colorbar": {
              "outlinewidth": 1,
              "tickcolor": "rgb(36,36,36)",
              "ticks": "outside"
             }
            },
            "type": "parcoords"
           }
          ],
          "pie": [
           {
            "automargin": true,
            "type": "pie"
           }
          ],
          "scatter": [
           {
            "marker": {
             "colorbar": {
              "outlinewidth": 1,
              "tickcolor": "rgb(36,36,36)",
              "ticks": "outside"
             }
            },
            "type": "scatter"
           }
          ],
          "scatter3d": [
           {
            "line": {
             "colorbar": {
              "outlinewidth": 1,
              "tickcolor": "rgb(36,36,36)",
              "ticks": "outside"
             }
            },
            "marker": {
             "colorbar": {
              "outlinewidth": 1,
              "tickcolor": "rgb(36,36,36)",
              "ticks": "outside"
             }
            },
            "type": "scatter3d"
           }
          ],
          "scattercarpet": [
           {
            "marker": {
             "colorbar": {
              "outlinewidth": 1,
              "tickcolor": "rgb(36,36,36)",
              "ticks": "outside"
             }
            },
            "type": "scattercarpet"
           }
          ],
          "scattergeo": [
           {
            "marker": {
             "colorbar": {
              "outlinewidth": 1,
              "tickcolor": "rgb(36,36,36)",
              "ticks": "outside"
             }
            },
            "type": "scattergeo"
           }
          ],
          "scattergl": [
           {
            "marker": {
             "colorbar": {
              "outlinewidth": 1,
              "tickcolor": "rgb(36,36,36)",
              "ticks": "outside"
             }
            },
            "type": "scattergl"
           }
          ],
          "scattermapbox": [
           {
            "marker": {
             "colorbar": {
              "outlinewidth": 1,
              "tickcolor": "rgb(36,36,36)",
              "ticks": "outside"
             }
            },
            "type": "scattermapbox"
           }
          ],
          "scatterpolar": [
           {
            "marker": {
             "colorbar": {
              "outlinewidth": 1,
              "tickcolor": "rgb(36,36,36)",
              "ticks": "outside"
             }
            },
            "type": "scatterpolar"
           }
          ],
          "scatterpolargl": [
           {
            "marker": {
             "colorbar": {
              "outlinewidth": 1,
              "tickcolor": "rgb(36,36,36)",
              "ticks": "outside"
             }
            },
            "type": "scatterpolargl"
           }
          ],
          "scatterternary": [
           {
            "marker": {
             "colorbar": {
              "outlinewidth": 1,
              "tickcolor": "rgb(36,36,36)",
              "ticks": "outside"
             }
            },
            "type": "scatterternary"
           }
          ],
          "surface": [
           {
            "colorbar": {
             "outlinewidth": 1,
             "tickcolor": "rgb(36,36,36)",
             "ticks": "outside"
            },
            "colorscale": [
             [
              0,
              "#440154"
             ],
             [
              0.1111111111111111,
              "#482878"
             ],
             [
              0.2222222222222222,
              "#3e4989"
             ],
             [
              0.3333333333333333,
              "#31688e"
             ],
             [
              0.4444444444444444,
              "#26828e"
             ],
             [
              0.5555555555555556,
              "#1f9e89"
             ],
             [
              0.6666666666666666,
              "#35b779"
             ],
             [
              0.7777777777777778,
              "#6ece58"
             ],
             [
              0.8888888888888888,
              "#b5de2b"
             ],
             [
              1,
              "#fde725"
             ]
            ],
            "type": "surface"
           }
          ],
          "table": [
           {
            "cells": {
             "fill": {
              "color": "rgb(237,237,237)"
             },
             "line": {
              "color": "white"
             }
            },
            "header": {
             "fill": {
              "color": "rgb(217,217,217)"
             },
             "line": {
              "color": "white"
             }
            },
            "type": "table"
           }
          ]
         },
         "layout": {
          "annotationdefaults": {
           "arrowhead": 0,
           "arrowwidth": 1
          },
          "coloraxis": {
           "colorbar": {
            "outlinewidth": 1,
            "tickcolor": "rgb(36,36,36)",
            "ticks": "outside"
           }
          },
          "colorscale": {
           "diverging": [
            [
             0,
             "rgb(103,0,31)"
            ],
            [
             0.1,
             "rgb(178,24,43)"
            ],
            [
             0.2,
             "rgb(214,96,77)"
            ],
            [
             0.3,
             "rgb(244,165,130)"
            ],
            [
             0.4,
             "rgb(253,219,199)"
            ],
            [
             0.5,
             "rgb(247,247,247)"
            ],
            [
             0.6,
             "rgb(209,229,240)"
            ],
            [
             0.7,
             "rgb(146,197,222)"
            ],
            [
             0.8,
             "rgb(67,147,195)"
            ],
            [
             0.9,
             "rgb(33,102,172)"
            ],
            [
             1,
             "rgb(5,48,97)"
            ]
           ],
           "sequential": [
            [
             0,
             "#440154"
            ],
            [
             0.1111111111111111,
             "#482878"
            ],
            [
             0.2222222222222222,
             "#3e4989"
            ],
            [
             0.3333333333333333,
             "#31688e"
            ],
            [
             0.4444444444444444,
             "#26828e"
            ],
            [
             0.5555555555555556,
             "#1f9e89"
            ],
            [
             0.6666666666666666,
             "#35b779"
            ],
            [
             0.7777777777777778,
             "#6ece58"
            ],
            [
             0.8888888888888888,
             "#b5de2b"
            ],
            [
             1,
             "#fde725"
            ]
           ],
           "sequentialminus": [
            [
             0,
             "#440154"
            ],
            [
             0.1111111111111111,
             "#482878"
            ],
            [
             0.2222222222222222,
             "#3e4989"
            ],
            [
             0.3333333333333333,
             "#31688e"
            ],
            [
             0.4444444444444444,
             "#26828e"
            ],
            [
             0.5555555555555556,
             "#1f9e89"
            ],
            [
             0.6666666666666666,
             "#35b779"
            ],
            [
             0.7777777777777778,
             "#6ece58"
            ],
            [
             0.8888888888888888,
             "#b5de2b"
            ],
            [
             1,
             "#fde725"
            ]
           ]
          },
          "colorway": [
           "#1F77B4",
           "#FF7F0E",
           "#2CA02C",
           "#D62728",
           "#9467BD",
           "#8C564B",
           "#E377C2",
           "#7F7F7F",
           "#BCBD22",
           "#17BECF"
          ],
          "font": {
           "color": "rgb(36,36,36)"
          },
          "geo": {
           "bgcolor": "white",
           "lakecolor": "white",
           "landcolor": "white",
           "showlakes": true,
           "showland": true,
           "subunitcolor": "white"
          },
          "hoverlabel": {
           "align": "left"
          },
          "hovermode": "closest",
          "mapbox": {
           "style": "light"
          },
          "paper_bgcolor": "white",
          "plot_bgcolor": "white",
          "polar": {
           "angularaxis": {
            "gridcolor": "rgb(232,232,232)",
            "linecolor": "rgb(36,36,36)",
            "showgrid": false,
            "showline": true,
            "ticks": "outside"
           },
           "bgcolor": "white",
           "radialaxis": {
            "gridcolor": "rgb(232,232,232)",
            "linecolor": "rgb(36,36,36)",
            "showgrid": false,
            "showline": true,
            "ticks": "outside"
           }
          },
          "scene": {
           "xaxis": {
            "backgroundcolor": "white",
            "gridcolor": "rgb(232,232,232)",
            "gridwidth": 2,
            "linecolor": "rgb(36,36,36)",
            "showbackground": true,
            "showgrid": false,
            "showline": true,
            "ticks": "outside",
            "zeroline": false,
            "zerolinecolor": "rgb(36,36,36)"
           },
           "yaxis": {
            "backgroundcolor": "white",
            "gridcolor": "rgb(232,232,232)",
            "gridwidth": 2,
            "linecolor": "rgb(36,36,36)",
            "showbackground": true,
            "showgrid": false,
            "showline": true,
            "ticks": "outside",
            "zeroline": false,
            "zerolinecolor": "rgb(36,36,36)"
           },
           "zaxis": {
            "backgroundcolor": "white",
            "gridcolor": "rgb(232,232,232)",
            "gridwidth": 2,
            "linecolor": "rgb(36,36,36)",
            "showbackground": true,
            "showgrid": false,
            "showline": true,
            "ticks": "outside",
            "zeroline": false,
            "zerolinecolor": "rgb(36,36,36)"
           }
          },
          "shapedefaults": {
           "fillcolor": "black",
           "line": {
            "width": 0
           },
           "opacity": 0.3
          },
          "ternary": {
           "aaxis": {
            "gridcolor": "rgb(232,232,232)",
            "linecolor": "rgb(36,36,36)",
            "showgrid": false,
            "showline": true,
            "ticks": "outside"
           },
           "baxis": {
            "gridcolor": "rgb(232,232,232)",
            "linecolor": "rgb(36,36,36)",
            "showgrid": false,
            "showline": true,
            "ticks": "outside"
           },
           "bgcolor": "white",
           "caxis": {
            "gridcolor": "rgb(232,232,232)",
            "linecolor": "rgb(36,36,36)",
            "showgrid": false,
            "showline": true,
            "ticks": "outside"
           }
          },
          "title": {
           "x": 0.05
          },
          "xaxis": {
           "automargin": true,
           "gridcolor": "rgb(232,232,232)",
           "linecolor": "rgb(36,36,36)",
           "showgrid": false,
           "showline": true,
           "ticks": "outside",
           "title": {
            "standoff": 15
           },
           "zeroline": false,
           "zerolinecolor": "rgb(36,36,36)"
          },
          "yaxis": {
           "automargin": true,
           "gridcolor": "rgb(232,232,232)",
           "linecolor": "rgb(36,36,36)",
           "showgrid": false,
           "showline": true,
           "ticks": "outside",
           "title": {
            "standoff": 15
           },
           "zeroline": false,
           "zerolinecolor": "rgb(36,36,36)"
          }
         }
        },
        "title": {
         "text": "pnni_50"
        },
        "width": 800,
        "xaxis": {
         "anchor": "y",
         "domain": [
          0,
          1
         ],
         "title": {
          "text": "time"
         }
        },
        "yaxis": {
         "anchor": "x",
         "domain": [
          0,
          1
         ],
         "title": {
          "text": "normalized_pnni_50"
         }
        }
       }
      },
      "text/html": [
       "<div>\n",
       "        \n",
       "        \n",
       "            <div id=\"8fc609e5-8450-4acc-813a-8284c1451095\" class=\"plotly-graph-div\" style=\"height:350px; width:800px;\"></div>\n",
       "            <script type=\"text/javascript\">\n",
       "                require([\"plotly\"], function(Plotly) {\n",
       "                    window.PLOTLYENV=window.PLOTLYENV || {};\n",
       "                    \n",
       "                if (document.getElementById(\"8fc609e5-8450-4acc-813a-8284c1451095\")) {\n",
       "                    Plotly.newPlot(\n",
       "                        '8fc609e5-8450-4acc-813a-8284c1451095',\n",
       "                        [{\"hovertemplate\": \"time=%{x}<br>normalized_pnni_50=%{y}<extra></extra>\", \"legendgroup\": \"\", \"line\": {\"color\": \"#1F77B4\", \"dash\": \"solid\"}, \"mode\": \"markers+lines\", \"name\": \"\", \"orientation\": \"v\", \"showlegend\": false, \"type\": \"scatter\", \"x\": [0.0, 2.0, 4.0, 6.0, 8.0, 10.0, 12.0, 14.0, 16.0, 18.0, 20.0, 22.0, 24.0, 26.0, 28.0, 30.0, 32.0, 34.0, 36.0, 38.0, 40.0, 42.0, 44.0, 46.0, 48.0, 50.0, 52.0, 54.0, 56.0, 58.0, 60.0, 62.0, 64.0, 66.0, 68.0], \"xaxis\": \"x\", \"y\": [0.020823905058559855, 0.021487519858221234, 0.017360806805081667, 0.016398705991398612, 0.019511134897875593, 0.022562603498362484, 0.024525511454539912, 0.022315739088625337, 0.021972701459796774, 0.022984486046957506, 0.021876812174029096, 0.023000112288357206, 0.02479041160415161, 0.025002345829927847, 0.026054651471533404, 0.026185867552302178, 0.02811259293253419, 0.03036781490572042, 0.03494848534677901, 0.04003190843266869, 0.042166813864508726, 0.04020642797394322, 0.04272257325584081, 0.041184009472303024, 0.04234840568818589, 0.043078797061197695, 0.042385329943999496, 0.04026542924677833, 0.038910655452324895, 0.03858103376230775, 0.04270283831597992, 0.039046072950865984, 0.03702020639522817, 0.04181107671770839, 0.04588008519804397], \"yaxis\": \"y\"}],\n",
       "                        {\"height\": 350, \"legend\": {\"tracegroupgap\": 0}, \"template\": {\"data\": {\"bar\": [{\"error_x\": {\"color\": \"rgb(36,36,36)\"}, \"error_y\": {\"color\": \"rgb(36,36,36)\"}, \"marker\": {\"line\": {\"color\": \"white\", \"width\": 0.5}}, \"type\": \"bar\"}], \"barpolar\": [{\"marker\": {\"line\": {\"color\": \"white\", \"width\": 0.5}}, \"type\": \"barpolar\"}], \"carpet\": [{\"aaxis\": {\"endlinecolor\": \"rgb(36,36,36)\", \"gridcolor\": \"white\", \"linecolor\": \"white\", \"minorgridcolor\": \"white\", \"startlinecolor\": \"rgb(36,36,36)\"}, \"baxis\": {\"endlinecolor\": \"rgb(36,36,36)\", \"gridcolor\": \"white\", \"linecolor\": \"white\", \"minorgridcolor\": \"white\", \"startlinecolor\": \"rgb(36,36,36)\"}, \"type\": \"carpet\"}], \"choropleth\": [{\"colorbar\": {\"outlinewidth\": 1, \"tickcolor\": \"rgb(36,36,36)\", \"ticks\": \"outside\"}, \"type\": \"choropleth\"}], \"contour\": [{\"colorbar\": {\"outlinewidth\": 1, \"tickcolor\": \"rgb(36,36,36)\", \"ticks\": \"outside\"}, \"colorscale\": [[0.0, \"#440154\"], [0.1111111111111111, \"#482878\"], [0.2222222222222222, \"#3e4989\"], [0.3333333333333333, \"#31688e\"], [0.4444444444444444, \"#26828e\"], [0.5555555555555556, \"#1f9e89\"], [0.6666666666666666, \"#35b779\"], [0.7777777777777778, \"#6ece58\"], [0.8888888888888888, \"#b5de2b\"], [1.0, \"#fde725\"]], \"type\": \"contour\"}], \"contourcarpet\": [{\"colorbar\": {\"outlinewidth\": 1, \"tickcolor\": \"rgb(36,36,36)\", \"ticks\": \"outside\"}, \"type\": \"contourcarpet\"}], \"heatmap\": [{\"colorbar\": {\"outlinewidth\": 1, \"tickcolor\": \"rgb(36,36,36)\", \"ticks\": \"outside\"}, \"colorscale\": [[0.0, \"#440154\"], [0.1111111111111111, \"#482878\"], [0.2222222222222222, \"#3e4989\"], [0.3333333333333333, \"#31688e\"], [0.4444444444444444, \"#26828e\"], [0.5555555555555556, \"#1f9e89\"], [0.6666666666666666, \"#35b779\"], [0.7777777777777778, \"#6ece58\"], [0.8888888888888888, \"#b5de2b\"], [1.0, \"#fde725\"]], \"type\": \"heatmap\"}], \"heatmapgl\": [{\"colorbar\": {\"outlinewidth\": 1, \"tickcolor\": \"rgb(36,36,36)\", \"ticks\": \"outside\"}, \"colorscale\": [[0.0, \"#440154\"], [0.1111111111111111, \"#482878\"], [0.2222222222222222, \"#3e4989\"], [0.3333333333333333, \"#31688e\"], [0.4444444444444444, \"#26828e\"], [0.5555555555555556, \"#1f9e89\"], [0.6666666666666666, \"#35b779\"], [0.7777777777777778, \"#6ece58\"], [0.8888888888888888, \"#b5de2b\"], [1.0, \"#fde725\"]], \"type\": \"heatmapgl\"}], \"histogram\": [{\"marker\": {\"line\": {\"color\": \"white\", \"width\": 0.6}}, \"type\": \"histogram\"}], \"histogram2d\": [{\"colorbar\": {\"outlinewidth\": 1, \"tickcolor\": \"rgb(36,36,36)\", \"ticks\": \"outside\"}, \"colorscale\": [[0.0, \"#440154\"], [0.1111111111111111, \"#482878\"], [0.2222222222222222, \"#3e4989\"], [0.3333333333333333, \"#31688e\"], [0.4444444444444444, \"#26828e\"], [0.5555555555555556, \"#1f9e89\"], [0.6666666666666666, \"#35b779\"], [0.7777777777777778, \"#6ece58\"], [0.8888888888888888, \"#b5de2b\"], [1.0, \"#fde725\"]], \"type\": \"histogram2d\"}], \"histogram2dcontour\": [{\"colorbar\": {\"outlinewidth\": 1, \"tickcolor\": \"rgb(36,36,36)\", \"ticks\": \"outside\"}, \"colorscale\": [[0.0, \"#440154\"], [0.1111111111111111, \"#482878\"], [0.2222222222222222, \"#3e4989\"], [0.3333333333333333, \"#31688e\"], [0.4444444444444444, \"#26828e\"], [0.5555555555555556, \"#1f9e89\"], [0.6666666666666666, \"#35b779\"], [0.7777777777777778, \"#6ece58\"], [0.8888888888888888, \"#b5de2b\"], [1.0, \"#fde725\"]], \"type\": \"histogram2dcontour\"}], \"mesh3d\": [{\"colorbar\": {\"outlinewidth\": 1, \"tickcolor\": \"rgb(36,36,36)\", \"ticks\": \"outside\"}, \"type\": \"mesh3d\"}], \"parcoords\": [{\"line\": {\"colorbar\": {\"outlinewidth\": 1, \"tickcolor\": \"rgb(36,36,36)\", \"ticks\": \"outside\"}}, \"type\": \"parcoords\"}], \"pie\": [{\"automargin\": true, \"type\": \"pie\"}], \"scatter\": [{\"marker\": {\"colorbar\": {\"outlinewidth\": 1, \"tickcolor\": \"rgb(36,36,36)\", \"ticks\": \"outside\"}}, \"type\": \"scatter\"}], \"scatter3d\": [{\"line\": {\"colorbar\": {\"outlinewidth\": 1, \"tickcolor\": \"rgb(36,36,36)\", \"ticks\": \"outside\"}}, \"marker\": {\"colorbar\": {\"outlinewidth\": 1, \"tickcolor\": \"rgb(36,36,36)\", \"ticks\": \"outside\"}}, \"type\": \"scatter3d\"}], \"scattercarpet\": [{\"marker\": {\"colorbar\": {\"outlinewidth\": 1, \"tickcolor\": \"rgb(36,36,36)\", \"ticks\": \"outside\"}}, \"type\": \"scattercarpet\"}], \"scattergeo\": [{\"marker\": {\"colorbar\": {\"outlinewidth\": 1, \"tickcolor\": \"rgb(36,36,36)\", \"ticks\": \"outside\"}}, \"type\": \"scattergeo\"}], \"scattergl\": [{\"marker\": {\"colorbar\": {\"outlinewidth\": 1, \"tickcolor\": \"rgb(36,36,36)\", \"ticks\": \"outside\"}}, \"type\": \"scattergl\"}], \"scattermapbox\": [{\"marker\": {\"colorbar\": {\"outlinewidth\": 1, \"tickcolor\": \"rgb(36,36,36)\", \"ticks\": \"outside\"}}, \"type\": \"scattermapbox\"}], \"scatterpolar\": [{\"marker\": {\"colorbar\": {\"outlinewidth\": 1, \"tickcolor\": \"rgb(36,36,36)\", \"ticks\": \"outside\"}}, \"type\": \"scatterpolar\"}], \"scatterpolargl\": [{\"marker\": {\"colorbar\": {\"outlinewidth\": 1, \"tickcolor\": \"rgb(36,36,36)\", \"ticks\": \"outside\"}}, \"type\": \"scatterpolargl\"}], \"scatterternary\": [{\"marker\": {\"colorbar\": {\"outlinewidth\": 1, \"tickcolor\": \"rgb(36,36,36)\", \"ticks\": \"outside\"}}, \"type\": \"scatterternary\"}], \"surface\": [{\"colorbar\": {\"outlinewidth\": 1, \"tickcolor\": \"rgb(36,36,36)\", \"ticks\": \"outside\"}, \"colorscale\": [[0.0, \"#440154\"], [0.1111111111111111, \"#482878\"], [0.2222222222222222, \"#3e4989\"], [0.3333333333333333, \"#31688e\"], [0.4444444444444444, \"#26828e\"], [0.5555555555555556, \"#1f9e89\"], [0.6666666666666666, \"#35b779\"], [0.7777777777777778, \"#6ece58\"], [0.8888888888888888, \"#b5de2b\"], [1.0, \"#fde725\"]], \"type\": \"surface\"}], \"table\": [{\"cells\": {\"fill\": {\"color\": \"rgb(237,237,237)\"}, \"line\": {\"color\": \"white\"}}, \"header\": {\"fill\": {\"color\": \"rgb(217,217,217)\"}, \"line\": {\"color\": \"white\"}}, \"type\": \"table\"}]}, \"layout\": {\"annotationdefaults\": {\"arrowhead\": 0, \"arrowwidth\": 1}, \"coloraxis\": {\"colorbar\": {\"outlinewidth\": 1, \"tickcolor\": \"rgb(36,36,36)\", \"ticks\": \"outside\"}}, \"colorscale\": {\"diverging\": [[0.0, \"rgb(103,0,31)\"], [0.1, \"rgb(178,24,43)\"], [0.2, \"rgb(214,96,77)\"], [0.3, \"rgb(244,165,130)\"], [0.4, \"rgb(253,219,199)\"], [0.5, \"rgb(247,247,247)\"], [0.6, \"rgb(209,229,240)\"], [0.7, \"rgb(146,197,222)\"], [0.8, \"rgb(67,147,195)\"], [0.9, \"rgb(33,102,172)\"], [1.0, \"rgb(5,48,97)\"]], \"sequential\": [[0.0, \"#440154\"], [0.1111111111111111, \"#482878\"], [0.2222222222222222, \"#3e4989\"], [0.3333333333333333, \"#31688e\"], [0.4444444444444444, \"#26828e\"], [0.5555555555555556, \"#1f9e89\"], [0.6666666666666666, \"#35b779\"], [0.7777777777777778, \"#6ece58\"], [0.8888888888888888, \"#b5de2b\"], [1.0, \"#fde725\"]], \"sequentialminus\": [[0.0, \"#440154\"], [0.1111111111111111, \"#482878\"], [0.2222222222222222, \"#3e4989\"], [0.3333333333333333, \"#31688e\"], [0.4444444444444444, \"#26828e\"], [0.5555555555555556, \"#1f9e89\"], [0.6666666666666666, \"#35b779\"], [0.7777777777777778, \"#6ece58\"], [0.8888888888888888, \"#b5de2b\"], [1.0, \"#fde725\"]]}, \"colorway\": [\"#1F77B4\", \"#FF7F0E\", \"#2CA02C\", \"#D62728\", \"#9467BD\", \"#8C564B\", \"#E377C2\", \"#7F7F7F\", \"#BCBD22\", \"#17BECF\"], \"font\": {\"color\": \"rgb(36,36,36)\"}, \"geo\": {\"bgcolor\": \"white\", \"lakecolor\": \"white\", \"landcolor\": \"white\", \"showlakes\": true, \"showland\": true, \"subunitcolor\": \"white\"}, \"hoverlabel\": {\"align\": \"left\"}, \"hovermode\": \"closest\", \"mapbox\": {\"style\": \"light\"}, \"paper_bgcolor\": \"white\", \"plot_bgcolor\": \"white\", \"polar\": {\"angularaxis\": {\"gridcolor\": \"rgb(232,232,232)\", \"linecolor\": \"rgb(36,36,36)\", \"showgrid\": false, \"showline\": true, \"ticks\": \"outside\"}, \"bgcolor\": \"white\", \"radialaxis\": {\"gridcolor\": \"rgb(232,232,232)\", \"linecolor\": \"rgb(36,36,36)\", \"showgrid\": false, \"showline\": true, \"ticks\": \"outside\"}}, \"scene\": {\"xaxis\": {\"backgroundcolor\": \"white\", \"gridcolor\": \"rgb(232,232,232)\", \"gridwidth\": 2, \"linecolor\": \"rgb(36,36,36)\", \"showbackground\": true, \"showgrid\": false, \"showline\": true, \"ticks\": \"outside\", \"zeroline\": false, \"zerolinecolor\": \"rgb(36,36,36)\"}, \"yaxis\": {\"backgroundcolor\": \"white\", \"gridcolor\": \"rgb(232,232,232)\", \"gridwidth\": 2, \"linecolor\": \"rgb(36,36,36)\", \"showbackground\": true, \"showgrid\": false, \"showline\": true, \"ticks\": \"outside\", \"zeroline\": false, \"zerolinecolor\": \"rgb(36,36,36)\"}, \"zaxis\": {\"backgroundcolor\": \"white\", \"gridcolor\": \"rgb(232,232,232)\", \"gridwidth\": 2, \"linecolor\": \"rgb(36,36,36)\", \"showbackground\": true, \"showgrid\": false, \"showline\": true, \"ticks\": \"outside\", \"zeroline\": false, \"zerolinecolor\": \"rgb(36,36,36)\"}}, \"shapedefaults\": {\"fillcolor\": \"black\", \"line\": {\"width\": 0}, \"opacity\": 0.3}, \"ternary\": {\"aaxis\": {\"gridcolor\": \"rgb(232,232,232)\", \"linecolor\": \"rgb(36,36,36)\", \"showgrid\": false, \"showline\": true, \"ticks\": \"outside\"}, \"baxis\": {\"gridcolor\": \"rgb(232,232,232)\", \"linecolor\": \"rgb(36,36,36)\", \"showgrid\": false, \"showline\": true, \"ticks\": \"outside\"}, \"bgcolor\": \"white\", \"caxis\": {\"gridcolor\": \"rgb(232,232,232)\", \"linecolor\": \"rgb(36,36,36)\", \"showgrid\": false, \"showline\": true, \"ticks\": \"outside\"}}, \"title\": {\"x\": 0.05}, \"xaxis\": {\"automargin\": true, \"gridcolor\": \"rgb(232,232,232)\", \"linecolor\": \"rgb(36,36,36)\", \"showgrid\": false, \"showline\": true, \"ticks\": \"outside\", \"title\": {\"standoff\": 15}, \"zeroline\": false, \"zerolinecolor\": \"rgb(36,36,36)\"}, \"yaxis\": {\"automargin\": true, \"gridcolor\": \"rgb(232,232,232)\", \"linecolor\": \"rgb(36,36,36)\", \"showgrid\": false, \"showline\": true, \"ticks\": \"outside\", \"title\": {\"standoff\": 15}, \"zeroline\": false, \"zerolinecolor\": \"rgb(36,36,36)\"}}}, \"title\": {\"text\": \"pnni_50\"}, \"width\": 800, \"xaxis\": {\"anchor\": \"y\", \"domain\": [0.0, 1.0], \"title\": {\"text\": \"time\"}}, \"yaxis\": {\"anchor\": \"x\", \"domain\": [0.0, 1.0], \"title\": {\"text\": \"normalized_pnni_50\"}}},\n",
       "                        {\"responsive\": true}\n",
       "                    ).then(function(){\n",
       "                            \n",
       "var gd = document.getElementById('8fc609e5-8450-4acc-813a-8284c1451095');\n",
       "var x = new MutationObserver(function (mutations, observer) {{\n",
       "        var display = window.getComputedStyle(gd).display;\n",
       "        if (!display || display === 'none') {{\n",
       "            console.log([gd, 'removed!']);\n",
       "            Plotly.purge(gd);\n",
       "            observer.disconnect();\n",
       "        }}\n",
       "}});\n",
       "\n",
       "// Listen for the removal of the full notebook cells\n",
       "var notebookContainer = gd.closest('#notebook-container');\n",
       "if (notebookContainer) {{\n",
       "    x.observe(notebookContainer, {childList: true});\n",
       "}}\n",
       "\n",
       "// Listen for the clearing of the current output cell\n",
       "var outputEl = gd.closest('.output');\n",
       "if (outputEl) {{\n",
       "    x.observe(outputEl, {childList: true});\n",
       "}}\n",
       "\n",
       "                        })\n",
       "                };\n",
       "                });\n",
       "            </script>\n",
       "        </div>"
      ]
     },
     "metadata": {},
     "output_type": "display_data"
    }
   ],
   "source": [
    "plot_hrv_all(timedomain_features, 'pnni_50')\n",
    "# change [ hrv_domain_type ('timedomain_features'/'frequencydomain_features', feature name ]to plot all subjects' average value"
   ]
  },
  {
   "cell_type": "code",
   "execution_count": null,
   "metadata": {},
   "outputs": [],
   "source": []
  }
 ],
 "metadata": {
  "kernelspec": {
   "display_name": "Python 3",
   "language": "python",
   "name": "python3"
  },
  "language_info": {
   "codemirror_mode": {
    "name": "ipython",
    "version": 3
   },
   "file_extension": ".py",
   "mimetype": "text/x-python",
   "name": "python",
   "nbconvert_exporter": "python",
   "pygments_lexer": "ipython3",
   "version": "3.7.9"
  },
  "toc": {
   "base_numbering": 1,
   "nav_menu": {},
   "number_sections": true,
   "sideBar": true,
   "skip_h1_title": false,
   "title_cell": "Table of Contents",
   "title_sidebar": "Contents",
   "toc_cell": false,
   "toc_position": {},
   "toc_section_display": true,
   "toc_window_display": false
  }
 },
 "nbformat": 4,
 "nbformat_minor": 4
}
